{
 "cells": [
  {
   "cell_type": "markdown",
   "metadata": {},
   "source": [
    "# Classfication Network Architecture\n",
    "\n",
    "I am unable to get flowers classification network to get a validation accuracy > 48%. Try out different techniques including the same architecture I used to train CIFAR10 images\n",
    "\n",
    "@date: 06-Aug-2020 | @author: katnoria"
   ]
  },
  {
   "cell_type": "code",
   "execution_count": 1,
   "metadata": {},
   "outputs": [],
   "source": [
    "import matplotlib.pyplot as plt\n",
    "import tensorflow as tf\n",
    "import tensorflow_datasets as tfds\n",
    "from tensorflow.keras.layers import Dense, Flatten, Conv2D, MaxPool2D, Dropout\n",
    "from tensorflow.keras.layers import BatchNormalization, Input, GlobalAveragePooling2D\n",
    "from tensorflow.keras import Model"
   ]
  },
  {
   "cell_type": "code",
   "execution_count": 2,
   "metadata": {},
   "outputs": [],
   "source": [
    "def version_info(cls):\n",
    "    print(f\"{cls.__name__}: {cls.__version__}\")"
   ]
  },
  {
   "cell_type": "code",
   "execution_count": 3,
   "metadata": {},
   "outputs": [
    {
     "name": "stdout",
     "output_type": "stream",
     "text": [
      "Version Used in this Notebook:\n",
      "tensorflow: 2.3.0\n",
      "tensorflow_datasets: 3.2.1\n"
     ]
    }
   ],
   "source": [
    "print(\"Version Used in this Notebook:\")\n",
    "version_info(tf)\n",
    "version_info(tfds)"
   ]
  },
  {
   "cell_type": "code",
   "execution_count": 4,
   "metadata": {},
   "outputs": [
    {
     "name": "stdout",
     "output_type": "stream",
     "text": [
      "Num GPUs Available:  2\n"
     ]
    }
   ],
   "source": [
    "print(\"Num GPUs Available: \", len(tf.config.experimental.list_physical_devices('GPU')))"
   ]
  },
  {
   "cell_type": "code",
   "execution_count": 5,
   "metadata": {},
   "outputs": [
    {
     "name": "stdout",
     "output_type": "stream",
     "text": [
      "2 Physical GPUs, 1 Logical GPU\n"
     ]
    }
   ],
   "source": [
    "gpus = tf.config.experimental.list_physical_devices('GPU')\n",
    "if gpus:\n",
    "  # Restrict TensorFlow to only use the first GPU\n",
    "  try:\n",
    "    tf.config.experimental.set_visible_devices(gpus[0], 'GPU')\n",
    "    logical_gpus = tf.config.experimental.list_logical_devices('GPU')\n",
    "    print(len(gpus), \"Physical GPUs,\", len(logical_gpus), \"Logical GPU\")\n",
    "  except RuntimeError as e:\n",
    "    # Visible devices must be set before GPUs have been initialized\n",
    "    print(e)"
   ]
  },
  {
   "cell_type": "markdown",
   "metadata": {},
   "source": [
    "# Dataset\n",
    "\n",
    "Tensorflow Datasets already provides this dataset in a format that we can use out of the box."
   ]
  },
  {
   "cell_type": "code",
   "execution_count": 6,
   "metadata": {},
   "outputs": [],
   "source": [
    "# Load the dataset\n",
    "(ds_train, ds_test), metadata = tfds.load(\n",
    "    'cifar10', split=['train', 'test'], shuffle_files=True, \n",
    "    with_info=True, as_supervised=True\n",
    ")"
   ]
  },
  {
   "cell_type": "code",
   "execution_count": 7,
   "metadata": {},
   "outputs": [
    {
     "data": {
      "text/plain": [
       "(50000, 10000, 10)"
      ]
     },
     "execution_count": 7,
     "metadata": {},
     "output_type": "execute_result"
    }
   ],
   "source": [
    "len(ds_train), len(ds_test), metadata.features['label'].num_classes"
   ]
  },
  {
   "cell_type": "code",
   "execution_count": 8,
   "metadata": {},
   "outputs": [
    {
     "data": {
      "text/plain": [
       "FeaturesDict({\n",
       "    'id': Text(shape=(), dtype=tf.string),\n",
       "    'image': Image(shape=(32, 32, 3), dtype=tf.uint8),\n",
       "    'label': ClassLabel(shape=(), dtype=tf.int64, num_classes=10),\n",
       "})"
      ]
     },
     "execution_count": 8,
     "metadata": {},
     "output_type": "execute_result"
    }
   ],
   "source": [
    "# Review metadata\n",
    "# See https://www.tensorflow.org/datasets/overview\n",
    "metadata.features"
   ]
  },
  {
   "cell_type": "code",
   "execution_count": 9,
   "metadata": {},
   "outputs": [
    {
     "name": "stdout",
     "output_type": "stream",
     "text": [
      "Training dataset size: 50000\n",
      "Test dataset size: 10000\n"
     ]
    }
   ],
   "source": [
    "NUM_CLASSES = metadata.features[\"label\"].num_classes\n",
    "\n",
    "num_train_examples = len(ds_train)\n",
    "num_test_examples = len(ds_test)\n",
    "print(f\"Training dataset size: {num_train_examples}\")\n",
    "print(f\"Test dataset size: {num_test_examples}\")"
   ]
  },
  {
   "cell_type": "markdown",
   "metadata": {},
   "source": [
    "# Use Pretrained Models\n",
    "\n",
    "Instead of training the full model, it is generally a good practice to use a pretrained network as a base model and add your layers on top. \n",
    "This allows us to reduce the training times and leverage on what base model has learned."
   ]
  },
  {
   "cell_type": "code",
   "execution_count": 18,
   "metadata": {},
   "outputs": [],
   "source": [
    "IMG_SIZE = 32\n",
    "BATCH_SIZE = 64"
   ]
  },
  {
   "cell_type": "markdown",
   "metadata": {},
   "source": [
    "Do not use the preprocessing we were using earlier, because we now use a pre-trained network as our feature extractor."
   ]
  },
  {
   "cell_type": "code",
   "execution_count": 19,
   "metadata": {},
   "outputs": [],
   "source": [
    "train_ds = ds_train \\\n",
    "    .cache() \\\n",
    "    .shuffle(num_train_examples).batch(BATCH_SIZE, drop_remainder=True) \\\n",
    "    .prefetch(tf.data.experimental.AUTOTUNE) "
   ]
  },
  {
   "cell_type": "code",
   "execution_count": 20,
   "metadata": {},
   "outputs": [],
   "source": [
    "example = train_ds.take(1)"
   ]
  },
  {
   "cell_type": "code",
   "execution_count": 21,
   "metadata": {},
   "outputs": [
    {
     "data": {
      "image/png": "[encoded data removed]",
      "text/plain": [
       "<Figure size 432x288 with 1 Axes>"
      ]
     },
     "metadata": {
      "needs_background": "light"
     },
     "output_type": "display_data"
    }
   ],
   "source": [
    "for images, labels in example:\n",
    "    plt.imshow(images[0])"
   ]
  },
  {
   "cell_type": "markdown",
   "metadata": {},
   "source": [
    "### Evaluation Pipeline"
   ]
  },
  {
   "cell_type": "code",
   "execution_count": 22,
   "metadata": {},
   "outputs": [],
   "source": [
    "test_ds = ds_test \\\n",
    "    .cache() \\\n",
    "    .batch(BATCH_SIZE, drop_remainder=True) \\\n",
    "    .prefetch(tf.data.experimental.AUTOTUNE) "
   ]
  },
  {
   "cell_type": "code",
   "execution_count": 25,
   "metadata": {},
   "outputs": [],
   "source": [
    "base_model = tf.keras.applications.ResNet50(input_shape=(IMG_SIZE, IMG_SIZE, 3), include_top=False)\n",
    "base_model.trainable = False"
   ]
  },
  {
   "cell_type": "code",
   "execution_count": 26,
   "metadata": {},
   "outputs": [],
   "source": [
    "def get_pretrained_model(base_model):\n",
    "    inputs = Input(shape=(IMG_SIZE, IMG_SIZE, 3))\n",
    "    x = tf.keras.applications.resnet.preprocess_input(inputs)\n",
    "    x = base_model(x, training=False)\n",
    "    x = GlobalAveragePooling2D()(x)\n",
    "#     x = Flatten()(x)\n",
    "#     x = Dense(128, activation='relu')(x)    \n",
    "    x = Dropout(0.3)(x)\n",
    "    outputs = Dense(NUM_CLASSES)(x)\n",
    "    _model = tf.keras.Model(inputs, outputs)    \n",
    "    return _model"
   ]
  },
  {
   "cell_type": "code",
   "execution_count": 27,
   "metadata": {},
   "outputs": [
    {
     "name": "stdout",
     "output_type": "stream",
     "text": [
      "Model: \"functional_1\"\n",
      "_________________________________________________________________\n",
      "Layer (type)                 Output Shape              Param #   \n",
      "=================================================================\n",
      "input_2 (InputLayer)         [(None, 32, 32, 3)]       0         \n",
      "_________________________________________________________________\n",
      "tf_op_layer_strided_slice (T [(None, 32, 32, 3)]       0         \n",
      "_________________________________________________________________\n",
      "tf_op_layer_BiasAdd (TensorF [(None, 32, 32, 3)]       0         \n",
      "_________________________________________________________________\n",
      "resnet50 (Functional)        (None, 1, 1, 2048)        23587712  \n",
      "_________________________________________________________________\n",
      "global_average_pooling2d (Gl (None, 2048)              0         \n",
      "_________________________________________________________________\n",
      "dropout (Dropout)            (None, 2048)              0         \n",
      "_________________________________________________________________\n",
      "dense (Dense)                (None, 10)                20490     \n",
      "=================================================================\n",
      "Total params: 23,608,202\n",
      "Trainable params: 20,490\n",
      "Non-trainable params: 23,587,712\n",
      "_________________________________________________________________\n"
     ]
    }
   ],
   "source": [
    "resnet_model = get_pretrained_model(base_model)\n",
    "resnet_model.summary()"
   ]
  },
  {
   "cell_type": "code",
   "execution_count": 28,
   "metadata": {},
   "outputs": [],
   "source": [
    "lr = 1e-4\n",
    "resnet_model.compile(\n",
    "    optimizer=tf.keras.optimizers.Adam(lr),\n",
    "    loss=tf.keras.losses.SparseCategoricalCrossentropy(from_logits=True),\n",
    "    metrics=['accuracy']\n",
    ")"
   ]
  },
  {
   "cell_type": "code",
   "execution_count": 29,
   "metadata": {},
   "outputs": [
    {
     "name": "stdout",
     "output_type": "stream",
     "text": [
      "156/156 [==============================] - 2s 10ms/step - loss: 6.4664 - accuracy: 0.1017\n"
     ]
    },
    {
     "data": {
      "text/plain": [
       "[6.466416835784912, 0.10166265815496445]"
      ]
     },
     "execution_count": 29,
     "metadata": {},
     "output_type": "execute_result"
    }
   ],
   "source": [
    "# Let's see the eval accuracy before we train the model\n",
    "resnet_model.evaluate(test_ds)"
   ]
  },
  {
   "cell_type": "code",
   "execution_count": 30,
   "metadata": {},
   "outputs": [
    {
     "name": "stdout",
     "output_type": "stream",
     "text": [
      "Epoch 1/50\n",
      "781/781 - 9s - loss: 3.2065 - accuracy: 0.3572 - val_loss: 1.6666 - val_accuracy: 0.5428\n",
      "Epoch 2/50\n",
      "781/781 - 9s - loss: 2.0541 - accuracy: 0.4962 - val_loss: 1.3957 - val_accuracy: 0.5913\n",
      "Epoch 3/50\n",
      "781/781 - 9s - loss: 1.7320 - accuracy: 0.5372 - val_loss: 1.2516 - val_accuracy: 0.6181\n",
      "Epoch 4/50\n",
      "781/781 - 8s - loss: 1.5132 - accuracy: 0.5653 - val_loss: 1.1659 - val_accuracy: 0.6345\n",
      "Epoch 5/50\n",
      "781/781 - 9s - loss: 1.3555 - accuracy: 0.5876 - val_loss: 1.1043 - val_accuracy: 0.6428\n",
      "Epoch 6/50\n",
      "781/781 - 9s - loss: 1.2571 - accuracy: 0.6012 - val_loss: 1.0678 - val_accuracy: 0.6532\n",
      "Epoch 7/50\n",
      "781/781 - 9s - loss: 1.1744 - accuracy: 0.6175 - val_loss: 1.0381 - val_accuracy: 0.6550\n",
      "Epoch 8/50\n",
      "781/781 - 9s - loss: 1.1100 - accuracy: 0.6300 - val_loss: 1.0118 - val_accuracy: 0.6623\n",
      "Epoch 9/50\n",
      "781/781 - 9s - loss: 1.0733 - accuracy: 0.6389 - val_loss: 0.9940 - val_accuracy: 0.6660\n",
      "Epoch 10/50\n",
      "781/781 - 9s - loss: 1.0343 - accuracy: 0.6478 - val_loss: 0.9869 - val_accuracy: 0.6667\n",
      "Epoch 11/50\n",
      "781/781 - 9s - loss: 1.0092 - accuracy: 0.6547 - val_loss: 0.9763 - val_accuracy: 0.6702\n",
      "Epoch 12/50\n",
      "781/781 - 9s - loss: 0.9901 - accuracy: 0.6594 - val_loss: 0.9714 - val_accuracy: 0.6729\n",
      "Epoch 13/50\n",
      "781/781 - 9s - loss: 0.9751 - accuracy: 0.6627 - val_loss: 0.9598 - val_accuracy: 0.6767\n",
      "Epoch 14/50\n",
      "781/781 - 9s - loss: 0.9637 - accuracy: 0.6627 - val_loss: 0.9614 - val_accuracy: 0.6720\n",
      "Epoch 15/50\n",
      "781/781 - 9s - loss: 0.9553 - accuracy: 0.6696 - val_loss: 0.9540 - val_accuracy: 0.6736\n",
      "Epoch 16/50\n",
      "781/781 - 9s - loss: 0.9477 - accuracy: 0.6717 - val_loss: 0.9589 - val_accuracy: 0.6734\n",
      "Epoch 17/50\n",
      "781/781 - 9s - loss: 0.9450 - accuracy: 0.6690 - val_loss: 0.9506 - val_accuracy: 0.6747\n",
      "Epoch 18/50\n",
      "781/781 - 9s - loss: 0.9373 - accuracy: 0.6718 - val_loss: 0.9517 - val_accuracy: 0.6795\n",
      "Epoch 19/50\n",
      "781/781 - 9s - loss: 0.9355 - accuracy: 0.6745 - val_loss: 0.9498 - val_accuracy: 0.6741\n",
      "Epoch 20/50\n",
      "781/781 - 9s - loss: 0.9314 - accuracy: 0.6753 - val_loss: 0.9534 - val_accuracy: 0.6714\n",
      "Epoch 21/50\n",
      "781/781 - 9s - loss: 0.9272 - accuracy: 0.6747 - val_loss: 0.9508 - val_accuracy: 0.6790\n",
      "Epoch 22/50\n",
      "781/781 - 9s - loss: 0.9310 - accuracy: 0.6753 - val_loss: 0.9441 - val_accuracy: 0.6776\n",
      "Epoch 23/50\n",
      "781/781 - 9s - loss: 0.9248 - accuracy: 0.6742 - val_loss: 0.9486 - val_accuracy: 0.6746\n",
      "Epoch 24/50\n",
      "781/781 - 9s - loss: 0.9253 - accuracy: 0.6775 - val_loss: 0.9469 - val_accuracy: 0.6747\n",
      "Epoch 25/50\n",
      "781/781 - 9s - loss: 0.9239 - accuracy: 0.6731 - val_loss: 0.9523 - val_accuracy: 0.6732\n",
      "Epoch 26/50\n",
      "781/781 - 9s - loss: 0.9216 - accuracy: 0.6764 - val_loss: 0.9462 - val_accuracy: 0.6760\n",
      "Epoch 27/50\n",
      "781/781 - 9s - loss: 0.9169 - accuracy: 0.6777 - val_loss: 0.9520 - val_accuracy: 0.6729\n",
      "Epoch 28/50\n",
      "781/781 - 9s - loss: 0.9206 - accuracy: 0.6791 - val_loss: 0.9460 - val_accuracy: 0.6753\n",
      "Epoch 29/50\n",
      "781/781 - 9s - loss: 0.9170 - accuracy: 0.6783 - val_loss: 0.9499 - val_accuracy: 0.6775\n",
      "Epoch 30/50\n",
      "781/781 - 9s - loss: 0.9170 - accuracy: 0.6797 - val_loss: 0.9451 - val_accuracy: 0.6729\n",
      "Epoch 31/50\n",
      "781/781 - 9s - loss: 0.9105 - accuracy: 0.6818 - val_loss: 0.9426 - val_accuracy: 0.6779\n",
      "Epoch 32/50\n",
      "781/781 - 9s - loss: 0.9147 - accuracy: 0.6793 - val_loss: 0.9483 - val_accuracy: 0.6717\n",
      "Epoch 33/50\n",
      "781/781 - 9s - loss: 0.9130 - accuracy: 0.6788 - val_loss: 0.9527 - val_accuracy: 0.6741\n",
      "Epoch 34/50\n",
      "781/781 - 9s - loss: 0.9132 - accuracy: 0.6778 - val_loss: 0.9431 - val_accuracy: 0.6729\n",
      "Epoch 35/50\n",
      "781/781 - 9s - loss: 0.9165 - accuracy: 0.6799 - val_loss: 0.9457 - val_accuracy: 0.6758\n",
      "Epoch 36/50\n",
      "781/781 - 9s - loss: 0.9134 - accuracy: 0.6797 - val_loss: 0.9478 - val_accuracy: 0.6746\n",
      "Epoch 37/50\n",
      "781/781 - 9s - loss: 0.9147 - accuracy: 0.6772 - val_loss: 0.9494 - val_accuracy: 0.6764\n",
      "Epoch 38/50\n",
      "781/781 - 9s - loss: 0.9143 - accuracy: 0.6793 - val_loss: 0.9504 - val_accuracy: 0.6749\n",
      "Epoch 39/50\n",
      "781/781 - 9s - loss: 0.9149 - accuracy: 0.6785 - val_loss: 0.9467 - val_accuracy: 0.6735\n",
      "Epoch 40/50\n",
      "781/781 - 9s - loss: 0.9106 - accuracy: 0.6791 - val_loss: 0.9494 - val_accuracy: 0.6772\n",
      "Epoch 41/50\n",
      "781/781 - 9s - loss: 0.9109 - accuracy: 0.6805 - val_loss: 0.9455 - val_accuracy: 0.6771\n",
      "Epoch 42/50\n",
      "781/781 - 9s - loss: 0.9139 - accuracy: 0.6781 - val_loss: 0.9481 - val_accuracy: 0.6719\n",
      "Epoch 43/50\n",
      "781/781 - 9s - loss: 0.9109 - accuracy: 0.6800 - val_loss: 0.9484 - val_accuracy: 0.6752\n",
      "Epoch 44/50\n",
      "781/781 - 9s - loss: 0.9120 - accuracy: 0.6792 - val_loss: 0.9456 - val_accuracy: 0.6732\n",
      "Epoch 45/50\n",
      "781/781 - 9s - loss: 0.9137 - accuracy: 0.6785 - val_loss: 0.9481 - val_accuracy: 0.6748\n",
      "Epoch 46/50\n",
      "781/781 - 9s - loss: 0.9112 - accuracy: 0.6791 - val_loss: 0.9509 - val_accuracy: 0.6736\n",
      "Epoch 47/50\n",
      "781/781 - 9s - loss: 0.9111 - accuracy: 0.6819 - val_loss: 0.9510 - val_accuracy: 0.6748\n",
      "Epoch 48/50\n",
      "781/781 - 9s - loss: 0.9108 - accuracy: 0.6798 - val_loss: 0.9559 - val_accuracy: 0.6725\n",
      "Epoch 49/50\n",
      "781/781 - 9s - loss: 0.9113 - accuracy: 0.6800 - val_loss: 0.9506 - val_accuracy: 0.6752\n",
      "Epoch 50/50\n",
      "781/781 - 9s - loss: 0.9106 - accuracy: 0.6768 - val_loss: 0.9499 - val_accuracy: 0.6756\n"
     ]
    }
   ],
   "source": [
    "# We are going to train for 50 epochs\n",
    "history = resnet_model.fit(train_ds, epochs=50, validation_data=test_ds, verbose=2)"
   ]
  },
  {
   "cell_type": "markdown",
   "metadata": {},
   "source": [
    "### Plot the plots"
   ]
  },
  {
   "cell_type": "code",
   "execution_count": 37,
   "metadata": {},
   "outputs": [],
   "source": [
    "def plot_history(history):\n",
    "    plt.style.use('seaborn')\n",
    "    acc = history.history['accuracy']\n",
    "    val_acc = history.history['val_accuracy']\n",
    "    \n",
    "    fig, (ax1, ax2) = plt.subplots(1, 2, figsize=(14, 6))    \n",
    "\n",
    "    ax1.plot(acc, label=\"Training Accuracy\")\n",
    "    ax1.plot(val_acc, label=\"Validation Accuracy\")\n",
    "    ax1.set_xlabel('Epochs')\n",
    "    ax1.set_ylabel('Accuracy')    \n",
    "    ax1.legend(loc='lower right')\n",
    "    ax1.set_title(\"Training and Validation Accuracy\")\n",
    "    \n",
    "    loss = history.history['loss']\n",
    "    val_loss = history.history['val_loss']\n",
    "    ax2.plot(loss, label=\"Training Loss\")\n",
    "    ax2.plot(val_loss, label=\"Validation Loss\")\n",
    "    ax2.set_xlabel('Epochs')\n",
    "    ax2.set_ylabel('Loss')    \n",
    "    ax2.legend(loc='upper right')\n",
    "    ax2.set_title(\"Training and Validation Loss\")\n",
    "    \n",
    "    plt.show()"
   ]
  },
  {
   "cell_type": "code",
   "execution_count": 38,
   "metadata": {},
   "outputs": [
    {
     "data": {
      "image/png": "[encoded data removed]",
      "text/plain": [
       "<Figure size 1008x432 with 2 Axes>"
      ]
     },
     "metadata": {},
     "output_type": "display_data"
    }
   ],
   "source": [
    "plot_history(history)"
   ]
  },
  {
   "cell_type": "markdown",
   "metadata": {},
   "source": [
    "# Data Augmentation"
   ]
  },
  {
   "cell_type": "code",
   "execution_count": 39,
   "metadata": {},
   "outputs": [],
   "source": [
    "transforms = tf.keras.Sequential([\n",
    "    tf.keras.layers.experimental.preprocessing.RandomFlip('horizontal'),\n",
    "    tf.keras.layers.experimental.preprocessing.RandomRotation(0.2),\n",
    "])"
   ]
  },
  {
   "cell_type": "code",
   "execution_count": 40,
   "metadata": {},
   "outputs": [],
   "source": [
    "def get_pretrained_model(base_model, transforms=None):\n",
    "    inputs = Input(shape=(IMG_SIZE, IMG_SIZE, 3))\n",
    "    if transforms is not None:\n",
    "        x = transforms(inputs)\n",
    "    x = tf.keras.applications.resnet.preprocess_input(inputs)\n",
    "    x = base_model(x, training=False)\n",
    "    x = GlobalAveragePooling2D()(x)\n",
    "#     x = Flatten()(x)\n",
    "#     x = Dense(128, activation='relu')(x)    \n",
    "    x = Dropout(0.3)(x)\n",
    "    outputs = Dense(NUM_CLASSES)(x)\n",
    "    _model = tf.keras.Model(inputs, outputs)    \n",
    "    return _model"
   ]
  },
  {
   "cell_type": "code",
   "execution_count": 41,
   "metadata": {},
   "outputs": [
    {
     "name": "stdout",
     "output_type": "stream",
     "text": [
      "Model: \"functional_3\"\n",
      "_________________________________________________________________\n",
      "Layer (type)                 Output Shape              Param #   \n",
      "=================================================================\n",
      "input_3 (InputLayer)         [(None, 32, 32, 3)]       0         \n",
      "_________________________________________________________________\n",
      "tf_op_layer_strided_slice_1  [(None, 32, 32, 3)]       0         \n",
      "_________________________________________________________________\n",
      "tf_op_layer_BiasAdd_1 (Tenso [(None, 32, 32, 3)]       0         \n",
      "_________________________________________________________________\n",
      "resnet50 (Functional)        (None, 1, 1, 2048)        23587712  \n",
      "_________________________________________________________________\n",
      "global_average_pooling2d_1 ( (None, 2048)              0         \n",
      "_________________________________________________________________\n",
      "dropout_1 (Dropout)          (None, 2048)              0         \n",
      "_________________________________________________________________\n",
      "dense_1 (Dense)              (None, 10)                20490     \n",
      "=================================================================\n",
      "Total params: 23,608,202\n",
      "Trainable params: 20,490\n",
      "Non-trainable params: 23,587,712\n",
      "_________________________________________________________________\n"
     ]
    }
   ],
   "source": [
    "resnet_model_v2 = get_pretrained_model(base_model, transforms)\n",
    "resnet_model_v2.summary()"
   ]
  },
  {
   "cell_type": "code",
   "execution_count": 42,
   "metadata": {},
   "outputs": [],
   "source": [
    "lr = 1e-4\n",
    "resnet_model_v2.compile(\n",
    "    optimizer=tf.keras.optimizers.Adam(lr),\n",
    "    loss=tf.keras.losses.SparseCategoricalCrossentropy(from_logits=True),\n",
    "    metrics=['accuracy']\n",
    ")"
   ]
  },
  {
   "cell_type": "code",
   "execution_count": 43,
   "metadata": {},
   "outputs": [
    {
     "name": "stdout",
     "output_type": "stream",
     "text": [
      "  1/156 [..............................] - ETA: 0s - loss: 6.6830 - accuracy: 0.0625WARNING:tensorflow:Callbacks method `on_test_batch_end` is slow compared to the batch time (batch time: 0.0036s vs `on_test_batch_end` time: 0.0056s). Check your callbacks.\n"
     ]
    },
    {
     "name": "stderr",
     "output_type": "stream",
     "text": [
      "WARNING:tensorflow:Callbacks method `on_test_batch_end` is slow compared to the batch time (batch time: 0.0036s vs `on_test_batch_end` time: 0.0056s). Check your callbacks.\n"
     ]
    },
    {
     "name": "stdout",
     "output_type": "stream",
     "text": [
      "156/156 [==============================] - 1s 9ms/step - loss: 6.3933 - accuracy: 0.1025\n"
     ]
    },
    {
     "data": {
      "text/plain": [
       "[6.393298625946045, 0.10246394574642181]"
      ]
     },
     "execution_count": 43,
     "metadata": {},
     "output_type": "execute_result"
    }
   ],
   "source": [
    "# Let's see the eval accuracy before we train the model\n",
    "resnet_model_v2.evaluate(test_ds)"
   ]
  },
  {
   "cell_type": "code",
   "execution_count": 44,
   "metadata": {},
   "outputs": [
    {
     "name": "stdout",
     "output_type": "stream",
     "text": [
      "Epoch 1/50\n",
      "781/781 - 9s - loss: 3.1533 - accuracy: 0.3558 - val_loss: 1.6378 - val_accuracy: 0.5380\n",
      "Epoch 2/50\n",
      "781/781 - 9s - loss: 2.0302 - accuracy: 0.4958 - val_loss: 1.3916 - val_accuracy: 0.5843\n",
      "Epoch 3/50\n",
      "781/781 - 9s - loss: 1.7090 - accuracy: 0.5390 - val_loss: 1.2529 - val_accuracy: 0.6128\n",
      "Epoch 4/50\n",
      "781/781 - 9s - loss: 1.5116 - accuracy: 0.5657 - val_loss: 1.1700 - val_accuracy: 0.6278\n",
      "Epoch 5/50\n",
      "781/781 - 8s - loss: 1.3587 - accuracy: 0.5855 - val_loss: 1.1075 - val_accuracy: 0.6359\n",
      "Epoch 6/50\n",
      "781/781 - 9s - loss: 1.2467 - accuracy: 0.6045 - val_loss: 1.0717 - val_accuracy: 0.6452\n",
      "Epoch 7/50\n",
      "781/781 - 9s - loss: 1.1678 - accuracy: 0.6186 - val_loss: 1.0426 - val_accuracy: 0.6501\n",
      "Epoch 8/50\n",
      "781/781 - 9s - loss: 1.1195 - accuracy: 0.6307 - val_loss: 1.0149 - val_accuracy: 0.6564\n",
      "Epoch 9/50\n",
      "781/781 - 9s - loss: 1.0686 - accuracy: 0.6429 - val_loss: 0.9958 - val_accuracy: 0.6625\n",
      "Epoch 10/50\n",
      "781/781 - 9s - loss: 1.0339 - accuracy: 0.6481 - val_loss: 0.9852 - val_accuracy: 0.6635\n",
      "Epoch 11/50\n",
      "781/781 - 9s - loss: 1.0108 - accuracy: 0.6515 - val_loss: 0.9805 - val_accuracy: 0.6637\n",
      "Epoch 12/50\n",
      "781/781 - 9s - loss: 0.9941 - accuracy: 0.6561 - val_loss: 0.9746 - val_accuracy: 0.6654\n",
      "Epoch 13/50\n",
      "781/781 - 9s - loss: 0.9791 - accuracy: 0.6611 - val_loss: 0.9629 - val_accuracy: 0.6694\n",
      "Epoch 14/50\n",
      "781/781 - 9s - loss: 0.9665 - accuracy: 0.6647 - val_loss: 0.9594 - val_accuracy: 0.6706\n",
      "Epoch 15/50\n",
      "781/781 - 9s - loss: 0.9529 - accuracy: 0.6683 - val_loss: 0.9599 - val_accuracy: 0.6705\n",
      "Epoch 16/50\n",
      "781/781 - 9s - loss: 0.9508 - accuracy: 0.6695 - val_loss: 0.9534 - val_accuracy: 0.6729\n",
      "Epoch 17/50\n",
      "781/781 - 9s - loss: 0.9471 - accuracy: 0.6691 - val_loss: 0.9617 - val_accuracy: 0.6706\n",
      "Epoch 18/50\n",
      "781/781 - 9s - loss: 0.9426 - accuracy: 0.6717 - val_loss: 0.9535 - val_accuracy: 0.6743\n",
      "Epoch 19/50\n",
      "781/781 - 9s - loss: 0.9356 - accuracy: 0.6731 - val_loss: 0.9553 - val_accuracy: 0.6733\n",
      "Epoch 20/50\n",
      "781/781 - 9s - loss: 0.9309 - accuracy: 0.6729 - val_loss: 0.9555 - val_accuracy: 0.6746\n",
      "Epoch 21/50\n",
      "781/781 - 9s - loss: 0.9315 - accuracy: 0.6729 - val_loss: 0.9508 - val_accuracy: 0.6743\n",
      "Epoch 22/50\n",
      "781/781 - 9s - loss: 0.9236 - accuracy: 0.6774 - val_loss: 0.9498 - val_accuracy: 0.6748\n",
      "Epoch 23/50\n",
      "781/781 - 9s - loss: 0.9271 - accuracy: 0.6758 - val_loss: 0.9495 - val_accuracy: 0.6753\n",
      "Epoch 24/50\n",
      "781/781 - 9s - loss: 0.9232 - accuracy: 0.6768 - val_loss: 0.9470 - val_accuracy: 0.6723\n",
      "Epoch 25/50\n",
      "781/781 - 9s - loss: 0.9188 - accuracy: 0.6772 - val_loss: 0.9548 - val_accuracy: 0.6724\n",
      "Epoch 26/50\n",
      "781/781 - 9s - loss: 0.9216 - accuracy: 0.6745 - val_loss: 0.9492 - val_accuracy: 0.6731\n",
      "Epoch 27/50\n",
      "781/781 - 9s - loss: 0.9232 - accuracy: 0.6758 - val_loss: 0.9541 - val_accuracy: 0.6680\n",
      "Epoch 28/50\n",
      "781/781 - 9s - loss: 0.9184 - accuracy: 0.6778 - val_loss: 0.9511 - val_accuracy: 0.6727\n",
      "Epoch 29/50\n",
      "781/781 - 9s - loss: 0.9174 - accuracy: 0.6777 - val_loss: 0.9474 - val_accuracy: 0.6768\n",
      "Epoch 30/50\n",
      "781/781 - 9s - loss: 0.9145 - accuracy: 0.6788 - val_loss: 0.9475 - val_accuracy: 0.6754\n",
      "Epoch 31/50\n",
      "781/781 - 9s - loss: 0.9193 - accuracy: 0.6788 - val_loss: 0.9507 - val_accuracy: 0.6757\n",
      "Epoch 32/50\n",
      "781/781 - 9s - loss: 0.9170 - accuracy: 0.6788 - val_loss: 0.9484 - val_accuracy: 0.6762\n",
      "Epoch 33/50\n",
      "781/781 - 9s - loss: 0.9144 - accuracy: 0.6789 - val_loss: 0.9526 - val_accuracy: 0.6734\n",
      "Epoch 34/50\n",
      "781/781 - 9s - loss: 0.9129 - accuracy: 0.6774 - val_loss: 0.9476 - val_accuracy: 0.6753\n",
      "Epoch 35/50\n",
      "781/781 - 9s - loss: 0.9158 - accuracy: 0.6801 - val_loss: 0.9480 - val_accuracy: 0.6728\n",
      "Epoch 36/50\n",
      "781/781 - 9s - loss: 0.9148 - accuracy: 0.6785 - val_loss: 0.9498 - val_accuracy: 0.6748\n",
      "Epoch 37/50\n",
      "781/781 - 9s - loss: 0.9182 - accuracy: 0.6781 - val_loss: 0.9497 - val_accuracy: 0.6721\n",
      "Epoch 38/50\n",
      "781/781 - 9s - loss: 0.9157 - accuracy: 0.6773 - val_loss: 0.9540 - val_accuracy: 0.6731\n",
      "Epoch 39/50\n",
      "781/781 - 9s - loss: 0.9118 - accuracy: 0.6806 - val_loss: 0.9537 - val_accuracy: 0.6756\n",
      "Epoch 40/50\n",
      "781/781 - 9s - loss: 0.9126 - accuracy: 0.6814 - val_loss: 0.9460 - val_accuracy: 0.6785\n",
      "Epoch 41/50\n",
      "781/781 - 9s - loss: 0.9118 - accuracy: 0.6806 - val_loss: 0.9472 - val_accuracy: 0.6768\n",
      "Epoch 42/50\n",
      "781/781 - 9s - loss: 0.9112 - accuracy: 0.6801 - val_loss: 0.9539 - val_accuracy: 0.6727\n",
      "Epoch 43/50\n",
      "781/781 - 9s - loss: 0.9137 - accuracy: 0.6806 - val_loss: 0.9534 - val_accuracy: 0.6737\n",
      "Epoch 44/50\n",
      "781/781 - 9s - loss: 0.9147 - accuracy: 0.6790 - val_loss: 0.9516 - val_accuracy: 0.6734\n",
      "Epoch 45/50\n",
      "781/781 - 8s - loss: 0.9118 - accuracy: 0.6791 - val_loss: 0.9507 - val_accuracy: 0.6752\n",
      "Epoch 46/50\n",
      "781/781 - 9s - loss: 0.9122 - accuracy: 0.6784 - val_loss: 0.9545 - val_accuracy: 0.6747\n",
      "Epoch 47/50\n",
      "781/781 - 9s - loss: 0.9102 - accuracy: 0.6804 - val_loss: 0.9442 - val_accuracy: 0.6748\n",
      "Epoch 48/50\n",
      "781/781 - 9s - loss: 0.9103 - accuracy: 0.6770 - val_loss: 0.9520 - val_accuracy: 0.6738\n",
      "Epoch 49/50\n",
      "781/781 - 9s - loss: 0.9089 - accuracy: 0.6808 - val_loss: 0.9547 - val_accuracy: 0.6710\n",
      "Epoch 50/50\n",
      "781/781 - 9s - loss: 0.9082 - accuracy: 0.6811 - val_loss: 0.9484 - val_accuracy: 0.6755\n"
     ]
    }
   ],
   "source": [
    "# We are going to train for 50 epochs\n",
    "history = resnet_model_v2.fit(train_ds, epochs=50, validation_data=test_ds, verbose=2)"
   ]
  },
  {
   "cell_type": "code",
   "execution_count": 45,
   "metadata": {},
   "outputs": [
    {
     "data": {
      "image/png": "[encoded data removed]",
      "text/plain": [
       "<Figure size 1008x432 with 2 Axes>"
      ]
     },
     "metadata": {},
     "output_type": "display_data"
    }
   ],
   "source": [
    "plot_history(history)"
   ]
  },
  {
   "cell_type": "code",
   "execution_count": null,
   "metadata": {},
   "outputs": [],
   "source": []
  }
 ],
 "metadata": {
  "kernelspec": {
   "display_name": "Python [conda env:tf2_3]",
   "language": "python",
   "name": "conda-env-tf2_3-py"
  },
  "language_info": {
   "codemirror_mode": {
    "name": "ipython",
    "version": 3
   },
   "file_extension": ".py",
   "mimetype": "text/x-python",
   "name": "python",
   "nbconvert_exporter": "python",
   "pygments_lexer": "ipython3",
   "version": "3.6.11"
  }
 },
 "nbformat": 4,
 "nbformat_minor": 4
}
