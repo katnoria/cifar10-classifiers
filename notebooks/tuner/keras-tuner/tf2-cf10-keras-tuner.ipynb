{
 "cells": [
  {
   "cell_type": "markdown",
   "metadata": {},
   "source": [
    "# Keras Tuner\n",
    "\n",
    "In this notebook, we turn to hyperparameter tuning using Keras Tuner.  Our objective is to find better hyperparams and network architecture. Although we will not spend too much time on network architecture, you probably will get enough information to try on your own.\n",
    "\n",
    "@Date: 13-Sep-2020 | @Author: Katnoria"
   ]
  },
  {
   "cell_type": "code",
   "execution_count": 1,
   "metadata": {},
   "outputs": [],
   "source": [
    "import kerastuner as kt\n",
    "import tensorflow as tf\n",
    "import tensorflow_datasets as tfds\n",
    "import IPython"
   ]
  },
  {
   "cell_type": "code",
   "execution_count": 2,
   "metadata": {},
   "outputs": [],
   "source": [
    "gpus = tf.config.experimental.list_physical_devices('GPU')\n",
    "if gpus:\n",
    "  # Restrict TensorFlow to only use the first GPU\n",
    "  try:\n",
    "    tf.config.experimental.set_visible_devices(gpus[0], 'GPU')\n",
    "    logical_gpus = tf.config.experimental.list_logical_devices('GPU')\n",
    "    print(len(gpus), \"Physical GPUs,\", len(logical_gpus), \"Logical GPU\")\n",
    "  except RuntimeError as e:\n",
    "    # Visible devices must be set before GPUs have been initialized\n",
    "    print(e)"
   ]
  },
  {
   "cell_type": "code",
   "execution_count": 3,
   "metadata": {},
   "outputs": [],
   "source": [
    "def build_model(hp):\n",
    "    inputs = tf.keras.Input(shape=(32, 32, 3))\n",
    "    x = inputs\n",
    "    for i in range(hp.Int('conv_blocks', 3, 5, default=3)):\n",
    "        filters = hp.Int('filters_' + str(i), 32, 256, step=32)\n",
    "        for _ in range(2):\n",
    "            x = tf.keras.layers.Convolution2D(\n",
    "              filters, kernel_size=(3, 3), padding='same')(x)\n",
    "            x = tf.keras.layers.BatchNormalization()(x)\n",
    "            x = tf.keras.layers.ReLU()(x)\n",
    "        if hp.Choice('pooling_' + str(i), ['avg', 'max']) == 'max':\n",
    "            x = tf.keras.layers.MaxPool2D()(x)\n",
    "        else:\n",
    "            x = tf.keras.layers.AvgPool2D()(x)\n",
    "    x = tf.keras.layers.GlobalAvgPool2D()(x)\n",
    "    x = tf.keras.layers.Dense(\n",
    "      hp.Int('hidden_size', 30, 100, step=10, default=50),\n",
    "      activation='relu')(x)\n",
    "    x = tf.keras.layers.Dropout(\n",
    "      hp.Float('dropout', 0, 0.5, step=0.1, default=0.5))(x)\n",
    "    outputs = tf.keras.layers.Dense(10, activation='softmax')(x)\n",
    "\n",
    "    model = tf.keras.Model(inputs, outputs)\n",
    "    model.compile(\n",
    "      optimizer=tf.keras.optimizers.Adam(\n",
    "        hp.Float('learning_rate', 1e-4, 1e-2, sampling='log')),\n",
    "      loss='sparse_categorical_crossentropy',\n",
    "      metrics=['accuracy'])\n",
    "    return model"
   ]
  },
  {
   "cell_type": "code",
   "execution_count": 4,
   "metadata": {},
   "outputs": [
    {
     "name": "stdout",
     "output_type": "stream",
     "text": [
      "INFO:tensorflow:Reloading Oracle from existing project ./untitled_project/oracle.json\n"
     ]
    }
   ],
   "source": [
    "tuner = kt.Hyperband(\n",
    "    build_model,\n",
    "    objective='val_accuracy',\n",
    "    max_epochs=30,\n",
    "    hyperband_iterations=2)"
   ]
  },
  {
   "cell_type": "code",
   "execution_count": 5,
   "metadata": {},
   "outputs": [],
   "source": [
    "data = tfds.load('cifar10')\n",
    "train_ds, test_ds = data['train'], data['test']\n",
    "\n",
    "\n",
    "def standardize_record(record):\n",
    "    return tf.cast(record['image'], tf.float32) / 255., record['label']"
   ]
  },
  {
   "cell_type": "code",
   "execution_count": 6,
   "metadata": {},
   "outputs": [],
   "source": [
    "train_ds = train_ds.map(standardize_record).cache().batch(64).shuffle(10000)\n",
    "test_ds = test_ds.map(standardize_record).cache().batch(64)"
   ]
  },
  {
   "cell_type": "code",
   "execution_count": 7,
   "metadata": {},
   "outputs": [],
   "source": [
    "class ClearTrainingOutput(tf.keras.callbacks.Callback):\n",
    "  def on_train_end(*args, **kwargs):\n",
    "    IPython.display.clear_output(wait = True)"
   ]
  },
  {
   "cell_type": "code",
   "execution_count": 8,
   "metadata": {
    "collapsed": true,
    "jupyter": {
     "outputs_hidden": true
    }
   },
   "outputs": [
    {
     "name": "stdout",
     "output_type": "stream",
     "text": [
      "Epoch 1/2\n",
      "191/782 [======>.......................] - ETA: 0s - loss: 2.3206 - accuracy: 0.10 - ETA: 4:33 - loss: 2.3002 - accuracy: 0.10 - ETA: 6:04 - loss: 2.2969 - accuracy: 0.10 - ETA: 6:48 - loss: 2.2951 - accuracy: 0.10 - ETA: 7:16 - loss: 2.2903 - accuracy: 0.10 - ETA: 7:33 - loss: 2.2817 - accuracy: 0.12 - ETA: 7:45 - loss: 2.2724 - accuracy: 0.12 - ETA: 7:52 - loss: 2.2679 - accuracy: 0.12 - ETA: 7:56 - loss: 2.2615 - accuracy: 0.13 - ETA: 7:59 - loss: 2.2532 - accuracy: 0.13 - ETA: 8:04 - loss: 2.2451 - accuracy: 0.14 - ETA: 8:05 - loss: 2.2382 - accuracy: 0.15 - ETA: 8:06 - loss: 2.2377 - accuracy: 0.15 - ETA: 8:07 - loss: 2.2354 - accuracy: 0.16 - ETA: 8:08 - loss: 2.2316 - accuracy: 0.16 - ETA: 8:09 - loss: 2.2264 - accuracy: 0.17 - ETA: 8:11 - loss: 2.2198 - accuracy: 0.17 - ETA: 8:12 - loss: 2.2161 - accuracy: 0.18 - ETA: 8:12 - loss: 2.2142 - accuracy: 0.18 - ETA: 8:12 - loss: 2.2089 - accuracy: 0.18 - ETA: 8:13 - loss: 2.2029 - accuracy: 0.18 - ETA: 8:14 - loss: 2.1978 - accuracy: 0.19 - ETA: 8:15 - loss: 2.1953 - accuracy: 0.19 - ETA: 8:16 - loss: 2.1928 - accuracy: 0.19 - ETA: 8:17 - loss: 2.1882 - accuracy: 0.20 - ETA: 8:17 - loss: 2.1872 - accuracy: 0.20 - ETA: 8:17 - loss: 2.1813 - accuracy: 0.20 - ETA: 8:16 - loss: 2.1760 - accuracy: 0.20 - ETA: 8:16 - loss: 2.1742 - accuracy: 0.20 - ETA: 8:15 - loss: 2.1695 - accuracy: 0.20 - ETA: 8:15 - loss: 2.1659 - accuracy: 0.20 - ETA: 8:14 - loss: 2.1621 - accuracy: 0.21 - ETA: 8:14 - loss: 2.1592 - accuracy: 0.21 - ETA: 8:13 - loss: 2.1559 - accuracy: 0.21 - ETA: 8:12 - loss: 2.1527 - accuracy: 0.21 - ETA: 8:12 - loss: 2.1503 - accuracy: 0.21 - ETA: 8:11 - loss: 2.1477 - accuracy: 0.21 - ETA: 8:10 - loss: 2.1428 - accuracy: 0.22 - ETA: 8:10 - loss: 2.1387 - accuracy: 0.22 - ETA: 8:09 - loss: 2.1365 - accuracy: 0.22 - ETA: 8:08 - loss: 2.1342 - accuracy: 0.22 - ETA: 8:08 - loss: 2.1303 - accuracy: 0.22 - ETA: 8:07 - loss: 2.1267 - accuracy: 0.22 - ETA: 8:07 - loss: 2.1223 - accuracy: 0.23 - ETA: 8:06 - loss: 2.1219 - accuracy: 0.23 - ETA: 8:05 - loss: 2.1181 - accuracy: 0.23 - ETA: 8:04 - loss: 2.1132 - accuracy: 0.24 - ETA: 8:04 - loss: 2.1094 - accuracy: 0.24 - ETA: 8:03 - loss: 2.1082 - accuracy: 0.24 - ETA: 8:03 - loss: 2.1036 - accuracy: 0.24 - ETA: 8:02 - loss: 2.0999 - accuracy: 0.24 - ETA: 8:01 - loss: 2.0985 - accuracy: 0.24 - ETA: 8:01 - loss: 2.0960 - accuracy: 0.24 - ETA: 8:00 - loss: 2.0943 - accuracy: 0.24 - ETA: 7:59 - loss: 2.0922 - accuracy: 0.24 - ETA: 7:59 - loss: 2.0874 - accuracy: 0.25 - ETA: 7:58 - loss: 2.0850 - accuracy: 0.25 - ETA: 7:57 - loss: 2.0822 - accuracy: 0.25 - ETA: 7:57 - loss: 2.0784 - accuracy: 0.25 - ETA: 7:56 - loss: 2.0752 - accuracy: 0.25 - ETA: 7:56 - loss: 2.0723 - accuracy: 0.25 - ETA: 7:55 - loss: 2.0711 - accuracy: 0.25 - ETA: 7:54 - loss: 2.0675 - accuracy: 0.26 - ETA: 7:54 - loss: 2.0645 - accuracy: 0.26 - ETA: 7:53 - loss: 2.0635 - accuracy: 0.26 - ETA: 7:52 - loss: 2.0608 - accuracy: 0.26 - ETA: 7:52 - loss: 2.0580 - accuracy: 0.26 - ETA: 7:51 - loss: 2.0540 - accuracy: 0.26 - ETA: 7:50 - loss: 2.0528 - accuracy: 0.26 - ETA: 7:50 - loss: 2.0513 - accuracy: 0.26 - ETA: 7:49 - loss: 2.0483 - accuracy: 0.27 - ETA: 7:48 - loss: 2.0459 - accuracy: 0.27 - ETA: 7:48 - loss: 2.0416 - accuracy: 0.27 - ETA: 7:47 - loss: 2.0394 - accuracy: 0.27 - ETA: 7:46 - loss: 2.0370 - accuracy: 0.27 - ETA: 7:46 - loss: 2.0341 - accuracy: 0.27 - ETA: 7:45 - loss: 2.0325 - accuracy: 0.27 - ETA: 7:45 - loss: 2.0296 - accuracy: 0.27 - ETA: 7:44 - loss: 2.0270 - accuracy: 0.28 - ETA: 7:43 - loss: 2.0232 - accuracy: 0.28 - ETA: 7:43 - loss: 2.0213 - accuracy: 0.28 - ETA: 7:42 - loss: 2.0196 - accuracy: 0.28 - ETA: 7:41 - loss: 2.0192 - accuracy: 0.28 - ETA: 7:41 - loss: 2.0169 - accuracy: 0.28 - ETA: 7:40 - loss: 2.0150 - accuracy: 0.28 - ETA: 7:39 - loss: 2.0120 - accuracy: 0.28 - ETA: 7:39 - loss: 2.0084 - accuracy: 0.28 - ETA: 7:38 - loss: 2.0065 - accuracy: 0.28 - ETA: 7:37 - loss: 2.0048 - accuracy: 0.28 - ETA: 7:37 - loss: 2.0031 - accuracy: 0.29 - ETA: 7:36 - loss: 2.0021 - accuracy: 0.29 - ETA: 7:35 - loss: 2.0006 - accuracy: 0.29 - ETA: 7:35 - loss: 1.9993 - accuracy: 0.29 - ETA: 7:34 - loss: 1.9974 - accuracy: 0.29 - ETA: 7:33 - loss: 1.9957 - accuracy: 0.29 - ETA: 7:33 - loss: 1.9939 - accuracy: 0.29 - ETA: 7:32 - loss: 1.9916 - accuracy: 0.29 - ETA: 7:31 - loss: 1.9909 - accuracy: 0.29 - ETA: 7:31 - loss: 1.9893 - accuracy: 0.29 - ETA: 7:30 - loss: 1.9870 - accuracy: 0.29 - ETA: 7:30 - loss: 1.9849 - accuracy: 0.29 - ETA: 7:29 - loss: 1.9822 - accuracy: 0.29 - ETA: 7:29 - loss: 1.9803 - accuracy: 0.29 - ETA: 7:29 - loss: 1.9781 - accuracy: 0.29 - ETA: 7:28 - loss: 1.9763 - accuracy: 0.29 - ETA: 7:28 - loss: 1.9749 - accuracy: 0.29 - ETA: 7:27 - loss: 1.9726 - accuracy: 0.29 - ETA: 7:26 - loss: 1.9706 - accuracy: 0.30 - ETA: 7:26 - loss: 1.9680 - accuracy: 0.30 - ETA: 7:25 - loss: 1.9666 - accuracy: 0.30 - ETA: 7:24 - loss: 1.9652 - accuracy: 0.30 - ETA: 7:24 - loss: 1.9627 - accuracy: 0.30 - ETA: 7:23 - loss: 1.9603 - accuracy: 0.30 - ETA: 7:22 - loss: 1.9573 - accuracy: 0.30 - ETA: 7:22 - loss: 1.9548 - accuracy: 0.30 - ETA: 7:21 - loss: 1.9528 - accuracy: 0.30 - ETA: 7:20 - loss: 1.9517 - accuracy: 0.30 - ETA: 7:20 - loss: 1.9508 - accuracy: 0.30 - ETA: 7:19 - loss: 1.9492 - accuracy: 0.30 - ETA: 7:18 - loss: 1.9479 - accuracy: 0.30 - ETA: 7:18 - loss: 1.9456 - accuracy: 0.30 - ETA: 7:17 - loss: 1.9443 - accuracy: 0.31 - ETA: 7:16 - loss: 1.9432 - accuracy: 0.31 - ETA: 7:16 - loss: 1.9418 - accuracy: 0.31 - ETA: 7:15 - loss: 1.9400 - accuracy: 0.31 - ETA: 7:14 - loss: 1.9378 - accuracy: 0.31 - ETA: 7:14 - loss: 1.9354 - accuracy: 0.31 - ETA: 7:13 - loss: 1.9335 - accuracy: 0.31 - ETA: 7:12 - loss: 1.9315 - accuracy: 0.31 - ETA: 7:12 - loss: 1.9292 - accuracy: 0.31 - ETA: 7:11 - loss: 1.9269 - accuracy: 0.31 - ETA: 7:10 - loss: 1.9254 - accuracy: 0.31 - ETA: 7:10 - loss: 1.9251 - accuracy: 0.31 - ETA: 7:09 - loss: 1.9232 - accuracy: 0.31 - ETA: 7:08 - loss: 1.9207 - accuracy: 0.31 - ETA: 7:08 - loss: 1.9176 - accuracy: 0.31 - ETA: 7:07 - loss: 1.9155 - accuracy: 0.31 - ETA: 7:06 - loss: 1.9136 - accuracy: 0.32 - ETA: 7:06 - loss: 1.9134 - accuracy: 0.31 - ETA: 7:05 - loss: 1.9120 - accuracy: 0.32 - ETA: 7:04 - loss: 1.9111 - accuracy: 0.32 - ETA: 7:04 - loss: 1.9097 - accuracy: 0.32 - ETA: 7:03 - loss: 1.9084 - accuracy: 0.32 - ETA: 7:03 - loss: 1.9072 - accuracy: 0.32 - ETA: 7:02 - loss: 1.9051 - accuracy: 0.32 - ETA: 7:01 - loss: 1.9033 - accuracy: 0.32 - ETA: 7:01 - loss: 1.9019 - accuracy: 0.32 - ETA: 7:00 - loss: 1.9005 - accuracy: 0.32 - ETA: 6:59 - loss: 1.8986 - accuracy: 0.32 - ETA: 6:59 - loss: 1.8975 - accuracy: 0.32 - ETA: 6:59 - loss: 1.8970 - accuracy: 0.32 - ETA: 6:58 - loss: 1.8958 - accuracy: 0.32 - ETA: 6:58 - loss: 1.8941 - accuracy: 0.32 - ETA: 6:57 - loss: 1.8929 - accuracy: 0.32 - ETA: 6:56 - loss: 1.8918 - accuracy: 0.32 - ETA: 6:56 - loss: 1.8902 - accuracy: 0.32 - ETA: 6:55 - loss: 1.8888 - accuracy: 0.32 - ETA: 6:54 - loss: 1.8880 - accuracy: 0.32 - ETA: 6:54 - loss: 1.8859 - accuracy: 0.32 - ETA: 6:53 - loss: 1.8843 - accuracy: 0.32 - ETA: 6:52 - loss: 1.8824 - accuracy: 0.32 - ETA: 6:52 - loss: 1.8815 - accuracy: 0.32 - ETA: 6:51 - loss: 1.8789 - accuracy: 0.33 - ETA: 6:50 - loss: 1.8776 - accuracy: 0.33 - ETA: 6:50 - loss: 1.8763 - accuracy: 0.33 - ETA: 6:49 - loss: 1.8754 - accuracy: 0.33 - ETA: 6:48 - loss: 1.8731 - accuracy: 0.33 - ETA: 6:48 - loss: 1.8718 - accuracy: 0.33 - ETA: 6:47 - loss: 1.8699 - accuracy: 0.33 - ETA: 6:46 - loss: 1.8686 - accuracy: 0.33 - ETA: 6:46 - loss: 1.8675 - accuracy: 0.33 - ETA: 6:45 - loss: 1.8665 - accuracy: 0.33 - ETA: 6:44 - loss: 1.8648 - accuracy: 0.33 - ETA: 6:44 - loss: 1.8640 - accuracy: 0.33 - ETA: 6:43 - loss: 1.8626 - accuracy: 0.33 - ETA: 6:42 - loss: 1.8615 - accuracy: 0.33 - ETA: 6:42 - loss: 1.8597 - accuracy: 0.33 - ETA: 6:41 - loss: 1.8577 - accuracy: 0.33 - ETA: 6:40 - loss: 1.8568 - accuracy: 0.33 - ETA: 6:40 - loss: 1.8556 - accuracy: 0.33 - ETA: 6:39 - loss: 1.8537 - accuracy: 0.33 - ETA: 6:38 - loss: 1.8528 - accuracy: 0.33 - ETA: 6:38 - loss: 1.8511 - accuracy: 0.33 - ETA: 6:37 - loss: 1.8499 - accuracy: 0.33 - ETA: 6:36 - loss: 1.8484 - accuracy: 0.33 - ETA: 6:36 - loss: 1.8464 - accuracy: 0.34 - ETA: 6:35 - loss: 1.8452 - accuracy: 0.34 - ETA: 6:34 - loss: 1.8440 - accuracy: 0.34 - ETA: 6:34 - loss: 1.8430 - accuracy: 0.34 - ETA: 6:33 - loss: 1.8412 - accuracy: 0.34 - ETA: 6:32 - loss: 1.8407 - accuracy: 0.3424"
     ]
    },
    {
     "ename": "KeyboardInterrupt",
     "evalue": "",
     "output_type": "error",
     "traceback": [
      "\u001b[0;31m---------------------------------------------------------------------------\u001b[0m",
      "\u001b[0;31mKeyboardInterrupt\u001b[0m                         Traceback (most recent call last)",
      "\u001b[0;32m<ipython-input-8-3a5d95558e73>\u001b[0m in \u001b[0;36m<module>\u001b[0;34m\u001b[0m\n\u001b[1;32m      1\u001b[0m tuner.search(train_ds,\n\u001b[1;32m      2\u001b[0m              \u001b[0mvalidation_data\u001b[0m\u001b[0;34m=\u001b[0m\u001b[0mtest_ds\u001b[0m\u001b[0;34m,\u001b[0m\u001b[0;34m\u001b[0m\u001b[0;34m\u001b[0m\u001b[0m\n\u001b[0;32m----> 3\u001b[0;31m              callbacks=[tf.keras.callbacks.EarlyStopping(patience=1), ClearTrainingOutput()])\n\u001b[0m",
      "\u001b[0;32m~/miniconda3/envs/tf2_3/lib/python3.6/site-packages/kerastuner/engine/base_tuner.py\u001b[0m in \u001b[0;36msearch\u001b[0;34m(self, *fit_args, **fit_kwargs)\u001b[0m\n\u001b[1;32m    128\u001b[0m \u001b[0;34m\u001b[0m\u001b[0m\n\u001b[1;32m    129\u001b[0m             \u001b[0mself\u001b[0m\u001b[0;34m.\u001b[0m\u001b[0mon_trial_begin\u001b[0m\u001b[0;34m(\u001b[0m\u001b[0mtrial\u001b[0m\u001b[0;34m)\u001b[0m\u001b[0;34m\u001b[0m\u001b[0;34m\u001b[0m\u001b[0m\n\u001b[0;32m--> 130\u001b[0;31m             \u001b[0mself\u001b[0m\u001b[0;34m.\u001b[0m\u001b[0mrun_trial\u001b[0m\u001b[0;34m(\u001b[0m\u001b[0mtrial\u001b[0m\u001b[0;34m,\u001b[0m \u001b[0;34m*\u001b[0m\u001b[0mfit_args\u001b[0m\u001b[0;34m,\u001b[0m \u001b[0;34m**\u001b[0m\u001b[0mfit_kwargs\u001b[0m\u001b[0;34m)\u001b[0m\u001b[0;34m\u001b[0m\u001b[0;34m\u001b[0m\u001b[0m\n\u001b[0m\u001b[1;32m    131\u001b[0m             \u001b[0mself\u001b[0m\u001b[0;34m.\u001b[0m\u001b[0mon_trial_end\u001b[0m\u001b[0;34m(\u001b[0m\u001b[0mtrial\u001b[0m\u001b[0;34m)\u001b[0m\u001b[0;34m\u001b[0m\u001b[0;34m\u001b[0m\u001b[0m\n\u001b[1;32m    132\u001b[0m         \u001b[0mself\u001b[0m\u001b[0;34m.\u001b[0m\u001b[0mon_search_end\u001b[0m\u001b[0;34m(\u001b[0m\u001b[0;34m)\u001b[0m\u001b[0;34m\u001b[0m\u001b[0;34m\u001b[0m\u001b[0m\n",
      "\u001b[0;32m~/miniconda3/envs/tf2_3/lib/python3.6/site-packages/kerastuner/tuners/hyperband.py\u001b[0m in \u001b[0;36mrun_trial\u001b[0;34m(self, trial, *fit_args, **fit_kwargs)\u001b[0m\n\u001b[1;32m    385\u001b[0m             \u001b[0mfit_kwargs\u001b[0m\u001b[0;34m[\u001b[0m\u001b[0;34m'epochs'\u001b[0m\u001b[0;34m]\u001b[0m \u001b[0;34m=\u001b[0m \u001b[0mhp\u001b[0m\u001b[0;34m.\u001b[0m\u001b[0mvalues\u001b[0m\u001b[0;34m[\u001b[0m\u001b[0;34m'tuner/epochs'\u001b[0m\u001b[0;34m]\u001b[0m\u001b[0;34m\u001b[0m\u001b[0;34m\u001b[0m\u001b[0m\n\u001b[1;32m    386\u001b[0m             \u001b[0mfit_kwargs\u001b[0m\u001b[0;34m[\u001b[0m\u001b[0;34m'initial_epoch'\u001b[0m\u001b[0;34m]\u001b[0m \u001b[0;34m=\u001b[0m \u001b[0mhp\u001b[0m\u001b[0;34m.\u001b[0m\u001b[0mvalues\u001b[0m\u001b[0;34m[\u001b[0m\u001b[0;34m'tuner/initial_epoch'\u001b[0m\u001b[0;34m]\u001b[0m\u001b[0;34m\u001b[0m\u001b[0;34m\u001b[0m\u001b[0m\n\u001b[0;32m--> 387\u001b[0;31m         \u001b[0msuper\u001b[0m\u001b[0;34m(\u001b[0m\u001b[0mHyperband\u001b[0m\u001b[0;34m,\u001b[0m \u001b[0mself\u001b[0m\u001b[0;34m)\u001b[0m\u001b[0;34m.\u001b[0m\u001b[0mrun_trial\u001b[0m\u001b[0;34m(\u001b[0m\u001b[0mtrial\u001b[0m\u001b[0;34m,\u001b[0m \u001b[0;34m*\u001b[0m\u001b[0mfit_args\u001b[0m\u001b[0;34m,\u001b[0m \u001b[0;34m**\u001b[0m\u001b[0mfit_kwargs\u001b[0m\u001b[0;34m)\u001b[0m\u001b[0;34m\u001b[0m\u001b[0;34m\u001b[0m\u001b[0m\n\u001b[0m\u001b[1;32m    388\u001b[0m \u001b[0;34m\u001b[0m\u001b[0m\n\u001b[1;32m    389\u001b[0m     \u001b[0;32mdef\u001b[0m \u001b[0m_build_model\u001b[0m\u001b[0;34m(\u001b[0m\u001b[0mself\u001b[0m\u001b[0;34m,\u001b[0m \u001b[0mhp\u001b[0m\u001b[0;34m)\u001b[0m\u001b[0;34m:\u001b[0m\u001b[0;34m\u001b[0m\u001b[0;34m\u001b[0m\u001b[0m\n",
      "\u001b[0;32m~/miniconda3/envs/tf2_3/lib/python3.6/site-packages/kerastuner/engine/multi_execution_tuner.py\u001b[0m in \u001b[0;36mrun_trial\u001b[0;34m(self, trial, *fit_args, **fit_kwargs)\u001b[0m\n\u001b[1;32m     94\u001b[0m \u001b[0;34m\u001b[0m\u001b[0m\n\u001b[1;32m     95\u001b[0m             \u001b[0mmodel\u001b[0m \u001b[0;34m=\u001b[0m \u001b[0mself\u001b[0m\u001b[0;34m.\u001b[0m\u001b[0mhypermodel\u001b[0m\u001b[0;34m.\u001b[0m\u001b[0mbuild\u001b[0m\u001b[0;34m(\u001b[0m\u001b[0mtrial\u001b[0m\u001b[0;34m.\u001b[0m\u001b[0mhyperparameters\u001b[0m\u001b[0;34m)\u001b[0m\u001b[0;34m\u001b[0m\u001b[0;34m\u001b[0m\u001b[0m\n\u001b[0;32m---> 96\u001b[0;31m             \u001b[0mhistory\u001b[0m \u001b[0;34m=\u001b[0m \u001b[0mmodel\u001b[0m\u001b[0;34m.\u001b[0m\u001b[0mfit\u001b[0m\u001b[0;34m(\u001b[0m\u001b[0;34m*\u001b[0m\u001b[0mfit_args\u001b[0m\u001b[0;34m,\u001b[0m \u001b[0;34m**\u001b[0m\u001b[0mcopied_fit_kwargs\u001b[0m\u001b[0;34m)\u001b[0m\u001b[0;34m\u001b[0m\u001b[0;34m\u001b[0m\u001b[0m\n\u001b[0m\u001b[1;32m     97\u001b[0m             \u001b[0;32mfor\u001b[0m \u001b[0mmetric\u001b[0m\u001b[0;34m,\u001b[0m \u001b[0mepoch_values\u001b[0m \u001b[0;32min\u001b[0m \u001b[0mhistory\u001b[0m\u001b[0;34m.\u001b[0m\u001b[0mhistory\u001b[0m\u001b[0;34m.\u001b[0m\u001b[0mitems\u001b[0m\u001b[0;34m(\u001b[0m\u001b[0;34m)\u001b[0m\u001b[0;34m:\u001b[0m\u001b[0;34m\u001b[0m\u001b[0;34m\u001b[0m\u001b[0m\n\u001b[1;32m     98\u001b[0m                 \u001b[0;32mif\u001b[0m \u001b[0mself\u001b[0m\u001b[0;34m.\u001b[0m\u001b[0moracle\u001b[0m\u001b[0;34m.\u001b[0m\u001b[0mobjective\u001b[0m\u001b[0;34m.\u001b[0m\u001b[0mdirection\u001b[0m \u001b[0;34m==\u001b[0m \u001b[0;34m'min'\u001b[0m\u001b[0;34m:\u001b[0m\u001b[0;34m\u001b[0m\u001b[0;34m\u001b[0m\u001b[0m\n",
      "\u001b[0;32m~/miniconda3/envs/tf2_3/lib/python3.6/site-packages/tensorflow/python/keras/engine/training.py\u001b[0m in \u001b[0;36m_method_wrapper\u001b[0;34m(self, *args, **kwargs)\u001b[0m\n\u001b[1;32m    106\u001b[0m   \u001b[0;32mdef\u001b[0m \u001b[0m_method_wrapper\u001b[0m\u001b[0;34m(\u001b[0m\u001b[0mself\u001b[0m\u001b[0;34m,\u001b[0m \u001b[0;34m*\u001b[0m\u001b[0margs\u001b[0m\u001b[0;34m,\u001b[0m \u001b[0;34m**\u001b[0m\u001b[0mkwargs\u001b[0m\u001b[0;34m)\u001b[0m\u001b[0;34m:\u001b[0m\u001b[0;34m\u001b[0m\u001b[0;34m\u001b[0m\u001b[0m\n\u001b[1;32m    107\u001b[0m     \u001b[0;32mif\u001b[0m \u001b[0;32mnot\u001b[0m \u001b[0mself\u001b[0m\u001b[0;34m.\u001b[0m\u001b[0m_in_multi_worker_mode\u001b[0m\u001b[0;34m(\u001b[0m\u001b[0;34m)\u001b[0m\u001b[0;34m:\u001b[0m  \u001b[0;31m# pylint: disable=protected-access\u001b[0m\u001b[0;34m\u001b[0m\u001b[0;34m\u001b[0m\u001b[0m\n\u001b[0;32m--> 108\u001b[0;31m       \u001b[0;32mreturn\u001b[0m \u001b[0mmethod\u001b[0m\u001b[0;34m(\u001b[0m\u001b[0mself\u001b[0m\u001b[0;34m,\u001b[0m \u001b[0;34m*\u001b[0m\u001b[0margs\u001b[0m\u001b[0;34m,\u001b[0m \u001b[0;34m**\u001b[0m\u001b[0mkwargs\u001b[0m\u001b[0;34m)\u001b[0m\u001b[0;34m\u001b[0m\u001b[0;34m\u001b[0m\u001b[0m\n\u001b[0m\u001b[1;32m    109\u001b[0m \u001b[0;34m\u001b[0m\u001b[0m\n\u001b[1;32m    110\u001b[0m     \u001b[0;31m# Running inside `run_distribute_coordinator` already.\u001b[0m\u001b[0;34m\u001b[0m\u001b[0;34m\u001b[0m\u001b[0;34m\u001b[0m\u001b[0m\n",
      "\u001b[0;32m~/miniconda3/envs/tf2_3/lib/python3.6/site-packages/tensorflow/python/keras/engine/training.py\u001b[0m in \u001b[0;36mfit\u001b[0;34m(self, x, y, batch_size, epochs, verbose, callbacks, validation_split, validation_data, shuffle, class_weight, sample_weight, initial_epoch, steps_per_epoch, validation_steps, validation_batch_size, validation_freq, max_queue_size, workers, use_multiprocessing)\u001b[0m\n\u001b[1;32m   1096\u001b[0m                 batch_size=batch_size):\n\u001b[1;32m   1097\u001b[0m               \u001b[0mcallbacks\u001b[0m\u001b[0;34m.\u001b[0m\u001b[0mon_train_batch_begin\u001b[0m\u001b[0;34m(\u001b[0m\u001b[0mstep\u001b[0m\u001b[0;34m)\u001b[0m\u001b[0;34m\u001b[0m\u001b[0;34m\u001b[0m\u001b[0m\n\u001b[0;32m-> 1098\u001b[0;31m               \u001b[0mtmp_logs\u001b[0m \u001b[0;34m=\u001b[0m \u001b[0mtrain_function\u001b[0m\u001b[0;34m(\u001b[0m\u001b[0miterator\u001b[0m\u001b[0;34m)\u001b[0m\u001b[0;34m\u001b[0m\u001b[0;34m\u001b[0m\u001b[0m\n\u001b[0m\u001b[1;32m   1099\u001b[0m               \u001b[0;32mif\u001b[0m \u001b[0mdata_handler\u001b[0m\u001b[0;34m.\u001b[0m\u001b[0mshould_sync\u001b[0m\u001b[0;34m:\u001b[0m\u001b[0;34m\u001b[0m\u001b[0;34m\u001b[0m\u001b[0m\n\u001b[1;32m   1100\u001b[0m                 \u001b[0mcontext\u001b[0m\u001b[0;34m.\u001b[0m\u001b[0masync_wait\u001b[0m\u001b[0;34m(\u001b[0m\u001b[0;34m)\u001b[0m\u001b[0;34m\u001b[0m\u001b[0;34m\u001b[0m\u001b[0m\n",
      "\u001b[0;32m~/miniconda3/envs/tf2_3/lib/python3.6/site-packages/tensorflow/python/eager/def_function.py\u001b[0m in \u001b[0;36m__call__\u001b[0;34m(self, *args, **kwds)\u001b[0m\n\u001b[1;32m    778\u001b[0m       \u001b[0;32melse\u001b[0m\u001b[0;34m:\u001b[0m\u001b[0;34m\u001b[0m\u001b[0;34m\u001b[0m\u001b[0m\n\u001b[1;32m    779\u001b[0m         \u001b[0mcompiler\u001b[0m \u001b[0;34m=\u001b[0m \u001b[0;34m\"nonXla\"\u001b[0m\u001b[0;34m\u001b[0m\u001b[0;34m\u001b[0m\u001b[0m\n\u001b[0;32m--> 780\u001b[0;31m         \u001b[0mresult\u001b[0m \u001b[0;34m=\u001b[0m \u001b[0mself\u001b[0m\u001b[0;34m.\u001b[0m\u001b[0m_call\u001b[0m\u001b[0;34m(\u001b[0m\u001b[0;34m*\u001b[0m\u001b[0margs\u001b[0m\u001b[0;34m,\u001b[0m \u001b[0;34m**\u001b[0m\u001b[0mkwds\u001b[0m\u001b[0;34m)\u001b[0m\u001b[0;34m\u001b[0m\u001b[0;34m\u001b[0m\u001b[0m\n\u001b[0m\u001b[1;32m    781\u001b[0m \u001b[0;34m\u001b[0m\u001b[0m\n\u001b[1;32m    782\u001b[0m       \u001b[0mnew_tracing_count\u001b[0m \u001b[0;34m=\u001b[0m \u001b[0mself\u001b[0m\u001b[0;34m.\u001b[0m\u001b[0m_get_tracing_count\u001b[0m\u001b[0;34m(\u001b[0m\u001b[0;34m)\u001b[0m\u001b[0;34m\u001b[0m\u001b[0;34m\u001b[0m\u001b[0m\n",
      "\u001b[0;32m~/miniconda3/envs/tf2_3/lib/python3.6/site-packages/tensorflow/python/eager/def_function.py\u001b[0m in \u001b[0;36m_call\u001b[0;34m(self, *args, **kwds)\u001b[0m\n\u001b[1;32m    805\u001b[0m       \u001b[0;31m# In this case we have created variables on the first call, so we run the\u001b[0m\u001b[0;34m\u001b[0m\u001b[0;34m\u001b[0m\u001b[0;34m\u001b[0m\u001b[0m\n\u001b[1;32m    806\u001b[0m       \u001b[0;31m# defunned version which is guaranteed to never create variables.\u001b[0m\u001b[0;34m\u001b[0m\u001b[0;34m\u001b[0m\u001b[0;34m\u001b[0m\u001b[0m\n\u001b[0;32m--> 807\u001b[0;31m       \u001b[0;32mreturn\u001b[0m \u001b[0mself\u001b[0m\u001b[0;34m.\u001b[0m\u001b[0m_stateless_fn\u001b[0m\u001b[0;34m(\u001b[0m\u001b[0;34m*\u001b[0m\u001b[0margs\u001b[0m\u001b[0;34m,\u001b[0m \u001b[0;34m**\u001b[0m\u001b[0mkwds\u001b[0m\u001b[0;34m)\u001b[0m  \u001b[0;31m# pylint: disable=not-callable\u001b[0m\u001b[0;34m\u001b[0m\u001b[0;34m\u001b[0m\u001b[0m\n\u001b[0m\u001b[1;32m    808\u001b[0m     \u001b[0;32melif\u001b[0m \u001b[0mself\u001b[0m\u001b[0;34m.\u001b[0m\u001b[0m_stateful_fn\u001b[0m \u001b[0;32mis\u001b[0m \u001b[0;32mnot\u001b[0m \u001b[0;32mNone\u001b[0m\u001b[0;34m:\u001b[0m\u001b[0;34m\u001b[0m\u001b[0;34m\u001b[0m\u001b[0m\n\u001b[1;32m    809\u001b[0m       \u001b[0;31m# Release the lock early so that multiple threads can perform the call\u001b[0m\u001b[0;34m\u001b[0m\u001b[0;34m\u001b[0m\u001b[0;34m\u001b[0m\u001b[0m\n",
      "\u001b[0;32m~/miniconda3/envs/tf2_3/lib/python3.6/site-packages/tensorflow/python/eager/function.py\u001b[0m in \u001b[0;36m__call__\u001b[0;34m(self, *args, **kwargs)\u001b[0m\n\u001b[1;32m   2827\u001b[0m     \u001b[0;32mwith\u001b[0m \u001b[0mself\u001b[0m\u001b[0;34m.\u001b[0m\u001b[0m_lock\u001b[0m\u001b[0;34m:\u001b[0m\u001b[0;34m\u001b[0m\u001b[0;34m\u001b[0m\u001b[0m\n\u001b[1;32m   2828\u001b[0m       \u001b[0mgraph_function\u001b[0m\u001b[0;34m,\u001b[0m \u001b[0margs\u001b[0m\u001b[0;34m,\u001b[0m \u001b[0mkwargs\u001b[0m \u001b[0;34m=\u001b[0m \u001b[0mself\u001b[0m\u001b[0;34m.\u001b[0m\u001b[0m_maybe_define_function\u001b[0m\u001b[0;34m(\u001b[0m\u001b[0margs\u001b[0m\u001b[0;34m,\u001b[0m \u001b[0mkwargs\u001b[0m\u001b[0;34m)\u001b[0m\u001b[0;34m\u001b[0m\u001b[0;34m\u001b[0m\u001b[0m\n\u001b[0;32m-> 2829\u001b[0;31m     \u001b[0;32mreturn\u001b[0m \u001b[0mgraph_function\u001b[0m\u001b[0;34m.\u001b[0m\u001b[0m_filtered_call\u001b[0m\u001b[0;34m(\u001b[0m\u001b[0margs\u001b[0m\u001b[0;34m,\u001b[0m \u001b[0mkwargs\u001b[0m\u001b[0;34m)\u001b[0m  \u001b[0;31m# pylint: disable=protected-access\u001b[0m\u001b[0;34m\u001b[0m\u001b[0;34m\u001b[0m\u001b[0m\n\u001b[0m\u001b[1;32m   2830\u001b[0m \u001b[0;34m\u001b[0m\u001b[0m\n\u001b[1;32m   2831\u001b[0m   \u001b[0;34m@\u001b[0m\u001b[0mproperty\u001b[0m\u001b[0;34m\u001b[0m\u001b[0;34m\u001b[0m\u001b[0m\n",
      "\u001b[0;32m~/miniconda3/envs/tf2_3/lib/python3.6/site-packages/tensorflow/python/eager/function.py\u001b[0m in \u001b[0;36m_filtered_call\u001b[0;34m(self, args, kwargs, cancellation_manager)\u001b[0m\n\u001b[1;32m   1846\u001b[0m                            resource_variable_ops.BaseResourceVariable))],\n\u001b[1;32m   1847\u001b[0m         \u001b[0mcaptured_inputs\u001b[0m\u001b[0;34m=\u001b[0m\u001b[0mself\u001b[0m\u001b[0;34m.\u001b[0m\u001b[0mcaptured_inputs\u001b[0m\u001b[0;34m,\u001b[0m\u001b[0;34m\u001b[0m\u001b[0;34m\u001b[0m\u001b[0m\n\u001b[0;32m-> 1848\u001b[0;31m         cancellation_manager=cancellation_manager)\n\u001b[0m\u001b[1;32m   1849\u001b[0m \u001b[0;34m\u001b[0m\u001b[0m\n\u001b[1;32m   1850\u001b[0m   \u001b[0;32mdef\u001b[0m \u001b[0m_call_flat\u001b[0m\u001b[0;34m(\u001b[0m\u001b[0mself\u001b[0m\u001b[0;34m,\u001b[0m \u001b[0margs\u001b[0m\u001b[0;34m,\u001b[0m \u001b[0mcaptured_inputs\u001b[0m\u001b[0;34m,\u001b[0m \u001b[0mcancellation_manager\u001b[0m\u001b[0;34m=\u001b[0m\u001b[0;32mNone\u001b[0m\u001b[0;34m)\u001b[0m\u001b[0;34m:\u001b[0m\u001b[0;34m\u001b[0m\u001b[0;34m\u001b[0m\u001b[0m\n",
      "\u001b[0;32m~/miniconda3/envs/tf2_3/lib/python3.6/site-packages/tensorflow/python/eager/function.py\u001b[0m in \u001b[0;36m_call_flat\u001b[0;34m(self, args, captured_inputs, cancellation_manager)\u001b[0m\n\u001b[1;32m   1922\u001b[0m       \u001b[0;31m# No tape is watching; skip to running the function.\u001b[0m\u001b[0;34m\u001b[0m\u001b[0;34m\u001b[0m\u001b[0;34m\u001b[0m\u001b[0m\n\u001b[1;32m   1923\u001b[0m       return self._build_call_outputs(self._inference_function.call(\n\u001b[0;32m-> 1924\u001b[0;31m           ctx, args, cancellation_manager=cancellation_manager))\n\u001b[0m\u001b[1;32m   1925\u001b[0m     forward_backward = self._select_forward_and_backward_functions(\n\u001b[1;32m   1926\u001b[0m         \u001b[0margs\u001b[0m\u001b[0;34m,\u001b[0m\u001b[0;34m\u001b[0m\u001b[0;34m\u001b[0m\u001b[0m\n",
      "\u001b[0;32m~/miniconda3/envs/tf2_3/lib/python3.6/site-packages/tensorflow/python/eager/function.py\u001b[0m in \u001b[0;36mcall\u001b[0;34m(self, ctx, args, cancellation_manager)\u001b[0m\n\u001b[1;32m    548\u001b[0m               \u001b[0minputs\u001b[0m\u001b[0;34m=\u001b[0m\u001b[0margs\u001b[0m\u001b[0;34m,\u001b[0m\u001b[0;34m\u001b[0m\u001b[0;34m\u001b[0m\u001b[0m\n\u001b[1;32m    549\u001b[0m               \u001b[0mattrs\u001b[0m\u001b[0;34m=\u001b[0m\u001b[0mattrs\u001b[0m\u001b[0;34m,\u001b[0m\u001b[0;34m\u001b[0m\u001b[0;34m\u001b[0m\u001b[0m\n\u001b[0;32m--> 550\u001b[0;31m               ctx=ctx)\n\u001b[0m\u001b[1;32m    551\u001b[0m         \u001b[0;32melse\u001b[0m\u001b[0;34m:\u001b[0m\u001b[0;34m\u001b[0m\u001b[0;34m\u001b[0m\u001b[0m\n\u001b[1;32m    552\u001b[0m           outputs = execute.execute_with_cancellation(\n",
      "\u001b[0;32m~/miniconda3/envs/tf2_3/lib/python3.6/site-packages/tensorflow/python/eager/execute.py\u001b[0m in \u001b[0;36mquick_execute\u001b[0;34m(op_name, num_outputs, inputs, attrs, ctx, name)\u001b[0m\n\u001b[1;32m     58\u001b[0m     \u001b[0mctx\u001b[0m\u001b[0;34m.\u001b[0m\u001b[0mensure_initialized\u001b[0m\u001b[0;34m(\u001b[0m\u001b[0;34m)\u001b[0m\u001b[0;34m\u001b[0m\u001b[0;34m\u001b[0m\u001b[0m\n\u001b[1;32m     59\u001b[0m     tensors = pywrap_tfe.TFE_Py_Execute(ctx._handle, device_name, op_name,\n\u001b[0;32m---> 60\u001b[0;31m                                         inputs, attrs, num_outputs)\n\u001b[0m\u001b[1;32m     61\u001b[0m   \u001b[0;32mexcept\u001b[0m \u001b[0mcore\u001b[0m\u001b[0;34m.\u001b[0m\u001b[0m_NotOkStatusException\u001b[0m \u001b[0;32mas\u001b[0m \u001b[0me\u001b[0m\u001b[0;34m:\u001b[0m\u001b[0;34m\u001b[0m\u001b[0;34m\u001b[0m\u001b[0m\n\u001b[1;32m     62\u001b[0m     \u001b[0;32mif\u001b[0m \u001b[0mname\u001b[0m \u001b[0;32mis\u001b[0m \u001b[0;32mnot\u001b[0m \u001b[0;32mNone\u001b[0m\u001b[0;34m:\u001b[0m\u001b[0;34m\u001b[0m\u001b[0;34m\u001b[0m\u001b[0m\n",
      "\u001b[0;31mKeyboardInterrupt\u001b[0m: "
     ]
    }
   ],
   "source": [
    "tuner.search(train_ds,\n",
    "             validation_data=test_ds,\n",
    "             callbacks=[tf.keras.callbacks.EarlyStopping(patience=1), ClearTrainingOutput()])"
   ]
  },
  {
   "cell_type": "code",
   "execution_count": null,
   "metadata": {},
   "outputs": [],
   "source": [
    "best_model = tuner.get_best_models(1)[0]\n",
    "best_hyperparameters = tuner.get_best_hyperparameters(1)[0]"
   ]
  },
  {
   "cell_type": "code",
   "execution_count": null,
   "metadata": {},
   "outputs": [],
   "source": [
    "best_model.evaluate(test_ds)"
   ]
  },
  {
   "cell_type": "code",
   "execution_count": null,
   "metadata": {},
   "outputs": [],
   "source": [
    "# save\n",
    "path = \"models/cifar10-kt\"\n",
    "best_model.save_weights(path)"
   ]
  },
  {
   "cell_type": "code",
   "execution_count": null,
   "metadata": {},
   "outputs": [],
   "source": [
    "best_hyperparameters.values"
   ]
  },
  {
   "cell_type": "code",
   "execution_count": null,
   "metadata": {},
   "outputs": [],
   "source": []
  }
 ],
 "metadata": {
  "kernelspec": {
   "display_name": "Python [conda env:tf2_3]",
   "language": "python",
   "name": "conda-env-tf2_3-py"
  },
  "language_info": {
   "codemirror_mode": {
    "name": "ipython",
    "version": 3
   },
   "file_extension": ".py",
   "mimetype": "text/x-python",
   "name": "python",
   "nbconvert_exporter": "python",
   "pygments_lexer": "ipython3",
   "version": "3.6.11"
  }
 },
 "nbformat": 4,
 "nbformat_minor": 4
}
