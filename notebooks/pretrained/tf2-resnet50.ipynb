{
 "cells": [
  {
   "cell_type": "markdown",
   "metadata": {},
   "source": [
    "# CIFAR10 Classifier : TensorFlow 2.x\n",
    "\n",
    "This notebook performs CIFAR10 classification on GPU using:\n",
    "- Resnet 50 as backbone\n",
    "- Tensorflow Datasets\n",
    "- Minimal augmentation\n",
    "- Experiment tracking using Comet ML\n",
    "\n",
    "---\n",
    "@date: 13-Aug-2020 | @author: katnoria"
   ]
  },
  {
   "cell_type": "code",
   "execution_count": 4,
   "metadata": {},
   "outputs": [],
   "source": [
    "import os\n",
    "import matplotlib.pyplot as plt\n",
    "\n",
    "# load from .env\n",
    "from pathlib import Path\n",
    "from dotenv import load_dotenv\n",
    "\n",
    "import comet_ml as cml\n",
    "from comet_ml import Experiment\n",
    "\n",
    "import tensorflow as tf\n",
    "import tensorflow_datasets as tfds\n",
    "from tensorflow.keras.layers import Dense, Flatten, Conv2D, MaxPool2D, Dropout\n",
    "from tensorflow.keras.layers import BatchNormalization, Input, GlobalAveragePooling2D\n",
    "from tensorflow.keras.callbacks import ReduceLROnPlateau\n",
    "from tensorflow.keras import Model"
   ]
  },
  {
   "cell_type": "code",
   "execution_count": 11,
   "metadata": {},
   "outputs": [
    {
     "name": "stdout",
     "output_type": "stream",
     "text": [
      "The dotenv extension is already loaded. To reload it, use:\n",
      "  %reload_ext dotenv\n"
     ]
    }
   ],
   "source": [
    "# Load secrets\n",
    "%load_ext dotenv\n",
    "%dotenv ../../.env"
   ]
  },
  {
   "cell_type": "code",
   "execution_count": 12,
   "metadata": {},
   "outputs": [
    {
     "data": {
      "text/plain": [
       "25"
      ]
     },
     "execution_count": 12,
     "metadata": {},
     "output_type": "execute_result"
    }
   ],
   "source": [
    "COMET_ML_API_KEY = os.getenv(\"COMET_ML_API_KEY\")\n",
    "len(COMET_ML_API_KEY)"
   ]
  },
  {
   "cell_type": "code",
   "execution_count": 2,
   "metadata": {},
   "outputs": [],
   "source": [
    "def version_info(cls):\n",
    "    print(f\"{cls.__name__}: {cls.__version__}\")"
   ]
  },
  {
   "cell_type": "code",
   "execution_count": 3,
   "metadata": {},
   "outputs": [
    {
     "name": "stdout",
     "output_type": "stream",
     "text": [
      "Version Used in this Notebook:\n",
      "tensorflow: 2.3.0\n",
      "tensorflow_datasets: 3.2.1\n",
      "comet_ml: 3.2.0\n"
     ]
    }
   ],
   "source": [
    "print(\"Version Used in this Notebook:\")\n",
    "version_info(tf)\n",
    "version_info(tfds)\n",
    "version_info(cml)"
   ]
  },
  {
   "cell_type": "code",
   "execution_count": 4,
   "metadata": {},
   "outputs": [
    {
     "name": "stdout",
     "output_type": "stream",
     "text": [
      "Num GPUs Available:  1\n"
     ]
    }
   ],
   "source": [
    "print(\"Num GPUs Available: \", len(tf.config.experimental.list_physical_devices('GPU')))"
   ]
  },
  {
   "cell_type": "code",
   "execution_count": 5,
   "metadata": {},
   "outputs": [
    {
     "name": "stdout",
     "output_type": "stream",
     "text": [
      "1 Physical GPUs, 1 Logical GPU\n"
     ]
    }
   ],
   "source": [
    "gpus = tf.config.experimental.list_physical_devices('GPU')\n",
    "if gpus:\n",
    "  # Restrict TensorFlow to only use the first GPU\n",
    "  try:\n",
    "    tf.config.experimental.set_visible_devices(gpus[0], 'GPU')\n",
    "    logical_gpus = tf.config.experimental.list_logical_devices('GPU')\n",
    "    print(len(gpus), \"Physical GPUs,\", len(logical_gpus), \"Logical GPU\")\n",
    "  except RuntimeError as e:\n",
    "    # Visible devices must be set before GPUs have been initialized\n",
    "    print(e)"
   ]
  },
  {
   "cell_type": "markdown",
   "metadata": {},
   "source": [
    "# Dataset\n",
    "\n",
    "Tensorflow Datasets already provides this dataset in a format that we can use out of the box."
   ]
  },
  {
   "cell_type": "code",
   "execution_count": 6,
   "metadata": {},
   "outputs": [],
   "source": [
    "# Load the dataset\n",
    "(ds_train, ds_test), metadata = tfds.load(\n",
    "    'cifar10', split=['train', 'test'], shuffle_files=True, \n",
    "    with_info=True, as_supervised=True\n",
    ")"
   ]
  },
  {
   "cell_type": "code",
   "execution_count": 7,
   "metadata": {},
   "outputs": [
    {
     "data": {
      "text/plain": [
       "(50000, 10000, 10)"
      ]
     },
     "execution_count": 7,
     "metadata": {},
     "output_type": "execute_result"
    }
   ],
   "source": [
    "len(ds_train), len(ds_test), metadata.features['label'].num_classes"
   ]
  },
  {
   "cell_type": "code",
   "execution_count": 8,
   "metadata": {},
   "outputs": [
    {
     "data": {
      "text/plain": [
       "FeaturesDict({\n",
       "    'id': Text(shape=(), dtype=tf.string),\n",
       "    'image': Image(shape=(32, 32, 3), dtype=tf.uint8),\n",
       "    'label': ClassLabel(shape=(), dtype=tf.int64, num_classes=10),\n",
       "})"
      ]
     },
     "execution_count": 8,
     "metadata": {},
     "output_type": "execute_result"
    }
   ],
   "source": [
    "# Review metadata\n",
    "# See https://www.tensorflow.org/datasets/overview\n",
    "metadata.features"
   ]
  },
  {
   "cell_type": "code",
   "execution_count": 9,
   "metadata": {},
   "outputs": [
    {
     "name": "stdout",
     "output_type": "stream",
     "text": [
      "Training dataset size: 50000\n",
      "Test dataset size: 10000\n"
     ]
    }
   ],
   "source": [
    "NUM_CLASSES = metadata.features[\"label\"].num_classes\n",
    "\n",
    "num_train_examples = len(ds_train)\n",
    "num_test_examples = len(ds_test)\n",
    "print(f\"Training dataset size: {num_train_examples}\")\n",
    "print(f\"Test dataset size: {num_test_examples}\")"
   ]
  },
  {
   "cell_type": "markdown",
   "metadata": {},
   "source": [
    "# Use Pretrained Models\n",
    "\n",
    "Instead of training the full model, it is generally a good practice to use a pretrained network as a base model and add your layers on top. \n",
    "This allows us to reduce the training times and leverage on what base model has learned."
   ]
  },
  {
   "cell_type": "code",
   "execution_count": 10,
   "metadata": {},
   "outputs": [],
   "source": [
    "IMG_SIZE = 32\n",
    "BATCH_SIZE = 128"
   ]
  },
  {
   "cell_type": "markdown",
   "metadata": {},
   "source": [
    "Do not use the preprocessing we were using earlier, because we now use a pre-trained network as our feature extractor."
   ]
  },
  {
   "cell_type": "code",
   "execution_count": 11,
   "metadata": {},
   "outputs": [],
   "source": [
    "train_ds = ds_train \\\n",
    "    .cache() \\\n",
    "    .shuffle(num_train_examples).batch(BATCH_SIZE, drop_remainder=True) \\\n",
    "    .prefetch(tf.data.experimental.AUTOTUNE) "
   ]
  },
  {
   "cell_type": "code",
   "execution_count": 12,
   "metadata": {},
   "outputs": [],
   "source": [
    "example = train_ds.take(1)"
   ]
  },
  {
   "cell_type": "code",
   "execution_count": 13,
   "metadata": {},
   "outputs": [
    {
     "data": {
      "image/png": "[encoded data removed]",
      "text/plain": [
       "<Figure size 432x288 with 1 Axes>"
      ]
     },
     "metadata": {
      "needs_background": "light"
     },
     "output_type": "display_data"
    }
   ],
   "source": [
    "for images, labels in example:\n",
    "    plt.imshow(images[0])"
   ]
  },
  {
   "cell_type": "markdown",
   "metadata": {},
   "source": [
    "### Evaluation Pipeline"
   ]
  },
  {
   "cell_type": "code",
   "execution_count": 14,
   "metadata": {},
   "outputs": [],
   "source": [
    "test_ds = ds_test \\\n",
    "    .cache() \\\n",
    "    .batch(BATCH_SIZE, drop_remainder=True) \\\n",
    "    .prefetch(tf.data.experimental.AUTOTUNE) "
   ]
  },
  {
   "cell_type": "code",
   "execution_count": 15,
   "metadata": {},
   "outputs": [],
   "source": [
    "def plot_history(history):\n",
    "    plt.style.use('seaborn')\n",
    "    acc = history.history['accuracy']\n",
    "    val_acc = history.history['val_accuracy']\n",
    "    \n",
    "    fig, (ax1, ax2) = plt.subplots(1, 2, figsize=(14, 6))    \n",
    "\n",
    "    ax1.plot(acc, label=\"Training Accuracy\")\n",
    "    ax1.plot(val_acc, label=\"Validation Accuracy\")\n",
    "    ax1.set_xlabel('Epochs')\n",
    "    ax1.set_ylabel('Accuracy')    \n",
    "    ax1.legend(loc='lower right')\n",
    "    ax1.set_title(\"Training and Validation Accuracy\")\n",
    "    \n",
    "    loss = history.history['loss']\n",
    "    val_loss = history.history['val_loss']\n",
    "    ax2.plot(loss, label=\"Training Loss\")\n",
    "    ax2.plot(val_loss, label=\"Validation Loss\")\n",
    "    ax2.set_xlabel('Epochs')\n",
    "    ax2.set_ylabel('Loss')    \n",
    "    ax2.legend(loc='upper right')\n",
    "    ax2.set_title(\"Training and Validation Loss\")\n",
    "    \n",
    "    plt.show()"
   ]
  },
  {
   "cell_type": "code",
   "execution_count": null,
   "metadata": {},
   "outputs": [],
   "source": []
  },
  {
   "cell_type": "markdown",
   "metadata": {},
   "source": [
    "# Resnet 50"
   ]
  },
  {
   "cell_type": "code",
   "execution_count": 43,
   "metadata": {},
   "outputs": [],
   "source": [
    "base_model = tf.keras.applications.ResNet50(input_shape=(IMG_SIZE, IMG_SIZE, 3), include_top=False)\n",
    "base_model.trainable = False"
   ]
  },
  {
   "cell_type": "markdown",
   "metadata": {},
   "source": [
    "# Data Augmentation"
   ]
  },
  {
   "cell_type": "code",
   "execution_count": 44,
   "metadata": {},
   "outputs": [],
   "source": [
    "transforms = tf.keras.Sequential([\n",
    "    tf.keras.layers.experimental.preprocessing.RandomFlip('horizontal'),\n",
    "    tf.keras.layers.experimental.preprocessing.RandomRotation(0.2),\n",
    "])"
   ]
  },
  {
   "cell_type": "code",
   "execution_count": 54,
   "metadata": {},
   "outputs": [],
   "source": [
    "def get_pretrained_model(base_model, transforms=None):\n",
    "    inputs = Input(shape=(IMG_SIZE, IMG_SIZE, 3))\n",
    "    if transforms is not None:\n",
    "        x = transforms(inputs)\n",
    "    x = tf.keras.applications.resnet.preprocess_input(inputs)\n",
    "    x = base_model(x, training=False)\n",
    "    x = GlobalAveragePooling2D()(x)\n",
    "# #     x = Flatten()(x)\n",
    "#     x = Dense(128, activation='relu')(x)    \n",
    "    x = Dropout(0.3)(x)\n",
    "    outputs = Dense(NUM_CLASSES)(x)\n",
    "    _model = tf.keras.Model(inputs, outputs)    \n",
    "    return _model"
   ]
  },
  {
   "cell_type": "code",
   "execution_count": 55,
   "metadata": {},
   "outputs": [
    {
     "name": "stdout",
     "output_type": "stream",
     "text": [
      "Model: \"functional_7\"\n",
      "_________________________________________________________________\n",
      "Layer (type)                 Output Shape              Param #   \n",
      "=================================================================\n",
      "input_7 (InputLayer)         [(None, 32, 32, 3)]       0         \n",
      "_________________________________________________________________\n",
      "tf_op_layer_strided_slice_3  [(None, 32, 32, 3)]       0         \n",
      "_________________________________________________________________\n",
      "tf_op_layer_BiasAdd_3 (Tenso [(None, 32, 32, 3)]       0         \n",
      "_________________________________________________________________\n",
      "resnet50 (Functional)        (None, 1, 1, 2048)        23587712  \n",
      "_________________________________________________________________\n",
      "global_average_pooling2d_1 ( (None, 2048)              0         \n",
      "_________________________________________________________________\n",
      "dropout (Dropout)            (None, 2048)              0         \n",
      "_________________________________________________________________\n",
      "dense_3 (Dense)              (None, 10)                20490     \n",
      "=================================================================\n",
      "Total params: 23,608,202\n",
      "Trainable params: 20,490\n",
      "Non-trainable params: 23,587,712\n",
      "_________________________________________________________________\n"
     ]
    }
   ],
   "source": [
    "resnet_model_v2 = get_pretrained_model(base_model)\n",
    "resnet_model_v2.summary()"
   ]
  },
  {
   "cell_type": "code",
   "execution_count": 56,
   "metadata": {},
   "outputs": [],
   "source": [
    "lr = 1e-3\n",
    "\n",
    "reduce_lr = ReduceLROnPlateau(monitor='val_loss', factor=0.2,\n",
    "                              patience=5, min_lr=0.001)\n",
    "\n",
    "resnet_model_v2.compile(\n",
    "    optimizer=tf.keras.optimizers.Adam(lr),\n",
    "    loss=tf.keras.losses.SparseCategoricalCrossentropy(from_logits=True),\n",
    "    metrics=['accuracy']\n",
    ")"
   ]
  },
  {
   "cell_type": "code",
   "execution_count": 57,
   "metadata": {},
   "outputs": [
    {
     "name": "stdout",
     "output_type": "stream",
     "text": [
      "78/78 [==============================] - 1s 12ms/step - loss: 6.1997 - accuracy: 0.0657\n"
     ]
    },
    {
     "data": {
      "text/plain": [
       "[6.199723243713379, 0.06570512801408768]"
      ]
     },
     "execution_count": 57,
     "metadata": {},
     "output_type": "execute_result"
    }
   ],
   "source": [
    "# Let's see the eval accuracy before we train the model\n",
    "resnet_model_v2.evaluate(test_ds)"
   ]
  },
  {
   "cell_type": "markdown",
   "metadata": {},
   "source": [
    "## Comet ML\n",
    "\n",
    "I am use [comet](https://www.comet.ml) to track experiments. They have free plan for personal projects. You can also use W&B or just plain tensorboard as well 😀"
   ]
  },
  {
   "cell_type": "code",
   "execution_count": 58,
   "metadata": {},
   "outputs": [
    {
     "name": "stderr",
     "output_type": "stream",
     "text": [
      "COMET INFO: ---------------------------\n",
      "COMET INFO: Comet.ml Experiment Summary\n",
      "COMET INFO: ---------------------------\n",
      "COMET INFO:   Data:\n",
      "COMET INFO:     display_summary_level : 1\n",
      "COMET INFO:     url                   : https://www.comet.ml/katnoria/cf10-tensorflow/b80fd07c39a1499793cb77a108c4b6e3\n",
      "COMET INFO:   Metrics [count] (min, max):\n",
      "COMET INFO:     train_accuracy [50]           : (0.5623998641967773, 0.7302083373069763)\n",
      "COMET INFO:     train_batch_accuracy [1950]   : (0.0546875, 0.828125)\n",
      "COMET INFO:     train_batch_loss [1950]       : (0.5186846852302551, 6.366534233093262)\n",
      "COMET INFO:     train_epoch_duration [50]     : (5.179524020000827, 7.028564379999807)\n",
      "COMET INFO:     train_loss [50]               : (0.8127211332321167, 1.5457828044891357)\n",
      "COMET INFO:     train_lr [50]                 : 0.0010000000474974513\n",
      "COMET INFO:     train_val_accuracy [50]       : (0.6074719429016113, 0.6468349099159241)\n",
      "COMET INFO:     train_val_loss [50]           : (1.1314399242401123, 1.4361151456832886)\n",
      "COMET INFO:     validate_batch_accuracy [400] : (0.5546875, 0.671875)\n",
      "COMET INFO:     validate_batch_loss [400]     : (1.035698413848877, 1.4859192371368408)\n",
      "COMET INFO:   Others:\n",
      "COMET INFO:     train_trainable_params : 23608202\n",
      "COMET INFO:   Parameters:\n",
      "COMET INFO:     Optimizer                : Adam\n",
      "COMET INFO:     batch_size               : 128\n",
      "COMET INFO:     learning_rate            : 0.001\n",
      "COMET INFO:     train_Adam_amsgrad       : 1\n",
      "COMET INFO:     train_Adam_beta_1        : 0.9\n",
      "COMET INFO:     train_Adam_beta_2        : 0.999\n",
      "COMET INFO:     train_Adam_decay         : 1\n",
      "COMET INFO:     train_Adam_epsilon       : 1e-07\n",
      "COMET INFO:     train_Adam_learning_rate : 0.001\n",
      "COMET INFO:     train_Adam_name          : Adam\n",
      "COMET INFO:     train_epochs             : 50\n",
      "COMET INFO:     train_steps              : 390\n",
      "COMET INFO:   Uploads:\n",
      "COMET INFO:     environment details      : 1\n",
      "COMET INFO:     filename                 : 1\n",
      "COMET INFO:     git metadata             : 1\n",
      "COMET INFO:     git-patch (uncompressed) : 1 (2 MB)\n",
      "COMET INFO:     installed packages       : 1\n",
      "COMET INFO:     model graph              : 1\n",
      "COMET INFO:     os packages              : 1\n",
      "COMET INFO: ---------------------------\n",
      "COMET INFO: Experiment is live on comet.ml https://www.comet.ml/katnoria/cf10-tensorflow/12ed043db6384b46a092d25eb5702d48\n",
      "\n"
     ]
    }
   ],
   "source": [
    "experiment = Experiment(api_key=COMET_ML_API_KEY,\n",
    "                        project_name=\"cf10-tensorflow\", workspace=\"katnoria\")\n",
    "# add a tag\n",
    "experiment.add_tag(\"R50+Drop+Dense\")"
   ]
  },
  {
   "cell_type": "code",
   "execution_count": null,
   "metadata": {},
   "outputs": [],
   "source": []
  },
  {
   "cell_type": "code",
   "execution_count": 59,
   "metadata": {},
   "outputs": [
    {
     "name": "stdout",
     "output_type": "stream",
     "text": [
      "Epoch 1/50\n",
      "390/390 - 5s - loss: 2.0248 - accuracy: 0.5117 - val_loss: 1.2012 - val_accuracy: 0.6260\n",
      "Epoch 2/50\n",
      "390/390 - 5s - loss: 1.3081 - accuracy: 0.6016 - val_loss: 1.1133 - val_accuracy: 0.6363\n",
      "Epoch 3/50\n",
      "390/390 - 5s - loss: 1.1957 - accuracy: 0.6155 - val_loss: 1.0942 - val_accuracy: 0.6389\n",
      "Epoch 4/50\n",
      "390/390 - 5s - loss: 1.1698 - accuracy: 0.6216 - val_loss: 1.0936 - val_accuracy: 0.6470\n",
      "Epoch 5/50\n",
      "390/390 - 5s - loss: 1.1572 - accuracy: 0.6263 - val_loss: 1.1395 - val_accuracy: 0.6306\n",
      "Epoch 6/50\n",
      "390/390 - 5s - loss: 1.1563 - accuracy: 0.6284 - val_loss: 1.1048 - val_accuracy: 0.6465\n",
      "Epoch 7/50\n",
      "390/390 - 5s - loss: 1.1680 - accuracy: 0.6232 - val_loss: 1.0877 - val_accuracy: 0.6450\n",
      "Epoch 8/50\n",
      "390/390 - 5s - loss: 1.1637 - accuracy: 0.6296 - val_loss: 1.1454 - val_accuracy: 0.6290\n",
      "Epoch 9/50\n",
      "390/390 - 5s - loss: 1.1603 - accuracy: 0.6259 - val_loss: 1.1184 - val_accuracy: 0.6374\n",
      "Epoch 10/50\n",
      "390/390 - 5s - loss: 1.1630 - accuracy: 0.6283 - val_loss: 1.1517 - val_accuracy: 0.6232\n",
      "Epoch 11/50\n",
      "390/390 - 5s - loss: 1.1604 - accuracy: 0.6286 - val_loss: 1.1450 - val_accuracy: 0.6399\n",
      "Epoch 12/50\n",
      "390/390 - 5s - loss: 1.1607 - accuracy: 0.6304 - val_loss: 1.1254 - val_accuracy: 0.6304\n",
      "Epoch 13/50\n",
      "390/390 - 5s - loss: 1.1618 - accuracy: 0.6291 - val_loss: 1.1015 - val_accuracy: 0.6509\n",
      "Epoch 14/50\n",
      "390/390 - 5s - loss: 1.1593 - accuracy: 0.6294 - val_loss: 1.1283 - val_accuracy: 0.6358\n",
      "Epoch 15/50\n",
      "390/390 - 5s - loss: 1.1553 - accuracy: 0.6264 - val_loss: 1.1362 - val_accuracy: 0.6358\n",
      "Epoch 16/50\n",
      "390/390 - 5s - loss: 1.1613 - accuracy: 0.6291 - val_loss: 1.1090 - val_accuracy: 0.6450\n",
      "Epoch 17/50\n",
      "390/390 - 5s - loss: 1.1658 - accuracy: 0.6292 - val_loss: 1.1078 - val_accuracy: 0.6411\n",
      "Epoch 18/50\n",
      "390/390 - 5s - loss: 1.1646 - accuracy: 0.6243 - val_loss: 1.0891 - val_accuracy: 0.6486\n",
      "Epoch 19/50\n",
      "390/390 - 5s - loss: 1.1539 - accuracy: 0.6296 - val_loss: 1.1071 - val_accuracy: 0.6478\n",
      "Epoch 20/50\n",
      "390/390 - 5s - loss: 1.1653 - accuracy: 0.6266 - val_loss: 1.1064 - val_accuracy: 0.6430\n",
      "Epoch 21/50\n",
      "390/390 - 5s - loss: 1.1620 - accuracy: 0.6280 - val_loss: 1.1058 - val_accuracy: 0.6453\n",
      "Epoch 22/50\n",
      "390/390 - 5s - loss: 1.1693 - accuracy: 0.6291 - val_loss: 1.1081 - val_accuracy: 0.6388\n",
      "Epoch 23/50\n",
      "390/390 - 5s - loss: 1.1597 - accuracy: 0.6296 - val_loss: 1.1151 - val_accuracy: 0.6422\n",
      "Epoch 24/50\n",
      "390/390 - 5s - loss: 1.1578 - accuracy: 0.6292 - val_loss: 1.1248 - val_accuracy: 0.6411\n",
      "Epoch 25/50\n",
      "390/390 - 5s - loss: 1.1642 - accuracy: 0.6282 - val_loss: 1.1234 - val_accuracy: 0.6424\n",
      "Epoch 26/50\n",
      "390/390 - 5s - loss: 1.1660 - accuracy: 0.6280 - val_loss: 1.1421 - val_accuracy: 0.6367\n",
      "Epoch 27/50\n",
      "390/390 - 5s - loss: 1.1613 - accuracy: 0.6290 - val_loss: 1.1290 - val_accuracy: 0.6392\n",
      "Epoch 28/50\n",
      "390/390 - 5s - loss: 1.1542 - accuracy: 0.6328 - val_loss: 1.1138 - val_accuracy: 0.6415\n",
      "Epoch 29/50\n",
      "390/390 - 5s - loss: 1.1555 - accuracy: 0.6294 - val_loss: 1.1291 - val_accuracy: 0.6349\n",
      "Epoch 30/50\n",
      "390/390 - 5s - loss: 1.1650 - accuracy: 0.6281 - val_loss: 1.1175 - val_accuracy: 0.6400\n",
      "Epoch 31/50\n",
      "390/390 - 5s - loss: 1.1672 - accuracy: 0.6288 - val_loss: 1.1526 - val_accuracy: 0.6390\n",
      "Epoch 32/50\n",
      "390/390 - 5s - loss: 1.1613 - accuracy: 0.6306 - val_loss: 1.0972 - val_accuracy: 0.6468\n",
      "Epoch 33/50\n",
      "390/390 - 5s - loss: 1.1694 - accuracy: 0.6280 - val_loss: 1.1238 - val_accuracy: 0.6441\n",
      "Epoch 34/50\n",
      "390/390 - 5s - loss: 1.1642 - accuracy: 0.6270 - val_loss: 1.1386 - val_accuracy: 0.6450\n",
      "Epoch 35/50\n",
      "390/390 - 5s - loss: 1.1646 - accuracy: 0.6281 - val_loss: 1.1208 - val_accuracy: 0.6389\n",
      "Epoch 36/50\n",
      "390/390 - 5s - loss: 1.1626 - accuracy: 0.6295 - val_loss: 1.1258 - val_accuracy: 0.6412\n",
      "Epoch 37/50\n",
      "390/390 - 5s - loss: 1.1598 - accuracy: 0.6306 - val_loss: 1.0931 - val_accuracy: 0.6489\n",
      "Epoch 38/50\n",
      "390/390 - 5s - loss: 1.1614 - accuracy: 0.6287 - val_loss: 1.1158 - val_accuracy: 0.6475\n",
      "Epoch 39/50\n",
      "390/390 - 5s - loss: 1.1648 - accuracy: 0.6281 - val_loss: 1.1085 - val_accuracy: 0.6478\n",
      "Epoch 40/50\n",
      "390/390 - 5s - loss: 1.1585 - accuracy: 0.6313 - val_loss: 1.1390 - val_accuracy: 0.6445\n",
      "Epoch 41/50\n",
      "390/390 - 5s - loss: 1.1648 - accuracy: 0.6296 - val_loss: 1.1599 - val_accuracy: 0.6372\n",
      "Epoch 42/50\n",
      "390/390 - 5s - loss: 1.1662 - accuracy: 0.6259 - val_loss: 1.1140 - val_accuracy: 0.6390\n",
      "Epoch 43/50\n",
      "390/390 - 5s - loss: 1.1708 - accuracy: 0.6278 - val_loss: 1.0921 - val_accuracy: 0.6474\n",
      "Epoch 44/50\n",
      "390/390 - 5s - loss: 1.1660 - accuracy: 0.6268 - val_loss: 1.1069 - val_accuracy: 0.6406\n",
      "Epoch 45/50\n",
      "390/390 - 5s - loss: 1.1574 - accuracy: 0.6294 - val_loss: 1.1419 - val_accuracy: 0.6310\n",
      "Epoch 46/50\n",
      "390/390 - 5s - loss: 1.1626 - accuracy: 0.6287 - val_loss: 1.1181 - val_accuracy: 0.6417\n",
      "Epoch 47/50\n",
      "390/390 - 5s - loss: 1.1634 - accuracy: 0.6287 - val_loss: 1.1326 - val_accuracy: 0.6400\n",
      "Epoch 48/50\n",
      "390/390 - 5s - loss: 1.1601 - accuracy: 0.6285 - val_loss: 1.1043 - val_accuracy: 0.6439\n",
      "Epoch 49/50\n",
      "390/390 - 5s - loss: 1.1661 - accuracy: 0.6287 - val_loss: 1.1382 - val_accuracy: 0.6360\n",
      "Epoch 50/50\n",
      "390/390 - 5s - loss: 1.1720 - accuracy: 0.6275 - val_loss: 1.1190 - val_accuracy: 0.6448\n"
     ]
    }
   ],
   "source": [
    "# We are going to train for 50 epochs\n",
    "EPOCHS=50\n",
    "with experiment.train():\n",
    "    history = resnet_model_v2.fit(\n",
    "        train_ds, epochs=EPOCHS, validation_data=test_ds, \n",
    "        verbose=2, callbacks=[reduce_lr]\n",
    "    )"
   ]
  },
  {
   "cell_type": "code",
   "execution_count": 60,
   "metadata": {},
   "outputs": [],
   "source": [
    "params = {\n",
    "    \"batch_size\": BATCH_SIZE,\n",
    "    \"learning_rate\": lr,\n",
    "    \"epochs\": EPOCHS\n",
    "}"
   ]
  },
  {
   "cell_type": "code",
   "execution_count": 61,
   "metadata": {},
   "outputs": [],
   "source": [
    "experiment.log_parameters(params)"
   ]
  },
  {
   "cell_type": "code",
   "execution_count": 62,
   "metadata": {},
   "outputs": [
    {
     "name": "stderr",
     "output_type": "stream",
     "text": [
      "COMET INFO: ---------------------------\n",
      "COMET INFO: Comet.ml Experiment Summary\n",
      "COMET INFO: ---------------------------\n",
      "COMET INFO:   Data:\n",
      "COMET INFO:     display_summary_level : 1\n",
      "COMET INFO:     url                   : https://www.comet.ml/katnoria/cf10-tensorflow/12ed043db6384b46a092d25eb5702d48\n",
      "COMET INFO:   Metrics [count] (min, max):\n",
      "COMET INFO:     train_accuracy [50]           : (0.5116786956787109, 0.6328125)\n",
      "COMET INFO:     train_batch_accuracy [1950]   : (0.0625, 0.734375)\n",
      "COMET INFO:     train_batch_loss [1950]       : (0.823480486869812, 7.332725524902344)\n",
      "COMET INFO:     train_epoch_duration [50]     : (5.187726827000006, 6.995035760999599)\n",
      "COMET INFO:     train_loss [50]               : (1.1538918018341064, 2.0247995853424072)\n",
      "COMET INFO:     train_lr [50]                 : 0.0010000000474974513\n",
      "COMET INFO:     train_val_accuracy [50]       : (0.6231971383094788, 0.6509414911270142)\n",
      "COMET INFO:     train_val_loss [50]           : (1.0876882076263428, 1.2011876106262207)\n",
      "COMET INFO:     validate_batch_accuracy [400] : (0.59375, 0.6953125)\n",
      "COMET INFO:     validate_batch_loss [400]     : (1.0013763904571533, 1.315474510192871)\n",
      "COMET INFO:   Others:\n",
      "COMET INFO:     train_trainable_params : 23608202\n",
      "COMET INFO:   Parameters:\n",
      "COMET INFO:     batch_size               : 128\n",
      "COMET INFO:     learning_rate            : 0.001\n",
      "COMET INFO:     train_Adam_amsgrad       : 1\n",
      "COMET INFO:     train_Adam_beta_1        : 0.9\n",
      "COMET INFO:     train_Adam_beta_2        : 0.999\n",
      "COMET INFO:     train_Adam_decay         : 1\n",
      "COMET INFO:     train_Adam_epsilon       : 1e-07\n",
      "COMET INFO:     train_Adam_learning_rate : 0.001\n",
      "COMET INFO:     train_Adam_name          : Adam\n",
      "COMET INFO:     train_epochs             : 50\n",
      "COMET INFO:     train_steps              : 390\n",
      "COMET INFO:   Uploads:\n",
      "COMET INFO:     code                     : 1 (10 KB)\n",
      "COMET INFO:     environment details      : 1\n",
      "COMET INFO:     filename                 : 1\n",
      "COMET INFO:     git metadata             : 1\n",
      "COMET INFO:     git-patch (uncompressed) : 1 (2 MB)\n",
      "COMET INFO:     installed packages       : 1\n",
      "COMET INFO:     model graph              : 1\n",
      "COMET INFO:     notebook                 : 1\n",
      "COMET INFO:     os packages              : 1\n",
      "COMET INFO: ---------------------------\n",
      "COMET INFO: Uploading stats to Comet before program termination (may take several seconds)\n"
     ]
    }
   ],
   "source": [
    "experiment.end()"
   ]
  },
  {
   "cell_type": "code",
   "execution_count": 53,
   "metadata": {},
   "outputs": [
    {
     "data": {
      "image/png": "[encoded data removed]",
      "text/plain": [
       "<Figure size 1008x432 with 2 Axes>"
      ]
     },
     "metadata": {},
     "output_type": "display_data"
    }
   ],
   "source": [
    "plot_history(history)"
   ]
  },
  {
   "cell_type": "markdown",
   "metadata": {},
   "source": [
    "# Increase the network depth\n",
    "\n",
    "If we notice the training accuracy, we see that we not not overfitting which probably means our network capacity is not enough. Let's now try to increase linear layers."
   ]
  },
  {
   "cell_type": "code",
   "execution_count": null,
   "metadata": {},
   "outputs": [],
   "source": []
  },
  {
   "cell_type": "code",
   "execution_count": 63,
   "metadata": {},
   "outputs": [],
   "source": [
    "def get_pretrained_model_v4(base_model, transforms=None):\n",
    "    inputs = Input(shape=(IMG_SIZE, IMG_SIZE, 3))\n",
    "    if transforms is not None:\n",
    "        x = transforms(inputs)\n",
    "    x = tf.keras.applications.resnet.preprocess_input(inputs)\n",
    "    x = base_model(x, training=False)\n",
    "#     x = GlobalAveragePooling2D()(x)\n",
    "    x = Flatten()(x)\n",
    "    x = Dense(256, activation='relu')(x)        \n",
    "    x = Dropout(0.7)(x)\n",
    "    outputs = Dense(NUM_CLASSES)(x)\n",
    "    _model = tf.keras.Model(inputs, outputs)    \n",
    "    return _model"
   ]
  },
  {
   "cell_type": "code",
   "execution_count": 64,
   "metadata": {},
   "outputs": [
    {
     "name": "stdout",
     "output_type": "stream",
     "text": [
      "Model: \"functional_9\"\n",
      "_________________________________________________________________\n",
      "Layer (type)                 Output Shape              Param #   \n",
      "=================================================================\n",
      "input_8 (InputLayer)         [(None, 32, 32, 3)]       0         \n",
      "_________________________________________________________________\n",
      "tf_op_layer_strided_slice_4  [(None, 32, 32, 3)]       0         \n",
      "_________________________________________________________________\n",
      "tf_op_layer_BiasAdd_4 (Tenso [(None, 32, 32, 3)]       0         \n",
      "_________________________________________________________________\n",
      "resnet50 (Functional)        (None, 1, 1, 2048)        23587712  \n",
      "_________________________________________________________________\n",
      "flatten (Flatten)            (None, 2048)              0         \n",
      "_________________________________________________________________\n",
      "dense_4 (Dense)              (None, 256)               524544    \n",
      "_________________________________________________________________\n",
      "dropout_1 (Dropout)          (None, 256)               0         \n",
      "_________________________________________________________________\n",
      "dense_5 (Dense)              (None, 10)                2570      \n",
      "=================================================================\n",
      "Total params: 24,114,826\n",
      "Trainable params: 527,114\n",
      "Non-trainable params: 23,587,712\n",
      "_________________________________________________________________\n"
     ]
    }
   ],
   "source": [
    "resnet_model_v4 = get_pretrained_model_v4(base_model, transforms)\n",
    "resnet_model_v4.summary()"
   ]
  },
  {
   "cell_type": "code",
   "execution_count": 65,
   "metadata": {},
   "outputs": [
    {
     "name": "stderr",
     "output_type": "stream",
     "text": [
      "COMET INFO: Experiment is live on comet.ml https://www.comet.ml/katnoria/cf10-tensorflow/6112baebec81432595efc6cd22b3ed73\n",
      "\n"
     ]
    }
   ],
   "source": [
    "experiment = Experiment(api_key=\"r3QI6mx4KaB3v0VMFwt6bcf33\",\n",
    "                        project_name=\"cf10-tensorflow\", workspace=\"katnoria\")\n",
    "# add a tag\n",
    "experiment.add_tag(\"R50+Dense+Drop+Dense\")"
   ]
  },
  {
   "cell_type": "code",
   "execution_count": 66,
   "metadata": {},
   "outputs": [],
   "source": [
    "lr = 1e-3\n",
    "\n",
    "reduce_lr = ReduceLROnPlateau(monitor='val_loss', factor=0.2,\n",
    "                              patience=5, min_lr=0.001)\n",
    "\n",
    "resnet_model_v4.compile(\n",
    "    optimizer=tf.keras.optimizers.Adam(lr),\n",
    "    loss=tf.keras.losses.SparseCategoricalCrossentropy(from_logits=True),\n",
    "    metrics=['accuracy']\n",
    ")"
   ]
  },
  {
   "cell_type": "code",
   "execution_count": 67,
   "metadata": {},
   "outputs": [
    {
     "name": "stdout",
     "output_type": "stream",
     "text": [
      "Epoch 1/50\n",
      "390/390 - 6s - loss: 1.6943 - accuracy: 0.4474 - val_loss: 1.1374 - val_accuracy: 0.6042\n",
      "Epoch 2/50\n",
      "390/390 - 5s - loss: 1.3316 - accuracy: 0.5340 - val_loss: 1.0730 - val_accuracy: 0.6271\n",
      "Epoch 3/50\n",
      "390/390 - 5s - loss: 1.2400 - accuracy: 0.5682 - val_loss: 1.0342 - val_accuracy: 0.6393\n",
      "Epoch 4/50\n",
      "390/390 - 5s - loss: 1.1886 - accuracy: 0.5845 - val_loss: 1.0098 - val_accuracy: 0.6467\n",
      "Epoch 5/50\n",
      "390/390 - 5s - loss: 1.1468 - accuracy: 0.6002 - val_loss: 0.9909 - val_accuracy: 0.6510\n",
      "Epoch 6/50\n",
      "390/390 - 5s - loss: 1.1127 - accuracy: 0.6111 - val_loss: 0.9823 - val_accuracy: 0.6583\n",
      "Epoch 7/50\n",
      "390/390 - 5s - loss: 1.0883 - accuracy: 0.6194 - val_loss: 0.9742 - val_accuracy: 0.6593\n",
      "Epoch 8/50\n",
      "390/390 - 5s - loss: 1.0610 - accuracy: 0.6287 - val_loss: 0.9608 - val_accuracy: 0.6659\n",
      "Epoch 9/50\n",
      "390/390 - 5s - loss: 1.0485 - accuracy: 0.6350 - val_loss: 0.9579 - val_accuracy: 0.6706\n",
      "Epoch 10/50\n",
      "390/390 - 5s - loss: 1.0310 - accuracy: 0.6408 - val_loss: 0.9645 - val_accuracy: 0.6669\n",
      "Epoch 11/50\n",
      "390/390 - 5s - loss: 1.0148 - accuracy: 0.6434 - val_loss: 0.9581 - val_accuracy: 0.6733\n",
      "Epoch 12/50\n",
      "390/390 - 5s - loss: 0.9980 - accuracy: 0.6479 - val_loss: 0.9502 - val_accuracy: 0.6689\n",
      "Epoch 13/50\n",
      "390/390 - 5s - loss: 0.9799 - accuracy: 0.6529 - val_loss: 0.9512 - val_accuracy: 0.6726\n",
      "Epoch 14/50\n",
      "390/390 - 5s - loss: 0.9665 - accuracy: 0.6587 - val_loss: 0.9441 - val_accuracy: 0.6771\n",
      "Epoch 15/50\n",
      "390/390 - 5s - loss: 0.9537 - accuracy: 0.6624 - val_loss: 0.9454 - val_accuracy: 0.6752\n",
      "Epoch 16/50\n",
      "390/390 - 5s - loss: 0.9493 - accuracy: 0.6652 - val_loss: 0.9492 - val_accuracy: 0.6729\n",
      "Epoch 17/50\n",
      "390/390 - 5s - loss: 0.9355 - accuracy: 0.6684 - val_loss: 0.9473 - val_accuracy: 0.6778\n",
      "Epoch 18/50\n",
      "390/390 - 5s - loss: 0.9222 - accuracy: 0.6698 - val_loss: 0.9533 - val_accuracy: 0.6786\n",
      "Epoch 19/50\n",
      "390/390 - 5s - loss: 0.9063 - accuracy: 0.6764 - val_loss: 0.9432 - val_accuracy: 0.6822\n",
      "Epoch 20/50\n",
      "390/390 - 5s - loss: 0.9045 - accuracy: 0.6786 - val_loss: 0.9508 - val_accuracy: 0.6763\n",
      "Epoch 21/50\n",
      "390/390 - 5s - loss: 0.8958 - accuracy: 0.6806 - val_loss: 0.9560 - val_accuracy: 0.6779\n",
      "Epoch 22/50\n",
      "390/390 - 5s - loss: 0.8767 - accuracy: 0.6837 - val_loss: 0.9638 - val_accuracy: 0.6731\n",
      "Epoch 23/50\n",
      "390/390 - 5s - loss: 0.8635 - accuracy: 0.6882 - val_loss: 0.9631 - val_accuracy: 0.6739\n",
      "Epoch 24/50\n",
      "390/390 - 5s - loss: 0.8592 - accuracy: 0.6894 - val_loss: 0.9714 - val_accuracy: 0.6817\n",
      "Epoch 25/50\n",
      "390/390 - 5s - loss: 0.8437 - accuracy: 0.6986 - val_loss: 0.9722 - val_accuracy: 0.6778\n",
      "Epoch 26/50\n",
      "390/390 - 5s - loss: 0.8468 - accuracy: 0.6936 - val_loss: 0.9729 - val_accuracy: 0.6773\n",
      "Epoch 27/50\n",
      "390/390 - 5s - loss: 0.8375 - accuracy: 0.6964 - val_loss: 0.9740 - val_accuracy: 0.6796\n",
      "Epoch 28/50\n",
      "390/390 - 5s - loss: 0.8237 - accuracy: 0.7015 - val_loss: 0.9784 - val_accuracy: 0.6827\n",
      "Epoch 29/50\n",
      "390/390 - 5s - loss: 0.8206 - accuracy: 0.6994 - val_loss: 0.9815 - val_accuracy: 0.6834\n",
      "Epoch 30/50\n",
      "390/390 - 5s - loss: 0.8065 - accuracy: 0.7039 - val_loss: 0.9838 - val_accuracy: 0.6833\n",
      "Epoch 31/50\n",
      "390/390 - 5s - loss: 0.7998 - accuracy: 0.7080 - val_loss: 0.9974 - val_accuracy: 0.6794\n",
      "Epoch 32/50\n",
      "390/390 - 5s - loss: 0.7941 - accuracy: 0.7097 - val_loss: 0.9994 - val_accuracy: 0.6813\n",
      "Epoch 33/50\n",
      "390/390 - 5s - loss: 0.7909 - accuracy: 0.7106 - val_loss: 0.9919 - val_accuracy: 0.6780\n",
      "Epoch 34/50\n",
      "390/390 - 5s - loss: 0.7836 - accuracy: 0.7107 - val_loss: 1.0121 - val_accuracy: 0.6777\n",
      "Epoch 35/50\n",
      "390/390 - 5s - loss: 0.7744 - accuracy: 0.7124 - val_loss: 1.0134 - val_accuracy: 0.6787\n",
      "Epoch 36/50\n",
      "390/390 - 5s - loss: 0.7689 - accuracy: 0.7187 - val_loss: 1.0248 - val_accuracy: 0.6805\n",
      "Epoch 37/50\n",
      "390/390 - 5s - loss: 0.7634 - accuracy: 0.7214 - val_loss: 1.0428 - val_accuracy: 0.6791\n",
      "Epoch 38/50\n",
      "390/390 - 5s - loss: 0.7541 - accuracy: 0.7211 - val_loss: 1.0202 - val_accuracy: 0.6786\n",
      "Epoch 39/50\n",
      "390/390 - 5s - loss: 0.7489 - accuracy: 0.7200 - val_loss: 1.0355 - val_accuracy: 0.6769\n",
      "Epoch 40/50\n",
      "390/390 - 5s - loss: 0.7442 - accuracy: 0.7271 - val_loss: 1.0393 - val_accuracy: 0.6773\n",
      "Epoch 41/50\n",
      "390/390 - 5s - loss: 0.7349 - accuracy: 0.7268 - val_loss: 1.0392 - val_accuracy: 0.6773\n",
      "Epoch 42/50\n",
      "390/390 - 5s - loss: 0.7304 - accuracy: 0.7279 - val_loss: 1.0552 - val_accuracy: 0.6807\n",
      "Epoch 43/50\n",
      "390/390 - 5s - loss: 0.7198 - accuracy: 0.7324 - val_loss: 1.0718 - val_accuracy: 0.6775\n",
      "Epoch 44/50\n",
      "390/390 - 5s - loss: 0.7171 - accuracy: 0.7311 - val_loss: 1.0641 - val_accuracy: 0.6824\n",
      "Epoch 45/50\n",
      "390/390 - 5s - loss: 0.7185 - accuracy: 0.7322 - val_loss: 1.0647 - val_accuracy: 0.6779\n",
      "Epoch 46/50\n",
      "390/390 - 5s - loss: 0.7083 - accuracy: 0.7345 - val_loss: 1.0765 - val_accuracy: 0.6783\n",
      "Epoch 47/50\n",
      "390/390 - 5s - loss: 0.7066 - accuracy: 0.7336 - val_loss: 1.0871 - val_accuracy: 0.6805\n",
      "Epoch 48/50\n",
      "390/390 - 5s - loss: 0.6977 - accuracy: 0.7371 - val_loss: 1.1013 - val_accuracy: 0.6828\n",
      "Epoch 49/50\n",
      "390/390 - 5s - loss: 0.6950 - accuracy: 0.7368 - val_loss: 1.1016 - val_accuracy: 0.6799\n",
      "Epoch 50/50\n",
      "390/390 - 5s - loss: 0.6868 - accuracy: 0.7395 - val_loss: 1.1170 - val_accuracy: 0.6784\n"
     ]
    }
   ],
   "source": [
    "# We are going to train for 50 epochs\n",
    "EPOCHS=50\n",
    "with experiment.train():\n",
    "    history = resnet_model_v4.fit(\n",
    "        train_ds, epochs=EPOCHS, validation_data=test_ds, \n",
    "        verbose=2, callbacks=[reduce_lr]\n",
    "    )"
   ]
  },
  {
   "cell_type": "code",
   "execution_count": 68,
   "metadata": {},
   "outputs": [
    {
     "name": "stderr",
     "output_type": "stream",
     "text": [
      "COMET INFO: ---------------------------\n",
      "COMET INFO: Comet.ml Experiment Summary\n",
      "COMET INFO: ---------------------------\n",
      "COMET INFO:   Data:\n",
      "COMET INFO:     display_summary_level : 1\n",
      "COMET INFO:     url                   : https://www.comet.ml/katnoria/cf10-tensorflow/6112baebec81432595efc6cd22b3ed73\n",
      "COMET INFO:   Metrics [count] (min, max):\n",
      "COMET INFO:     train_accuracy [50]           : (0.4473758041858673, 0.7395432591438293)\n",
      "COMET INFO:     train_batch_accuracy [1950]   : (0.0859375, 0.875)\n",
      "COMET INFO:     train_batch_loss [1950]       : (0.42784979939460754, 9.46520709991455)\n",
      "COMET INFO:     train_epoch_duration [50]     : (5.287976133000484, 7.827700731999357)\n",
      "COMET INFO:     train_loss [50]               : (0.6868393421173096, 1.6942685842514038)\n",
      "COMET INFO:     train_lr [50]                 : 0.0010000000474974513\n",
      "COMET INFO:     train_val_accuracy [50]       : (0.6041666865348816, 0.6833934187889099)\n",
      "COMET INFO:     train_val_loss [50]           : (0.943213939666748, 1.1374067068099976)\n",
      "COMET INFO:     validate_batch_accuracy [400] : (0.5859375, 0.7109375)\n",
      "COMET INFO:     validate_batch_loss [400]     : (0.8761473298072815, 1.2024341821670532)\n",
      "COMET INFO:   Others:\n",
      "COMET INFO:     train_trainable_params : 24114826\n",
      "COMET INFO:   Parameters:\n",
      "COMET INFO:     Adam_amsgrad       : 1\n",
      "COMET INFO:     Adam_beta_1        : 0.9\n",
      "COMET INFO:     Adam_beta_2        : 0.999\n",
      "COMET INFO:     Adam_decay         : 1\n",
      "COMET INFO:     Adam_epsilon       : 1e-07\n",
      "COMET INFO:     Adam_learning_rate : 0.001\n",
      "COMET INFO:     Optimizer          : Adam\n",
      "COMET INFO:     batch_size         : 128\n",
      "COMET INFO:     learning_rate      : 0.001\n",
      "COMET INFO:     train_Adam_name    : Adam\n",
      "COMET INFO:     train_epochs       : 50\n",
      "COMET INFO:     train_steps        : 390\n",
      "COMET INFO:   Uploads:\n",
      "COMET INFO:     code                     : 1 (12 KB)\n",
      "COMET INFO:     environment details      : 1\n",
      "COMET INFO:     filename                 : 1\n",
      "COMET INFO:     git metadata             : 1\n",
      "COMET INFO:     git-patch (uncompressed) : 1 (2 MB)\n",
      "COMET INFO:     installed packages       : 1\n",
      "COMET INFO:     model graph              : 1\n",
      "COMET INFO:     notebook                 : 1\n",
      "COMET INFO:     os packages              : 1\n",
      "COMET INFO: ---------------------------\n",
      "COMET INFO: Uploading stats to Comet before program termination (may take several seconds)\n",
      "COMET INFO: Waiting for completion of the file uploads (may take several seconds)\n",
      "COMET INFO: Still uploading\n"
     ]
    }
   ],
   "source": [
    "params = {\n",
    "    \"batch_size\": BATCH_SIZE,\n",
    "    \"learning_rate\": lr,\n",
    "    \"epochs\": EPOCHS\n",
    "}\n",
    "experiment.log_parameters(params)\n",
    "experiment.end()"
   ]
  },
  {
   "cell_type": "code",
   "execution_count": 69,
   "metadata": {},
   "outputs": [
    {
     "data": {
      "image/png": "[encoded data removed]",
      "text/plain": [
       "<Figure size 1008x432 with 2 Axes>"
      ]
     },
     "metadata": {},
     "output_type": "display_data"
    }
   ],
   "source": [
    "plot_history(history)"
   ]
  },
  {
   "cell_type": "markdown",
   "metadata": {},
   "source": [
    "# Next\n",
    "\n",
    "Well, at this point you could either manually try to tweak the network architecture or make use of hyperparameters tuning library such as Ray or Keras Tuner"
   ]
  },
  {
   "cell_type": "code",
   "execution_count": null,
   "metadata": {},
   "outputs": [],
   "source": []
  }
 ],
 "metadata": {
  "kernelspec": {
   "display_name": "Python [conda env:tf2_3]",
   "language": "python",
   "name": "conda-env-tf2_3-py"
  },
  "language_info": {
   "codemirror_mode": {
    "name": "ipython",
    "version": 3
   },
   "file_extension": ".py",
   "mimetype": "text/x-python",
   "name": "python",
   "nbconvert_exporter": "python",
   "pygments_lexer": "ipython3",
   "version": "3.6.11"
  }
 },
 "nbformat": 4,
 "nbformat_minor": 4
}
