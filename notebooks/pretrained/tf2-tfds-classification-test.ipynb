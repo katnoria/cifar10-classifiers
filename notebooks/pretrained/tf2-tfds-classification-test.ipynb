{
 "cells": [
  {
   "cell_type": "markdown",
   "metadata": {},
   "source": [
    "# Classfication Network Architecture\n",
    "\n",
    "I am unable to get flowers classification network to get a validation accuracy > 48%. Try out different techniques including the same architecture I used to train CIFAR10 images\n",
    "\n",
    "@date: 06-Aug-2020 | @author: katnoria"
   ]
  },
  {
   "cell_type": "code",
   "execution_count": 1,
   "metadata": {},
   "outputs": [],
   "source": [
    "import matplotlib.pyplot as plt\n",
    "import tensorflow as tf\n",
    "import tensorflow_datasets as tfds\n",
    "from tensorflow.keras.layers import Dense, Flatten, Conv2D, MaxPool2D, Dropout\n",
    "from tensorflow.keras.layers import BatchNormalization, Input, GlobalAveragePooling2D\n",
    "from tensorflow.keras import Model"
   ]
  },
  {
   "cell_type": "code",
   "execution_count": 2,
   "metadata": {},
   "outputs": [],
   "source": [
    "def version_info(cls):\n",
    "    print(f\"{cls.__name__}: {cls.__version__}\")"
   ]
  },
  {
   "cell_type": "code",
   "execution_count": 3,
   "metadata": {},
   "outputs": [
    {
     "name": "stdout",
     "output_type": "stream",
     "text": [
      "Version Used in this Notebook:\n",
      "tensorflow: 2.3.0\n",
      "tensorflow_datasets: 3.2.1\n"
     ]
    }
   ],
   "source": [
    "print(\"Version Used in this Notebook:\")\n",
    "version_info(tf)\n",
    "version_info(tfds)"
   ]
  },
  {
   "cell_type": "code",
   "execution_count": 4,
   "metadata": {},
   "outputs": [
    {
     "name": "stdout",
     "output_type": "stream",
     "text": [
      "Num GPUs Available:  1\n"
     ]
    }
   ],
   "source": [
    "print(\"Num GPUs Available: \", len(tf.config.experimental.list_physical_devices('GPU')))"
   ]
  },
  {
   "cell_type": "code",
   "execution_count": 5,
   "metadata": {},
   "outputs": [
    {
     "name": "stdout",
     "output_type": "stream",
     "text": [
      "1 Physical GPUs, 1 Logical GPU\n"
     ]
    }
   ],
   "source": [
    "gpus = tf.config.experimental.list_physical_devices('GPU')\n",
    "if gpus:\n",
    "  # Restrict TensorFlow to only use the first GPU\n",
    "  try:\n",
    "    tf.config.experimental.set_visible_devices(gpus[0], 'GPU')\n",
    "    logical_gpus = tf.config.experimental.list_logical_devices('GPU')\n",
    "    print(len(gpus), \"Physical GPUs,\", len(logical_gpus), \"Logical GPU\")\n",
    "  except RuntimeError as e:\n",
    "    # Visible devices must be set before GPUs have been initialized\n",
    "    print(e)"
   ]
  },
  {
   "cell_type": "markdown",
   "metadata": {},
   "source": [
    "# Dataset\n",
    "\n",
    "Tensorflow Datasets already provides this dataset in a format that we can use out of the box."
   ]
  },
  {
   "cell_type": "code",
   "execution_count": 6,
   "metadata": {},
   "outputs": [],
   "source": [
    "# Load the dataset\n",
    "(ds_train, ds_test), metadata = tfds.load(\n",
    "    'cifar10', split=['train', 'test'], shuffle_files=True, \n",
    "    with_info=True, as_supervised=True\n",
    ")"
   ]
  },
  {
   "cell_type": "code",
   "execution_count": 7,
   "metadata": {},
   "outputs": [
    {
     "data": {
      "text/plain": [
       "(50000, 10000, 10)"
      ]
     },
     "execution_count": 7,
     "metadata": {},
     "output_type": "execute_result"
    }
   ],
   "source": [
    "len(ds_train), len(ds_test), metadata.features['label'].num_classes"
   ]
  },
  {
   "cell_type": "markdown",
   "metadata": {},
   "source": [
    "Use the built in function to visualise the dataset "
   ]
  },
  {
   "cell_type": "code",
   "execution_count": null,
   "metadata": {},
   "outputs": [],
   "source": []
  },
  {
   "cell_type": "code",
   "execution_count": 8,
   "metadata": {},
   "outputs": [
    {
     "data": {
      "text/plain": [
       "FeaturesDict({\n",
       "    'id': Text(shape=(), dtype=tf.string),\n",
       "    'image': Image(shape=(32, 32, 3), dtype=tf.uint8),\n",
       "    'label': ClassLabel(shape=(), dtype=tf.int64, num_classes=10),\n",
       "})"
      ]
     },
     "execution_count": 8,
     "metadata": {},
     "output_type": "execute_result"
    }
   ],
   "source": [
    "# Review metadata\n",
    "# See https://www.tensorflow.org/datasets/overview\n",
    "metadata.features"
   ]
  },
  {
   "cell_type": "code",
   "execution_count": 9,
   "metadata": {},
   "outputs": [
    {
     "name": "stdout",
     "output_type": "stream",
     "text": [
      "Training dataset size: 50000\n",
      "Test dataset size: 10000\n"
     ]
    }
   ],
   "source": [
    "NUM_CLASSES = metadata.features[\"label\"].num_classes\n",
    "\n",
    "num_train_examples = len(ds_train)\n",
    "num_test_examples = len(ds_test)\n",
    "print(f\"Training dataset size: {num_train_examples}\")\n",
    "print(f\"Test dataset size: {num_test_examples}\")"
   ]
  },
  {
   "cell_type": "markdown",
   "metadata": {},
   "source": [
    "### Training Pipeline"
   ]
  },
  {
   "cell_type": "code",
   "execution_count": 10,
   "metadata": {},
   "outputs": [],
   "source": [
    "IMG_SIZE = 32\n",
    "BATCH_SIZE = 256\n",
    "\n",
    "\n",
    "def preprocess_image(image, label):\n",
    "    image = tf.image.convert_image_dtype(image, tf.float32)\n",
    "#     image = tf.image.resize(image, (IMG_SIZE, IMG_SIZE))\n",
    "    return image / 255., label"
   ]
  },
  {
   "cell_type": "code",
   "execution_count": 11,
   "metadata": {},
   "outputs": [],
   "source": [
    "train_ds = ds_train.map(preprocess_image, num_parallel_calls=tf.data.experimental.AUTOTUNE) \\\n",
    "    .cache() \\\n",
    "    .shuffle(num_train_examples).batch(BATCH_SIZE, drop_remainder=True) \\\n",
    "    .prefetch(tf.data.experimental.AUTOTUNE) "
   ]
  },
  {
   "cell_type": "code",
   "execution_count": 12,
   "metadata": {},
   "outputs": [],
   "source": [
    "example = ds_train.take(1)"
   ]
  },
  {
   "cell_type": "code",
   "execution_count": 13,
   "metadata": {},
   "outputs": [
    {
     "data": {
      "image/png": "[encoded data removed]",
      "text/plain": [
       "<Figure size 432x288 with 1 Axes>"
      ]
     },
     "metadata": {
      "needs_background": "light"
     },
     "output_type": "display_data"
    }
   ],
   "source": [
    "for images, labels in example:\n",
    "    plt.imshow(images)"
   ]
  },
  {
   "cell_type": "markdown",
   "metadata": {},
   "source": [
    "### Evaluation Pipeline"
   ]
  },
  {
   "cell_type": "code",
   "execution_count": 14,
   "metadata": {},
   "outputs": [],
   "source": [
    "test_ds = ds_test.map(preprocess_image, num_parallel_calls=tf.data.experimental.AUTOTUNE) \\\n",
    "    .cache() \\\n",
    "    .batch(BATCH_SIZE, drop_remainder=True) \\\n",
    "    .prefetch(tf.data.experimental.AUTOTUNE) "
   ]
  },
  {
   "cell_type": "markdown",
   "metadata": {},
   "source": [
    "# Build Model\n",
    "\n",
    "We now build a simple convolution neural network"
   ]
  },
  {
   "cell_type": "code",
   "execution_count": 15,
   "metadata": {},
   "outputs": [],
   "source": [
    "class FlowersModel(Model):\n",
    "    def __init__(self):\n",
    "        super(FlowersModel, self).__init__()\n",
    "        self.conv1 = Conv2D(32, 3, padding='same')\n",
    "#         self.bn1 = BatchNormalization()\n",
    "        self.conv2 = Conv2D(64, 3, padding='same')\n",
    "        self.pool1 = MaxPool2D(3, 2)\n",
    "#         self.bn2 = BatchNormalization()        \n",
    "        self.pool2 = MaxPool2D(3, 2)        \n",
    "        self.conv3 = Conv2D(128, 3, padding='same')\n",
    "        self.pool3 = MaxPool2D(3, 2)            \n",
    "        self.gap = GlobalAveragePooling2D()        \n",
    "        self.flatten = Flatten()\n",
    "        self.dense1 = Dense(128, activation='relu')\n",
    "        self.dense2 = Dense(NUM_CLASSES)\n",
    "        \n",
    "    def call(self, x, training=False):\n",
    "        x = self.conv1(x)\n",
    "        # using batchnorm results in very low test accuracies\n",
    "        # https://stackoverflow.com/questions/40081697/getting-low-test-accuracy-using-tensorflow-batch-norm-function\n",
    "        # Probably this could help\n",
    "#         x = self.bn1(x, training=training)\n",
    "        x = self.pool1(tf.nn.leaky_relu(x))\n",
    "        # conv 2\n",
    "        x = self.conv2(x)\n",
    "#         x = self.bn2(x, training=training)\n",
    "        x = tf.nn.leaky_relu(x)\n",
    "        x = self.pool2(x)\n",
    "        # conv 3\n",
    "        x = self.conv3(x)\n",
    "        x = tf.nn.leaky_relu(x)\n",
    "        x = self.pool3(x)\n",
    "        # GAP + Linear\n",
    "        x = self.gap(x)\n",
    "        x = self.flatten(x)\n",
    "        x = self.dense1(x)\n",
    "        if training:\n",
    "            x = tf.nn.dropout(x, rate=0.1)\n",
    "        out = self.dense2(x)\n",
    "        return out\n",
    "    \n",
    "class FlowersModelBN(Model):\n",
    "    def __init__(self):\n",
    "        super(FlowersModel, self).__init__()\n",
    "        self.conv1 = Conv2D(32, 3, padding='same')\n",
    "        self.bn1 = BatchNormalization()\n",
    "        self.conv2 = Conv2D(64, 3, padding='same')\n",
    "        self.pool1 = MaxPool2D(3, 2)\n",
    "        self.bn2 = BatchNormalization()        \n",
    "        self.pool2 = MaxPool2D(3, 2)        \n",
    "        self.flatten = Flatten()\n",
    "        self.gap = GlobalAveragePooling2D()\n",
    "        self.dense1 = Dense(128, activation='relu')        \n",
    "        self.dense2 = Dense(NUM_CLASSES)\n",
    "        \n",
    "    def call(self, x, training=False):\n",
    "        x = self.conv1(x)\n",
    "        # using batchnorm results in very low test accuracies\n",
    "        # https://stackoverflow.com/questions/40081697/getting-low-test-accuracy-using-tensorflow-batch-norm-function\n",
    "        # Probably this could help\n",
    "#         x = self.bn1(x, training=training)\n",
    "        x = self.pool1(tf.nn.leaky_relu(x))\n",
    "        \n",
    "        x = self.conv2(x)\n",
    "#         x = self.bn2(x, training=training)\n",
    "        x = tf.nn.leaky_relu(x)\n",
    "        x = self.pool2(x)\n",
    "        x = self.gap(x)\n",
    "        x = self.flatten(x)\n",
    "        x = self.dense1(x)\n",
    "        if training:\n",
    "            x = tf.nn.dropout(x, rate=0.2)\n",
    "        out = self.dense2(x)\n",
    "        return out    "
   ]
  },
  {
   "cell_type": "code",
   "execution_count": 27,
   "metadata": {},
   "outputs": [],
   "source": [
    "model = FlowersModel()"
   ]
  },
  {
   "cell_type": "markdown",
   "metadata": {},
   "source": [
    "Create the loss function and optimizer"
   ]
  },
  {
   "cell_type": "code",
   "execution_count": 21,
   "metadata": {},
   "outputs": [],
   "source": [
    "loss_fn = tf.keras.losses.SparseCategoricalCrossentropy(from_logits=True)\n",
    "optimizer = tf.keras.optimizers.Adam(0.001)"
   ]
  },
  {
   "cell_type": "markdown",
   "metadata": {},
   "source": [
    "We are going to measure the train and test accuracy of the model"
   ]
  },
  {
   "cell_type": "code",
   "execution_count": 22,
   "metadata": {},
   "outputs": [],
   "source": [
    "# Train\n",
    "train_loss = tf.keras.metrics.Mean(name='train_loss')\n",
    "train_acc = tf.keras.metrics.SparseCategoricalAccuracy(name='train_acc')\n",
    "\n",
    "# Test\n",
    "test_loss = tf.keras.metrics.Mean(name='test_loss')\n",
    "test_acc = tf.keras.metrics.SparseCategoricalAccuracy(name='test_acc')"
   ]
  },
  {
   "cell_type": "markdown",
   "metadata": {},
   "source": [
    "We now train the model"
   ]
  },
  {
   "cell_type": "code",
   "execution_count": 23,
   "metadata": {},
   "outputs": [],
   "source": [
    "# Training step\n",
    "@tf.function\n",
    "def train_step(images, labels):\n",
    "    with tf.GradientTape() as tape:\n",
    "        predictions = model(images, training=True)\n",
    "        loss = loss_fn(labels, predictions)\n",
    "    # collect the gradients and apply\n",
    "    gradients = tape.gradient(loss, model.trainable_variables)\n",
    "    optimizer.apply_gradients(zip(gradients, model.trainable_variables))\n",
    "    # loss & acc\n",
    "    train_loss(loss)\n",
    "    train_acc(labels, predictions)\n",
    "    \n",
    "    \n",
    "# Test step    \n",
    "@tf.function\n",
    "def test_step(images, labels):\n",
    "    predictions = model(images, training=False)\n",
    "    loss = loss_fn(labels, predictions)\n",
    "    # loss & acc\n",
    "    test_loss(loss)\n",
    "    test_acc(labels, predictions)"
   ]
  },
  {
   "cell_type": "markdown",
   "metadata": {},
   "source": [
    "# Train the model\n",
    "\n",
    "Now, its time to train the model for N epochs"
   ]
  },
  {
   "cell_type": "code",
   "execution_count": 45,
   "metadata": {},
   "outputs": [
    {
     "name": "stdout",
     "output_type": "stream",
     "text": [
      "Epoch 101: loss=0.9519, accuracy: 0.6601 :: test loss=0.9616, test accuracy: 0.6582\n",
      "Epoch 201: loss=0.8008, accuracy: 0.7150 :: test loss=0.8934, test accuracy: 0.6847\n",
      "Epoch 301: loss=0.7276, accuracy: 0.7389 :: test loss=0.8986, test accuracy: 0.6996\n",
      "Epoch 401: loss=0.6607, accuracy: 0.7612 :: test loss=0.8968, test accuracy: 0.7161\n",
      "Epoch 501: loss=0.6333, accuracy: 0.7736 :: test loss=0.9269, test accuracy: 0.7085\n",
      "Epoch 1001: loss=0.5242, accuracy: 0.8095 :: test loss=1.0011, test accuracy: 0.7085\n"
     ]
    }
   ],
   "source": [
    "# With 2 conv layers + GAP + 2 Linear Layers\n",
    "num_epochs = 1000\n",
    "print_every = int(0.1 * num_epochs)\n",
    "\n",
    "for epoch in range(1, num_epochs+1):\n",
    "    train_loss.reset_states()\n",
    "    train_acc.reset_states()\n",
    "    test_loss.reset_states()\n",
    "    test_acc.reset_states()\n",
    "    \n",
    "    for images, labels in train_ds:\n",
    "        train_step(images, labels)\n",
    "        \n",
    "    for tst_images, tst_labels in test_ds:\n",
    "        test_step(tst_images, tst_labels)\n",
    "        \n",
    "    if epoch % print_every == 0:\n",
    "        print(f\"Epoch {epoch+1}: loss={train_loss.result():.4f}, accuracy: {train_acc.result():.4f} :: test loss={test_loss.result():.4f}, test accuracy: {test_acc.result():.4f}\")"
   ]
  },
  {
   "cell_type": "code",
   "execution_count": 28,
   "metadata": {},
   "outputs": [
    {
     "name": "stdout",
     "output_type": "stream",
     "text": [
      "Epoch 101: loss=0.3940, accuracy: 0.8594 :: test loss=0.9450, test accuracy: 0.7091\n",
      "Epoch 201: loss=0.1793, accuracy: 0.9353 :: test loss=1.2561, test accuracy: 0.7294\n",
      "Epoch 301: loss=0.0909, accuracy: 0.9673 :: test loss=1.8072, test accuracy: 0.7250\n",
      "Epoch 401: loss=0.0799, accuracy: 0.9718 :: test loss=2.1159, test accuracy: 0.7239\n",
      "Epoch 501: loss=0.0652, accuracy: 0.9771 :: test loss=2.4370, test accuracy: 0.7192\n",
      "Epoch 601: loss=0.0464, accuracy: 0.9843 :: test loss=2.6713, test accuracy: 0.7207\n",
      "Epoch 701: loss=0.0324, accuracy: 0.9890 :: test loss=2.9422, test accuracy: 0.7193\n",
      "Epoch 801: loss=0.0344, accuracy: 0.9884 :: test loss=3.0850, test accuracy: 0.7257\n",
      "Epoch 901: loss=0.0275, accuracy: 0.9901 :: test loss=3.1707, test accuracy: 0.7266\n",
      "Epoch 1001: loss=0.0384, accuracy: 0.9866 :: test loss=3.3447, test accuracy: 0.7220\n"
     ]
    }
   ],
   "source": [
    "# With 3 conv layers + GAP + 2 Linear Layers\n",
    "num_epochs = 1000\n",
    "print_every = int(0.1 * num_epochs)\n",
    "\n",
    "for epoch in range(1, num_epochs+1):\n",
    "    train_loss.reset_states()\n",
    "    train_acc.reset_states()\n",
    "    test_loss.reset_states()\n",
    "    test_acc.reset_states()\n",
    "    \n",
    "    for images, labels in train_ds:\n",
    "        train_step(images, labels)\n",
    "        \n",
    "    for tst_images, tst_labels in test_ds:\n",
    "        test_step(tst_images, tst_labels)\n",
    "        \n",
    "    if epoch % print_every == 0:\n",
    "        print(f\"Epoch {epoch+1}: loss={train_loss.result():.4f}, accuracy: {train_acc.result():.4f} :: test loss={test_loss.result():.4f}, test accuracy: {test_acc.result():.4f}\")"
   ]
  },
  {
   "cell_type": "code",
   "execution_count": 30,
   "metadata": {
    "collapsed": true,
    "jupyter": {
     "outputs_hidden": true
    }
   },
   "outputs": [
    {
     "name": "stdout",
     "output_type": "stream",
     "text": [
      "WARNING:tensorflow:Skipping full serialization of Keras layer <__main__.FlowersModel object at 0x7fc1408adcf8>, because it is not built.\n"
     ]
    },
    {
     "name": "stderr",
     "output_type": "stream",
     "text": [
      "WARNING:tensorflow:Skipping full serialization of Keras layer <__main__.FlowersModel object at 0x7fc1408adcf8>, because it is not built.\n"
     ]
    },
    {
     "name": "stdout",
     "output_type": "stream",
     "text": [
      "WARNING:tensorflow:Skipping full serialization of Keras layer <tensorflow.python.keras.layers.convolutional.Conv2D object at 0x7fc07c0cbf60>, because it is not built.\n"
     ]
    },
    {
     "name": "stderr",
     "output_type": "stream",
     "text": [
      "WARNING:tensorflow:Skipping full serialization of Keras layer <tensorflow.python.keras.layers.convolutional.Conv2D object at 0x7fc07c0cbf60>, because it is not built.\n"
     ]
    },
    {
     "name": "stdout",
     "output_type": "stream",
     "text": [
      "WARNING:tensorflow:Skipping full serialization of Keras layer <tensorflow.python.keras.layers.convolutional.Conv2D object at 0x7fc1408faf28>, because it is not built.\n"
     ]
    },
    {
     "name": "stderr",
     "output_type": "stream",
     "text": [
      "WARNING:tensorflow:Skipping full serialization of Keras layer <tensorflow.python.keras.layers.convolutional.Conv2D object at 0x7fc1408faf28>, because it is not built.\n"
     ]
    },
    {
     "name": "stdout",
     "output_type": "stream",
     "text": [
      "WARNING:tensorflow:Skipping full serialization of Keras layer <tensorflow.python.keras.layers.pooling.MaxPooling2D object at 0x7fc1408faac8>, because it is not built.\n"
     ]
    },
    {
     "name": "stderr",
     "output_type": "stream",
     "text": [
      "WARNING:tensorflow:Skipping full serialization of Keras layer <tensorflow.python.keras.layers.pooling.MaxPooling2D object at 0x7fc1408faac8>, because it is not built.\n"
     ]
    },
    {
     "name": "stdout",
     "output_type": "stream",
     "text": [
      "WARNING:tensorflow:Skipping full serialization of Keras layer <tensorflow.python.keras.layers.pooling.MaxPooling2D object at 0x7fc1408fa860>, because it is not built.\n"
     ]
    },
    {
     "name": "stderr",
     "output_type": "stream",
     "text": [
      "WARNING:tensorflow:Skipping full serialization of Keras layer <tensorflow.python.keras.layers.pooling.MaxPooling2D object at 0x7fc1408fa860>, because it is not built.\n"
     ]
    },
    {
     "name": "stdout",
     "output_type": "stream",
     "text": [
      "WARNING:tensorflow:Skipping full serialization of Keras layer <tensorflow.python.keras.layers.convolutional.Conv2D object at 0x7fc1408fa780>, because it is not built.\n"
     ]
    },
    {
     "name": "stderr",
     "output_type": "stream",
     "text": [
      "WARNING:tensorflow:Skipping full serialization of Keras layer <tensorflow.python.keras.layers.convolutional.Conv2D object at 0x7fc1408fa780>, because it is not built.\n"
     ]
    },
    {
     "name": "stdout",
     "output_type": "stream",
     "text": [
      "WARNING:tensorflow:Skipping full serialization of Keras layer <tensorflow.python.keras.layers.pooling.MaxPooling2D object at 0x7fc1408fa978>, because it is not built.\n"
     ]
    },
    {
     "name": "stderr",
     "output_type": "stream",
     "text": [
      "WARNING:tensorflow:Skipping full serialization of Keras layer <tensorflow.python.keras.layers.pooling.MaxPooling2D object at 0x7fc1408fa978>, because it is not built.\n"
     ]
    },
    {
     "name": "stdout",
     "output_type": "stream",
     "text": [
      "WARNING:tensorflow:Skipping full serialization of Keras layer <tensorflow.python.keras.layers.pooling.GlobalAveragePooling2D object at 0x7fc14083f160>, because it is not built.\n"
     ]
    },
    {
     "name": "stderr",
     "output_type": "stream",
     "text": [
      "WARNING:tensorflow:Skipping full serialization of Keras layer <tensorflow.python.keras.layers.pooling.GlobalAveragePooling2D object at 0x7fc14083f160>, because it is not built.\n"
     ]
    },
    {
     "name": "stdout",
     "output_type": "stream",
     "text": [
      "WARNING:tensorflow:Skipping full serialization of Keras layer <tensorflow.python.keras.layers.core.Flatten object at 0x7fc1408e6128>, because it is not built.\n"
     ]
    },
    {
     "name": "stderr",
     "output_type": "stream",
     "text": [
      "WARNING:tensorflow:Skipping full serialization of Keras layer <tensorflow.python.keras.layers.core.Flatten object at 0x7fc1408e6128>, because it is not built.\n"
     ]
    },
    {
     "name": "stdout",
     "output_type": "stream",
     "text": [
      "WARNING:tensorflow:Skipping full serialization of Keras layer <tensorflow.python.keras.layers.core.Dense object at 0x7fc1408e6d30>, because it is not built.\n"
     ]
    },
    {
     "name": "stderr",
     "output_type": "stream",
     "text": [
      "WARNING:tensorflow:Skipping full serialization of Keras layer <tensorflow.python.keras.layers.core.Dense object at 0x7fc1408e6d30>, because it is not built.\n"
     ]
    },
    {
     "name": "stdout",
     "output_type": "stream",
     "text": [
      "WARNING:tensorflow:Skipping full serialization of Keras layer <tensorflow.python.keras.layers.core.Dense object at 0x7fc1408e6ef0>, because it is not built.\n"
     ]
    },
    {
     "name": "stderr",
     "output_type": "stream",
     "text": [
      "WARNING:tensorflow:Skipping full serialization of Keras layer <tensorflow.python.keras.layers.core.Dense object at 0x7fc1408e6ef0>, because it is not built.\n"
     ]
    },
    {
     "name": "stdout",
     "output_type": "stream",
     "text": [
      "INFO:tensorflow:Assets written to: models/assets\n"
     ]
    },
    {
     "name": "stderr",
     "output_type": "stream",
     "text": [
      "INFO:tensorflow:Assets written to: models/assets\n"
     ]
    }
   ],
   "source": [
    "tf.saved_model.save(model, \"models\")"
   ]
  },
  {
   "cell_type": "code",
   "execution_count": null,
   "metadata": {},
   "outputs": [],
   "source": []
  },
  {
   "cell_type": "markdown",
   "metadata": {},
   "source": [
    "# Use Keras fit Method\n",
    "\n",
    "An easier way is to just use the keras fit method"
   ]
  },
  {
   "cell_type": "code",
   "execution_count": 88,
   "metadata": {
    "collapsed": true,
    "jupyter": {
     "outputs_hidden": true
    }
   },
   "outputs": [
    {
     "name": "stdout",
     "output_type": "stream",
     "text": [
      "Epoch 1/10\n",
      "  1/195 [..............................] - ETA: 0s - loss: 2.4158 - accuracy: 0.0820WARNING:tensorflow:Callbacks method `on_train_batch_end` is slow compared to the batch time (batch time: 0.0033s vs `on_train_batch_end` time: 0.0052s). Check your callbacks.\n"
     ]
    },
    {
     "name": "stderr",
     "output_type": "stream",
     "text": [
      "WARNING:tensorflow:Callbacks method `on_train_batch_end` is slow compared to the batch time (batch time: 0.0033s vs `on_train_batch_end` time: 0.0052s). Check your callbacks.\n"
     ]
    },
    {
     "name": "stdout",
     "output_type": "stream",
     "text": [
      "195/195 [==============================] - 2s 10ms/step - loss: 1.4477 - accuracy: 0.4803 - val_loss: 2.3369 - val_accuracy: 0.1000\n",
      "Epoch 2/10\n",
      "195/195 [==============================] - 2s 9ms/step - loss: 1.0864 - accuracy: 0.6147 - val_loss: 6.5635 - val_accuracy: 0.1000\n",
      "Epoch 3/10\n",
      "195/195 [==============================] - 2s 9ms/step - loss: 0.9503 - accuracy: 0.6647 - val_loss: 9.6181 - val_accuracy: 0.1012\n",
      "Epoch 4/10\n",
      "195/195 [==============================] - 2s 9ms/step - loss: 0.8772 - accuracy: 0.6907 - val_loss: 34.9941 - val_accuracy: 0.1000\n",
      "Epoch 5/10\n",
      "195/195 [==============================] - 2s 9ms/step - loss: 0.8220 - accuracy: 0.7115 - val_loss: 66.8259 - val_accuracy: 0.1033\n",
      "Epoch 6/10\n",
      "195/195 [==============================] - 2s 10ms/step - loss: 0.7678 - accuracy: 0.7300 - val_loss: 61.1285 - val_accuracy: 0.1003\n",
      "Epoch 7/10\n",
      "195/195 [==============================] - 2s 9ms/step - loss: 0.7311 - accuracy: 0.7434 - val_loss: 137.5869 - val_accuracy: 0.0999\n",
      "Epoch 8/10\n",
      "195/195 [==============================] - 2s 9ms/step - loss: 0.6918 - accuracy: 0.7573 - val_loss: 58.9506 - val_accuracy: 0.1000\n",
      "Epoch 9/10\n",
      "195/195 [==============================] - 2s 9ms/step - loss: 0.6615 - accuracy: 0.7678 - val_loss: 26.2375 - val_accuracy: 0.1000\n",
      "Epoch 10/10\n",
      "195/195 [==============================] - 2s 9ms/step - loss: 0.6349 - accuracy: 0.7770 - val_loss: 24.8745 - val_accuracy: 0.1000\n"
     ]
    },
    {
     "data": {
      "text/plain": [
       "<tensorflow.python.keras.callbacks.History at 0x7f697f40a240>"
      ]
     },
     "execution_count": 88,
     "metadata": {},
     "output_type": "execute_result"
    }
   ],
   "source": [
    "model = FlowersModel()\n",
    "model.compile(\n",
    "    loss=loss_fn, \n",
    "    optimizer=tf.keras.optimizers.Adam(0.001),\n",
    "    metrics=['accuracy'],    \n",
    ")\n",
    "model.fit(\n",
    "    train_ds,\n",
    "    epochs=10,\n",
    "    validation_data=test_ds,\n",
    ")"
   ]
  },
  {
   "cell_type": "markdown",
   "metadata": {},
   "source": [
    "# Use Pretrained Models\n",
    "\n",
    "Instead of training the full model, it is generally a good practice to use a pretrained network as a base model and add your layers on top. \n",
    "This allows us to reduce the training times and leverage on what base model has learned."
   ]
  },
  {
   "cell_type": "code",
   "execution_count": 12,
   "metadata": {},
   "outputs": [],
   "source": [
    "IMG_SIZE = 32\n",
    "BATCH_SIZE = 128"
   ]
  },
  {
   "cell_type": "markdown",
   "metadata": {},
   "source": [
    "Do not use the preprocessing we were using earlier, because we now use a pre-trained network as our feature extractor."
   ]
  },
  {
   "cell_type": "code",
   "execution_count": 13,
   "metadata": {},
   "outputs": [],
   "source": [
    "train_ds = ds_train \\\n",
    "    .cache() \\\n",
    "    .shuffle(num_train_examples).batch(BATCH_SIZE, drop_remainder=True) \\\n",
    "    .prefetch(tf.data.experimental.AUTOTUNE) "
   ]
  },
  {
   "cell_type": "code",
   "execution_count": 14,
   "metadata": {},
   "outputs": [],
   "source": [
    "example = ds_train.take(1)"
   ]
  },
  {
   "cell_type": "code",
   "execution_count": 15,
   "metadata": {},
   "outputs": [
    {
     "data": {
      "image/png": "[encoded data removed]",
      "text/plain": [
       "<Figure size 432x288 with 1 Axes>"
      ]
     },
     "metadata": {
      "needs_background": "light"
     },
     "output_type": "display_data"
    }
   ],
   "source": [
    "for images, labels in example:\n",
    "    plt.imshow(images)"
   ]
  },
  {
   "cell_type": "markdown",
   "metadata": {},
   "source": [
    "### Evaluation Pipeline"
   ]
  },
  {
   "cell_type": "code",
   "execution_count": 16,
   "metadata": {},
   "outputs": [],
   "source": [
    "test_ds = ds_test \\\n",
    "    .cache() \\\n",
    "    .batch(BATCH_SIZE, drop_remainder=True) \\\n",
    "    .prefetch(tf.data.experimental.AUTOTUNE) "
   ]
  },
  {
   "cell_type": "code",
   "execution_count": 17,
   "metadata": {},
   "outputs": [],
   "source": [
    "base_model = tf.keras.applications.ResNet50(input_shape=(IMG_SIZE, IMG_SIZE, 3), include_top=False)\n",
    "base_model.trainable = False"
   ]
  },
  {
   "cell_type": "code",
   "execution_count": 18,
   "metadata": {},
   "outputs": [],
   "source": [
    "def get_pretrained_model(base_model):\n",
    "    inputs = Input(shape=(IMG_SIZE, IMG_SIZE, 3))\n",
    "    x = tf.keras.applications.resnet.preprocess_input(inputs)\n",
    "    x = base_model(x, training=False)\n",
    "#     x = GlobalAveragePooling2D()(x)\n",
    "    x = Flatten()(x)\n",
    "    x = Dense(128, activation='relu')(x)    \n",
    "    x = Dropout(0.3)(x)\n",
    "    outputs = Dense(NUM_CLASSES)(x)\n",
    "    _model = tf.keras.Model(inputs, outputs)    \n",
    "    return _model"
   ]
  },
  {
   "cell_type": "code",
   "execution_count": 19,
   "metadata": {
    "collapsed": true,
    "jupyter": {
     "outputs_hidden": true
    }
   },
   "outputs": [
    {
     "name": "stdout",
     "output_type": "stream",
     "text": [
      "Model: \"functional_1\"\n",
      "_________________________________________________________________\n",
      "Layer (type)                 Output Shape              Param #   \n",
      "=================================================================\n",
      "input_2 (InputLayer)         [(None, 32, 32, 3)]       0         \n",
      "_________________________________________________________________\n",
      "tf_op_layer_strided_slice (T [(None, 32, 32, 3)]       0         \n",
      "_________________________________________________________________\n",
      "tf_op_layer_BiasAdd (TensorF [(None, 32, 32, 3)]       0         \n",
      "_________________________________________________________________\n",
      "resnet50 (Functional)        (None, 1, 1, 2048)        23587712  \n",
      "_________________________________________________________________\n",
      "flatten (Flatten)            (None, 2048)              0         \n",
      "_________________________________________________________________\n",
      "dense (Dense)                (None, 128)               262272    \n",
      "_________________________________________________________________\n",
      "dropout (Dropout)            (None, 128)               0         \n",
      "_________________________________________________________________\n",
      "dense_1 (Dense)              (None, 10)                1290      \n",
      "=================================================================\n",
      "Total params: 23,851,274\n",
      "Trainable params: 263,562\n",
      "Non-trainable params: 23,587,712\n",
      "_________________________________________________________________\n"
     ]
    }
   ],
   "source": [
    "resnet_model = get_pretrained_model(base_model)\n",
    "resnet_model.summary()"
   ]
  },
  {
   "cell_type": "code",
   "execution_count": 20,
   "metadata": {},
   "outputs": [],
   "source": [
    "lr = 1e-4\n",
    "resnet_model.compile(\n",
    "    optimizer=tf.keras.optimizers.Adam(lr),\n",
    "    loss=tf.keras.losses.SparseCategoricalCrossentropy(from_logits=True),\n",
    "    metrics=['accuracy']\n",
    ")"
   ]
  },
  {
   "cell_type": "code",
   "execution_count": 21,
   "metadata": {},
   "outputs": [
    {
     "name": "stdout",
     "output_type": "stream",
     "text": [
      "78/78 [==============================] - 1s 11ms/step - loss: 6.2424 - accuracy: 0.0909\n"
     ]
    },
    {
     "data": {
      "text/plain": [
       "[6.242427349090576, 0.09094551205635071]"
      ]
     },
     "execution_count": 21,
     "metadata": {},
     "output_type": "execute_result"
    }
   ],
   "source": [
    "resnet_model.evaluate(test_ds)"
   ]
  },
  {
   "cell_type": "code",
   "execution_count": 22,
   "metadata": {
    "collapsed": true,
    "jupyter": {
     "outputs_hidden": true
    }
   },
   "outputs": [
    {
     "name": "stdout",
     "output_type": "stream",
     "text": [
      "Epoch 1/50\n",
      "390/390 [==============================] - 5s 13ms/step - loss: 1.9499 - accuracy: 0.4231 - val_loss: 1.2907 - val_accuracy: 0.5581\n",
      "Epoch 2/50\n",
      "390/390 [==============================] - 5s 13ms/step - loss: 1.2764 - accuracy: 0.5593 - val_loss: 1.1561 - val_accuracy: 0.6011\n",
      "Epoch 3/50\n",
      "390/390 [==============================] - 5s 13ms/step - loss: 1.1424 - accuracy: 0.6046 - val_loss: 1.1014 - val_accuracy: 0.6191\n",
      "Epoch 4/50\n",
      "390/390 [==============================] - 5s 14ms/step - loss: 1.0525 - accuracy: 0.6342 - val_loss: 1.0633 - val_accuracy: 0.6293\n",
      "Epoch 5/50\n",
      "390/390 [==============================] - 5s 14ms/step - loss: 0.9864 - accuracy: 0.6558 - val_loss: 1.0363 - val_accuracy: 0.6414\n",
      "Epoch 6/50\n",
      "390/390 [==============================] - 5s 13ms/step - loss: 0.9333 - accuracy: 0.6748 - val_loss: 1.0208 - val_accuracy: 0.6478\n",
      "Epoch 7/50\n",
      "390/390 [==============================] - 5s 14ms/step - loss: 0.8906 - accuracy: 0.6866 - val_loss: 1.0065 - val_accuracy: 0.6488\n",
      "Epoch 8/50\n",
      "390/390 [==============================] - 5s 14ms/step - loss: 0.8490 - accuracy: 0.7047 - val_loss: 1.0023 - val_accuracy: 0.6521\n",
      "Epoch 9/50\n",
      "390/390 [==============================] - 5s 14ms/step - loss: 0.8109 - accuracy: 0.7163 - val_loss: 0.9908 - val_accuracy: 0.6546\n",
      "Epoch 10/50\n",
      "390/390 [==============================] - 5s 14ms/step - loss: 0.7777 - accuracy: 0.7279 - val_loss: 0.9895 - val_accuracy: 0.6572\n",
      "Epoch 11/50\n",
      "390/390 [==============================] - 5s 14ms/step - loss: 0.7525 - accuracy: 0.7372 - val_loss: 0.9838 - val_accuracy: 0.6595\n",
      "Epoch 12/50\n",
      "390/390 [==============================] - 5s 14ms/step - loss: 0.7182 - accuracy: 0.7489 - val_loss: 0.9824 - val_accuracy: 0.6650\n",
      "Epoch 13/50\n",
      "390/390 [==============================] - 5s 14ms/step - loss: 0.6923 - accuracy: 0.7598 - val_loss: 0.9845 - val_accuracy: 0.6637\n",
      "Epoch 14/50\n",
      "390/390 [==============================] - 5s 14ms/step - loss: 0.6688 - accuracy: 0.7690 - val_loss: 0.9817 - val_accuracy: 0.6655\n",
      "Epoch 15/50\n",
      "390/390 [==============================] - 5s 14ms/step - loss: 0.6445 - accuracy: 0.7749 - val_loss: 0.9819 - val_accuracy: 0.6662\n",
      "Epoch 16/50\n",
      "390/390 [==============================] - 5s 14ms/step - loss: 0.6163 - accuracy: 0.7862 - val_loss: 0.9807 - val_accuracy: 0.6681\n",
      "Epoch 17/50\n",
      "390/390 [==============================] - 5s 14ms/step - loss: 0.5961 - accuracy: 0.7950 - val_loss: 0.9891 - val_accuracy: 0.6684\n",
      "Epoch 18/50\n",
      "390/390 [==============================] - 5s 14ms/step - loss: 0.5744 - accuracy: 0.8039 - val_loss: 0.9878 - val_accuracy: 0.6700\n",
      "Epoch 19/50\n",
      "390/390 [==============================] - 5s 14ms/step - loss: 0.5563 - accuracy: 0.8069 - val_loss: 0.9920 - val_accuracy: 0.6693\n",
      "Epoch 20/50\n",
      "390/390 [==============================] - 5s 14ms/step - loss: 0.5368 - accuracy: 0.8165 - val_loss: 0.9990 - val_accuracy: 0.6723\n",
      "Epoch 21/50\n",
      "390/390 [==============================] - 5s 14ms/step - loss: 0.5178 - accuracy: 0.8244 - val_loss: 1.0058 - val_accuracy: 0.6743\n",
      "Epoch 22/50\n",
      "390/390 [==============================] - 5s 14ms/step - loss: 0.5029 - accuracy: 0.8282 - val_loss: 1.0063 - val_accuracy: 0.6737\n",
      "Epoch 23/50\n",
      "390/390 [==============================] - 5s 14ms/step - loss: 0.4852 - accuracy: 0.8360 - val_loss: 1.0156 - val_accuracy: 0.6739\n",
      "Epoch 24/50\n",
      "390/390 [==============================] - 5s 14ms/step - loss: 0.4670 - accuracy: 0.8410 - val_loss: 1.0205 - val_accuracy: 0.6741\n",
      "Epoch 25/50\n",
      "390/390 [==============================] - 5s 14ms/step - loss: 0.4513 - accuracy: 0.8456 - val_loss: 1.0279 - val_accuracy: 0.6776\n",
      "Epoch 26/50\n",
      "390/390 [==============================] - 5s 14ms/step - loss: 0.4369 - accuracy: 0.8525 - val_loss: 1.0376 - val_accuracy: 0.6763\n",
      "Epoch 27/50\n",
      "390/390 [==============================] - 5s 14ms/step - loss: 0.4231 - accuracy: 0.8568 - val_loss: 1.0405 - val_accuracy: 0.6742\n",
      "Epoch 28/50\n",
      "390/390 [==============================] - 5s 14ms/step - loss: 0.4082 - accuracy: 0.8641 - val_loss: 1.0654 - val_accuracy: 0.6724\n",
      "Epoch 29/50\n",
      "390/390 [==============================] - 5s 14ms/step - loss: 0.3958 - accuracy: 0.8676 - val_loss: 1.0583 - val_accuracy: 0.6737\n",
      "Epoch 30/50\n",
      "390/390 [==============================] - 5s 14ms/step - loss: 0.3849 - accuracy: 0.8713 - val_loss: 1.0650 - val_accuracy: 0.6727\n",
      "Epoch 31/50\n",
      "390/390 [==============================] - 5s 14ms/step - loss: 0.3681 - accuracy: 0.8801 - val_loss: 1.0765 - val_accuracy: 0.6720\n",
      "Epoch 32/50\n",
      "390/390 [==============================] - 5s 14ms/step - loss: 0.3581 - accuracy: 0.8816 - val_loss: 1.0860 - val_accuracy: 0.6750\n",
      "Epoch 33/50\n",
      "390/390 [==============================] - 5s 14ms/step - loss: 0.3451 - accuracy: 0.8857 - val_loss: 1.0995 - val_accuracy: 0.6722\n",
      "Epoch 34/50\n",
      "390/390 [==============================] - 5s 14ms/step - loss: 0.3329 - accuracy: 0.8917 - val_loss: 1.0957 - val_accuracy: 0.6751\n",
      "Epoch 35/50\n",
      "390/390 [==============================] - 5s 14ms/step - loss: 0.3218 - accuracy: 0.8955 - val_loss: 1.1120 - val_accuracy: 0.6737\n",
      "Epoch 36/50\n",
      "390/390 [==============================] - 5s 14ms/step - loss: 0.3127 - accuracy: 0.8985 - val_loss: 1.1232 - val_accuracy: 0.6689\n",
      "Epoch 37/50\n",
      "390/390 [==============================] - 5s 14ms/step - loss: 0.3025 - accuracy: 0.9012 - val_loss: 1.1349 - val_accuracy: 0.6697\n",
      "Epoch 38/50\n",
      "390/390 [==============================] - 5s 14ms/step - loss: 0.2953 - accuracy: 0.9049 - val_loss: 1.1486 - val_accuracy: 0.6722\n",
      "Epoch 39/50\n",
      "390/390 [==============================] - 5s 14ms/step - loss: 0.2830 - accuracy: 0.9098 - val_loss: 1.1510 - val_accuracy: 0.6723\n",
      "Epoch 40/50\n",
      "390/390 [==============================] - 5s 14ms/step - loss: 0.2748 - accuracy: 0.9128 - val_loss: 1.1684 - val_accuracy: 0.6727\n",
      "Epoch 41/50\n",
      "390/390 [==============================] - 5s 14ms/step - loss: 0.2698 - accuracy: 0.9128 - val_loss: 1.1784 - val_accuracy: 0.6723\n",
      "Epoch 42/50\n",
      "390/390 [==============================] - 5s 14ms/step - loss: 0.2613 - accuracy: 0.9167 - val_loss: 1.1879 - val_accuracy: 0.6713\n",
      "Epoch 43/50\n",
      "390/390 [==============================] - 5s 14ms/step - loss: 0.2502 - accuracy: 0.9214 - val_loss: 1.1991 - val_accuracy: 0.6705\n",
      "Epoch 44/50\n",
      "390/390 [==============================] - 5s 14ms/step - loss: 0.2443 - accuracy: 0.9243 - val_loss: 1.2147 - val_accuracy: 0.6725\n",
      "Epoch 45/50\n",
      "390/390 [==============================] - 5s 14ms/step - loss: 0.2391 - accuracy: 0.9242 - val_loss: 1.2258 - val_accuracy: 0.6702\n",
      "Epoch 46/50\n",
      "390/390 [==============================] - 5s 14ms/step - loss: 0.2334 - accuracy: 0.9263 - val_loss: 1.2301 - val_accuracy: 0.6715\n",
      "Epoch 47/50\n",
      "390/390 [==============================] - 5s 14ms/step - loss: 0.2232 - accuracy: 0.9290 - val_loss: 1.2341 - val_accuracy: 0.6700\n",
      "Epoch 48/50\n",
      "390/390 [==============================] - 5s 14ms/step - loss: 0.2192 - accuracy: 0.9312 - val_loss: 1.2439 - val_accuracy: 0.6717\n",
      "Epoch 49/50\n",
      "390/390 [==============================] - 5s 14ms/step - loss: 0.2108 - accuracy: 0.9339 - val_loss: 1.2721 - val_accuracy: 0.6709\n",
      "Epoch 50/50\n",
      "390/390 [==============================] - 5s 14ms/step - loss: 0.2059 - accuracy: 0.9364 - val_loss: 1.2751 - val_accuracy: 0.6698\n"
     ]
    }
   ],
   "source": [
    "# We are going to train for 50 epochs\n",
    "history = resnet_model.fit(train_ds, epochs=50, validation_data=test_ds)"
   ]
  },
  {
   "cell_type": "markdown",
   "metadata": {},
   "source": [
    "### Plot the plots"
   ]
  },
  {
   "cell_type": "code",
   "execution_count": 27,
   "metadata": {},
   "outputs": [],
   "source": [
    "def plot_history(history):\n",
    "    plt.style.use('seaborn')\n",
    "    acc = history.history['accuracy']\n",
    "    val_acc = history.history['val_accuracy']\n",
    "    \n",
    "    fig, (ax1, ax2) = plt.subplots(1, 2, figsize=(12, 4))    \n",
    "\n",
    "    ax1.plot(acc, label=\"Training Accuracy\")\n",
    "    ax1.plot(val_acc, label=\"Validation Accuracy\")\n",
    "    ax1.set_xlabel('Epochs')\n",
    "    ax1.set_ylabel('Accuracy')    \n",
    "    ax1.legend(loc='lower right')\n",
    "    ax1.set_title(\"Training and Validation Accuracy\")\n",
    "    \n",
    "    loss = history.history['loss']\n",
    "    val_loss = history.history['val_loss']\n",
    "    ax2.plot(loss, label=\"Training Loss\")\n",
    "    ax2.plot(val_loss, label=\"Validation Loss\")\n",
    "    ax2.set_xlabel('Epochs')\n",
    "    ax2.set_ylabel('Loss')    \n",
    "    ax2.legend(loc='upper right')\n",
    "    ax2.set_title(\"Training and Validation Loss\")\n",
    "    \n",
    "    plt.show()"
   ]
  },
  {
   "cell_type": "code",
   "execution_count": 79,
   "metadata": {},
   "outputs": [
    {
     "data": {
      "image/png": "[encoded data removed]",
      "text/plain": [
       "<Figure size 864x288 with 2 Axes>"
      ]
     },
     "metadata": {},
     "output_type": "display_data"
    }
   ],
   "source": [
    "plot_history(history)"
   ]
  },
  {
   "cell_type": "markdown",
   "metadata": {},
   "source": [
    "# Transfer Learning + BatchNorm\n",
    "\n",
    "Use Resnet50 as backbone and add batchnorm to speed up the training"
   ]
  },
  {
   "cell_type": "code",
   "execution_count": 16,
   "metadata": {},
   "outputs": [],
   "source": [
    "base_model = tf.keras.applications.ResNet50(input_shape=(IMG_SIZE, IMG_SIZE, 3), include_top=False)\n",
    "base_model.trainable = False"
   ]
  },
  {
   "cell_type": "code",
   "execution_count": 60,
   "metadata": {},
   "outputs": [],
   "source": [
    "def get_resnet50_bn(backbone, use_bn=False):\n",
    "    inputs = Input((IMG_SIZE, IMG_SIZE, 3))\n",
    "    x = tf.keras.applications.resnet.preprocess_input(inputs)\n",
    "    x = backbone(x, training=False)\n",
    "    x = GlobalAveragePooling2D()(x)\n",
    "    x = Flatten()\n",
    "    x = Dense(128)(x)  \n",
    "    if use_bn:\n",
    "        x = BatchNormalization()(x)\n",
    "    x = tf.nn.relu(x)\n",
    "    x = Dropout(0.1)(x)\n",
    "    outputs = Dense(NUM_CLASSES)(x)        \n",
    "    _model = Model(inputs, outputs)\n",
    "    return _model    "
   ]
  },
  {
   "cell_type": "code",
   "execution_count": 61,
   "metadata": {},
   "outputs": [
    {
     "name": "stdout",
     "output_type": "stream",
     "text": [
      "Model: \"functional_29\"\n",
      "_________________________________________________________________\n",
      "Layer (type)                 Output Shape              Param #   \n",
      "=================================================================\n",
      "input_18 (InputLayer)        [(None, 32, 32, 3)]       0         \n",
      "_________________________________________________________________\n",
      "tf_op_layer_strided_slice_16 [(None, 32, 32, 3)]       0         \n",
      "_________________________________________________________________\n",
      "tf_op_layer_BiasAdd_16 (Tens [(None, 32, 32, 3)]       0         \n",
      "_________________________________________________________________\n",
      "resnet50 (Functional)        (None, 1, 1, 2048)        23587712  \n",
      "_________________________________________________________________\n",
      "global_average_pooling2d_16  (None, 2048)              0         \n",
      "_________________________________________________________________\n",
      "dense_17 (Dense)             (None, 128)               262272    \n",
      "_________________________________________________________________\n",
      "tf_op_layer_Relu_3 (TensorFl [(None, 128)]             0         \n",
      "_________________________________________________________________\n",
      "dropout_16 (Dropout)         (None, 128)               0         \n",
      "_________________________________________________________________\n",
      "dense_18 (Dense)             (None, 10)                1290      \n",
      "=================================================================\n",
      "Total params: 23,851,274\n",
      "Trainable params: 263,562\n",
      "Non-trainable params: 23,587,712\n",
      "_________________________________________________________________\n"
     ]
    }
   ],
   "source": [
    "resnet_bn_model = get_resnet50_bn(base_model)\n",
    "resnet_bn_model.summary()"
   ]
  },
  {
   "cell_type": "code",
   "execution_count": 62,
   "metadata": {},
   "outputs": [],
   "source": [
    "# compile the model\n",
    "resnet_bn_model.compile(\n",
    "    optimizer=tf.keras.optimizers.Adam(learning_rate=1e-3),\n",
    "    loss=tf.losses.SparseCategoricalCrossentropy(from_logits=True),\n",
    "    metrics=['accuracy']\n",
    ")"
   ]
  },
  {
   "cell_type": "markdown",
   "metadata": {},
   "source": [
    "Evaluate the pretrained model + new layers"
   ]
  },
  {
   "cell_type": "code",
   "execution_count": 58,
   "metadata": {},
   "outputs": [
    {
     "name": "stdout",
     "output_type": "stream",
     "text": [
      " 1/39 [..............................] - ETA: 0s - loss: 3.4531 - accuracy: 0.1094WARNING:tensorflow:Callbacks method `on_test_batch_end` is slow compared to the batch time (batch time: 0.0039s vs `on_test_batch_end` time: 0.0132s). Check your callbacks.\n"
     ]
    },
    {
     "name": "stderr",
     "output_type": "stream",
     "text": [
      "WARNING:tensorflow:Callbacks method `on_test_batch_end` is slow compared to the batch time (batch time: 0.0039s vs `on_test_batch_end` time: 0.0132s). Check your callbacks.\n"
     ]
    },
    {
     "name": "stdout",
     "output_type": "stream",
     "text": [
      "39/39 [==============================] - 1s 17ms/step - loss: 3.2494 - accuracy: 0.1001\n"
     ]
    },
    {
     "data": {
      "text/plain": [
       "[3.2494418621063232, 0.10006009787321091]"
      ]
     },
     "execution_count": 58,
     "metadata": {},
     "output_type": "execute_result"
    }
   ],
   "source": [
    "resnet_bn_model.evaluate(test_ds)"
   ]
  },
  {
   "cell_type": "code",
   "execution_count": 63,
   "metadata": {},
   "outputs": [
    {
     "name": "stdout",
     "output_type": "stream",
     "text": [
      "Epoch 1/25\n",
      "WARNING:tensorflow:Callbacks method `on_train_batch_end` is slow compared to the batch time (batch time: 0.0046s vs `on_train_batch_end` time: 0.0132s). Check your callbacks.\n"
     ]
    },
    {
     "name": "stderr",
     "output_type": "stream",
     "text": [
      "WARNING:tensorflow:Callbacks method `on_train_batch_end` is slow compared to the batch time (batch time: 0.0046s vs `on_train_batch_end` time: 0.0132s). Check your callbacks.\n"
     ]
    },
    {
     "name": "stdout",
     "output_type": "stream",
     "text": [
      "WARNING:tensorflow:Callbacks method `on_test_batch_end` is slow compared to the batch time (batch time: 0.0054s vs `on_test_batch_end` time: 0.0108s). Check your callbacks.\n"
     ]
    },
    {
     "name": "stderr",
     "output_type": "stream",
     "text": [
      "WARNING:tensorflow:Callbacks method `on_test_batch_end` is slow compared to the batch time (batch time: 0.0054s vs `on_test_batch_end` time: 0.0108s). Check your callbacks.\n"
     ]
    },
    {
     "name": "stdout",
     "output_type": "stream",
     "text": [
      "195/195 - 5s - loss: 2.3329 - accuracy: 0.1007 - val_loss: 2.3026 - val_accuracy: 0.0999\n",
      "Epoch 2/25\n",
      "195/195 - 4s - loss: 2.3027 - accuracy: 0.0977 - val_loss: 2.3026 - val_accuracy: 0.1001\n",
      "Epoch 3/25\n",
      "195/195 - 4s - loss: 2.3027 - accuracy: 0.0981 - val_loss: 2.3026 - val_accuracy: 0.1002\n",
      "Epoch 4/25\n",
      "195/195 - 4s - loss: 2.3027 - accuracy: 0.0985 - val_loss: 2.3026 - val_accuracy: 0.0999\n",
      "Epoch 5/25\n",
      "195/195 - 4s - loss: 2.3027 - accuracy: 0.0988 - val_loss: 2.3026 - val_accuracy: 0.1001\n",
      "Epoch 6/25\n",
      "195/195 - 4s - loss: 2.3027 - accuracy: 0.0969 - val_loss: 2.3026 - val_accuracy: 0.1001\n",
      "Epoch 7/25\n",
      "195/195 - 4s - loss: 2.3027 - accuracy: 0.0983 - val_loss: 2.3026 - val_accuracy: 0.1001\n",
      "Epoch 8/25\n",
      "195/195 - 4s - loss: 2.3027 - accuracy: 0.0978 - val_loss: 2.3026 - val_accuracy: 0.1002\n",
      "Epoch 9/25\n",
      "195/195 - 4s - loss: 2.3027 - accuracy: 0.0959 - val_loss: 2.3026 - val_accuracy: 0.1001\n",
      "Epoch 10/25\n",
      "195/195 - 4s - loss: 2.3027 - accuracy: 0.0971 - val_loss: 2.3026 - val_accuracy: 0.1001\n",
      "Epoch 11/25\n",
      "195/195 - 4s - loss: 2.3027 - accuracy: 0.0983 - val_loss: 2.3026 - val_accuracy: 0.1002\n",
      "Epoch 12/25\n",
      "195/195 - 4s - loss: 2.3027 - accuracy: 0.0999 - val_loss: 2.3026 - val_accuracy: 0.0999\n",
      "Epoch 13/25\n",
      "195/195 - 4s - loss: 2.3027 - accuracy: 0.0984 - val_loss: 2.3026 - val_accuracy: 0.0999\n",
      "Epoch 14/25\n",
      "195/195 - 4s - loss: 2.3026 - accuracy: 0.0987 - val_loss: 2.3026 - val_accuracy: 0.0999\n",
      "Epoch 15/25\n",
      "195/195 - 4s - loss: 2.3026 - accuracy: 0.0983 - val_loss: 2.3026 - val_accuracy: 0.1002\n",
      "Epoch 16/25\n",
      "195/195 - 4s - loss: 2.3027 - accuracy: 0.0965 - val_loss: 2.3026 - val_accuracy: 0.0999\n",
      "Epoch 17/25\n",
      "195/195 - 4s - loss: 2.3027 - accuracy: 0.0985 - val_loss: 2.3026 - val_accuracy: 0.0999\n",
      "Epoch 18/25\n",
      "195/195 - 4s - loss: 2.3027 - accuracy: 0.0975 - val_loss: 2.3026 - val_accuracy: 0.0999\n",
      "Epoch 19/25\n",
      "195/195 - 4s - loss: 2.3027 - accuracy: 0.0962 - val_loss: 2.3026 - val_accuracy: 0.0999\n",
      "Epoch 20/25\n",
      "195/195 - 4s - loss: 2.3027 - accuracy: 0.0982 - val_loss: 2.3026 - val_accuracy: 0.1002\n",
      "Epoch 21/25\n",
      "195/195 - 4s - loss: 2.3027 - accuracy: 0.0960 - val_loss: 2.3026 - val_accuracy: 0.1000\n",
      "Epoch 22/25\n",
      "195/195 - 4s - loss: 2.3026 - accuracy: 0.0962 - val_loss: 2.3026 - val_accuracy: 0.1000\n",
      "Epoch 23/25\n",
      "195/195 - 4s - loss: 2.3027 - accuracy: 0.0966 - val_loss: 2.3026 - val_accuracy: 0.0999\n",
      "Epoch 24/25\n",
      "195/195 - 4s - loss: 2.3027 - accuracy: 0.0981 - val_loss: 2.3026 - val_accuracy: 0.0999\n",
      "Epoch 25/25\n",
      "195/195 - 4s - loss: 2.3027 - accuracy: 0.0978 - val_loss: 2.3026 - val_accuracy: 0.1001\n"
     ]
    }
   ],
   "source": [
    "# Train\n",
    "history = resnet_bn_model.fit(train_ds, epochs=25, validation_data=test_ds, verbose=2)"
   ]
  },
  {
   "cell_type": "code",
   "execution_count": 64,
   "metadata": {},
   "outputs": [
    {
     "data": {
      "image/png": "[encoded data removed]",
      "text/plain": [
       "<Figure size 864x288 with 2 Axes>"
      ]
     },
     "metadata": {},
     "output_type": "display_data"
    }
   ],
   "source": [
    "plot_history(history)"
   ]
  },
  {
   "cell_type": "code",
   "execution_count": 46,
   "metadata": {},
   "outputs": [
    {
     "data": {
      "image/png": "[encoded data removed]",
      "text/plain": [
       "<Figure size 864x288 with 2 Axes>"
      ]
     },
     "metadata": {},
     "output_type": "display_data"
    }
   ],
   "source": [
    "plot_history(history)"
   ]
  },
  {
   "cell_type": "markdown",
   "metadata": {},
   "source": [
    "The accuracy is way too low. What is going on?\n",
    "> Change the learning rate from 1e-2 to 1e-3"
   ]
  },
  {
   "cell_type": "code",
   "execution_count": 29,
   "metadata": {
    "collapsed": true,
    "jupyter": {
     "outputs_hidden": true
    }
   },
   "outputs": [
    {
     "name": "stdout",
     "output_type": "stream",
     "text": [
      "Epoch 1/50\n",
      "WARNING:tensorflow:Callbacks method `on_test_batch_end` is slow compared to the batch time (batch time: 0.0056s vs `on_test_batch_end` time: 0.0100s). Check your callbacks.\n"
     ]
    },
    {
     "name": "stderr",
     "output_type": "stream",
     "text": [
      "WARNING:tensorflow:Callbacks method `on_test_batch_end` is slow compared to the batch time (batch time: 0.0056s vs `on_test_batch_end` time: 0.0100s). Check your callbacks.\n"
     ]
    },
    {
     "name": "stdout",
     "output_type": "stream",
     "text": [
      "Epoch 2/50\n",
      "Epoch 3/50\n",
      "Epoch 4/50\n",
      "Epoch 5/50\n",
      "Epoch 6/50\n",
      "Epoch 7/50\n",
      "Epoch 8/50\n",
      "Epoch 9/50\n",
      "Epoch 10/50\n",
      "Epoch 11/50\n",
      "Epoch 12/50\n",
      "Epoch 13/50\n",
      "Epoch 14/50\n",
      "Epoch 15/50\n",
      "Epoch 16/50\n",
      "Epoch 17/50\n",
      "Epoch 18/50\n",
      "Epoch 19/50\n",
      "Epoch 20/50\n",
      "Epoch 21/50\n",
      "Epoch 22/50\n",
      "Epoch 23/50\n",
      "Epoch 24/50\n",
      "Epoch 25/50\n",
      "Epoch 26/50\n",
      "Epoch 27/50\n",
      "Epoch 28/50\n",
      "Epoch 29/50\n",
      "Epoch 30/50\n",
      "Epoch 31/50\n",
      "Epoch 32/50\n",
      "Epoch 33/50\n",
      "Epoch 34/50\n",
      "Epoch 35/50\n",
      "Epoch 36/50\n",
      "Epoch 37/50\n",
      "Epoch 38/50\n",
      "Epoch 39/50\n",
      "Epoch 40/50\n",
      "Epoch 41/50\n",
      "Epoch 42/50\n",
      "Epoch 43/50\n",
      "Epoch 44/50\n",
      "Epoch 45/50\n",
      "Epoch 46/50\n",
      "Epoch 47/50\n",
      "Epoch 48/50\n",
      "Epoch 49/50\n",
      "Epoch 50/50\n"
     ]
    },
    {
     "data": {
      "image/png": "[encoded data removed]",
      "text/plain": [
       "<Figure size 864x288 with 2 Axes>"
      ]
     },
     "metadata": {},
     "output_type": "display_data"
    }
   ],
   "source": [
    "# new instance\n",
    "resnet_bn_model = get_resnet50_bn(base_model)\n",
    "\n",
    "reduce_lr = ReduceLROnPlateau(monitor='val_loss', factor=0.2,\n",
    "                              patience=5, min_lr=0.001)\n",
    "resnet_bn_model.compile(\n",
    "    optimizer=tf.keras.optimizers.Adam(learning_rate=1e-3),\n",
    "    loss=tf.losses.SparseCategoricalCrossentropy(from_logits=True),\n",
    "    metrics=['accuracy']\n",
    ")\n",
    "history = resnet_bn_model.fit(\n",
    "    train_ds, epochs=50, validation_data=test_ds, verbose=2,\n",
    "    callbacks=[reduce_lr]\n",
    ")"
   ]
  },
  {
   "cell_type": "code",
   "execution_count": null,
   "metadata": {},
   "outputs": [],
   "source": [
    "plot_history(history)"
   ]
  },
  {
   "cell_type": "markdown",
   "metadata": {},
   "source": [
    "What do we get if we change the loss?\n",
    "> Change the loss from sparse to categorical_crossentropy"
   ]
  },
  {
   "cell_type": "code",
   "execution_count": 50,
   "metadata": {},
   "outputs": [
    {
     "name": "stdout",
     "output_type": "stream",
     "text": [
      "Model: \"functional_25\"\n",
      "_________________________________________________________________\n",
      "Layer (type)                 Output Shape              Param #   \n",
      "=================================================================\n",
      "input_14 (InputLayer)        [(None, 32, 32, 3)]       0         \n",
      "_________________________________________________________________\n",
      "tf_op_layer_strided_slice_12 [(None, 32, 32, 3)]       0         \n",
      "_________________________________________________________________\n",
      "tf_op_layer_BiasAdd_12 (Tens [(None, 32, 32, 3)]       0         \n",
      "_________________________________________________________________\n",
      "resnet50 (Functional)        (None, 1, 1, 2048)        23587712  \n",
      "_________________________________________________________________\n",
      "global_average_pooling2d_12  (None, 2048)              0         \n",
      "_________________________________________________________________\n",
      "dropout_12 (Dropout)         (None, 2048)              0         \n",
      "_________________________________________________________________\n",
      "dense_12 (Dense)             (None, 10)                20490     \n",
      "=================================================================\n",
      "Total params: 23,608,202\n",
      "Trainable params: 20,490\n",
      "Non-trainable params: 23,587,712\n",
      "_________________________________________________________________\n",
      "Epoch 1/50\n",
      "WARNING:tensorflow:Callbacks method `on_test_batch_end` is slow compared to the batch time (batch time: 0.0055s vs `on_test_batch_end` time: 0.0098s). Check your callbacks.\n"
     ]
    },
    {
     "name": "stderr",
     "output_type": "stream",
     "text": [
      "WARNING:tensorflow:Callbacks method `on_test_batch_end` is slow compared to the batch time (batch time: 0.0055s vs `on_test_batch_end` time: 0.0098s). Check your callbacks.\n"
     ]
    },
    {
     "name": "stdout",
     "output_type": "stream",
     "text": [
      "195/195 - 4s - loss: 2.4290 - accuracy: 0.1011 - val_loss: 2.3026 - val_accuracy: 0.1000\n",
      "Epoch 2/50\n",
      "195/195 - 4s - loss: 2.3036 - accuracy: 0.0994 - val_loss: 2.3026 - val_accuracy: 0.1000\n",
      "Epoch 3/50\n",
      "195/195 - 4s - loss: 2.3029 - accuracy: 0.1017 - val_loss: 2.3026 - val_accuracy: 0.1000\n",
      "Epoch 4/50\n",
      "195/195 - 4s - loss: 2.3026 - accuracy: 0.0982 - val_loss: 2.3026 - val_accuracy: 0.1000\n",
      "Epoch 5/50\n",
      "195/195 - 4s - loss: 2.3032 - accuracy: 0.0991 - val_loss: 2.3026 - val_accuracy: 0.1000\n",
      "Epoch 6/50\n",
      "195/195 - 4s - loss: 2.3026 - accuracy: 0.1001 - val_loss: 2.3026 - val_accuracy: 0.1001\n",
      "Epoch 7/50\n",
      "195/195 - 4s - loss: 2.3026 - accuracy: 0.0996 - val_loss: 2.3026 - val_accuracy: 0.1001\n",
      "Epoch 8/50\n",
      "195/195 - 4s - loss: 2.3029 - accuracy: 0.1001 - val_loss: 2.3026 - val_accuracy: 0.1001\n",
      "Epoch 9/50\n",
      "195/195 - 4s - loss: 2.3026 - accuracy: 0.1009 - val_loss: 2.3026 - val_accuracy: 0.1001\n",
      "Epoch 10/50\n",
      "195/195 - 4s - loss: 2.3026 - accuracy: 0.0987 - val_loss: 2.3026 - val_accuracy: 0.1001\n",
      "Epoch 11/50\n",
      "195/195 - 4s - loss: 2.3026 - accuracy: 0.1001 - val_loss: 2.3026 - val_accuracy: 0.1001\n",
      "Epoch 12/50\n",
      "195/195 - 4s - loss: 2.3026 - accuracy: 0.1007 - val_loss: 2.3026 - val_accuracy: 0.1001\n",
      "Epoch 13/50\n",
      "195/195 - 4s - loss: 2.3029 - accuracy: 0.1007 - val_loss: 2.3026 - val_accuracy: 0.1001\n",
      "Epoch 14/50\n",
      "195/195 - 4s - loss: 2.3026 - accuracy: 0.0992 - val_loss: 2.3026 - val_accuracy: 0.1000\n",
      "Epoch 15/50\n",
      "195/195 - 4s - loss: 2.3026 - accuracy: 0.0987 - val_loss: 2.3026 - val_accuracy: 0.1000\n",
      "Epoch 16/50\n",
      "195/195 - 4s - loss: 2.3026 - accuracy: 0.1002 - val_loss: 2.3026 - val_accuracy: 0.1000\n",
      "Epoch 17/50\n",
      "195/195 - 4s - loss: 2.3026 - accuracy: 0.0997 - val_loss: 2.3026 - val_accuracy: 0.1000\n",
      "Epoch 18/50\n",
      "195/195 - 4s - loss: 2.3026 - accuracy: 0.0986 - val_loss: 2.3026 - val_accuracy: 0.1000\n",
      "Epoch 19/50\n",
      "195/195 - 4s - loss: 2.3026 - accuracy: 0.0992 - val_loss: 2.3026 - val_accuracy: 0.1000\n",
      "Epoch 20/50\n",
      "195/195 - 4s - loss: 2.3026 - accuracy: 0.1002 - val_loss: 2.3026 - val_accuracy: 0.1000\n",
      "Epoch 21/50\n",
      "195/195 - 4s - loss: 2.3029 - accuracy: 0.0991 - val_loss: 2.3026 - val_accuracy: 0.1000\n",
      "Epoch 22/50\n",
      "195/195 - 4s - loss: 2.3026 - accuracy: 0.0994 - val_loss: 2.3026 - val_accuracy: 0.0999\n",
      "Epoch 23/50\n",
      "195/195 - 4s - loss: 2.3026 - accuracy: 0.0994 - val_loss: 2.3026 - val_accuracy: 0.0999\n",
      "Epoch 24/50\n",
      "195/195 - 4s - loss: 2.3026 - accuracy: 0.1000 - val_loss: 2.3026 - val_accuracy: 0.0999\n",
      "Epoch 25/50\n",
      "195/195 - 4s - loss: 2.3026 - accuracy: 0.0997 - val_loss: 2.3026 - val_accuracy: 0.0999\n",
      "Epoch 26/50\n",
      "195/195 - 4s - loss: 2.3026 - accuracy: 0.1002 - val_loss: 2.3026 - val_accuracy: 0.0999\n",
      "Epoch 27/50\n",
      "195/195 - 4s - loss: 2.3026 - accuracy: 0.0991 - val_loss: 2.3026 - val_accuracy: 0.0999\n",
      "Epoch 28/50\n",
      "195/195 - 4s - loss: 2.3026 - accuracy: 0.1002 - val_loss: 2.3026 - val_accuracy: 0.0999\n",
      "Epoch 29/50\n",
      "195/195 - 4s - loss: 2.3026 - accuracy: 0.0996 - val_loss: 2.3026 - val_accuracy: 0.0999\n",
      "Epoch 30/50\n",
      "195/195 - 4s - loss: 2.3026 - accuracy: 0.1005 - val_loss: 2.3026 - val_accuracy: 0.0999\n",
      "Epoch 31/50\n",
      "195/195 - 4s - loss: 2.3026 - accuracy: 0.1002 - val_loss: 2.3026 - val_accuracy: 0.0999\n",
      "Epoch 32/50\n",
      "195/195 - 4s - loss: 2.3026 - accuracy: 0.1006 - val_loss: 2.3026 - val_accuracy: 0.0999\n",
      "Epoch 33/50\n",
      "195/195 - 4s - loss: 2.3026 - accuracy: 0.0987 - val_loss: 2.3026 - val_accuracy: 0.1001\n",
      "Epoch 34/50\n",
      "195/195 - 4s - loss: 2.3026 - accuracy: 0.0993 - val_loss: 2.3026 - val_accuracy: 0.1001\n",
      "Epoch 35/50\n",
      "195/195 - 4s - loss: 2.3026 - accuracy: 0.1006 - val_loss: 2.3026 - val_accuracy: 0.1001\n",
      "Epoch 36/50\n",
      "195/195 - 4s - loss: 2.3026 - accuracy: 0.0998 - val_loss: 2.3026 - val_accuracy: 0.1001\n",
      "Epoch 37/50\n",
      "195/195 - 4s - loss: 2.3026 - accuracy: 0.1002 - val_loss: 2.3026 - val_accuracy: 0.1001\n",
      "Epoch 38/50\n",
      "195/195 - 4s - loss: 2.3026 - accuracy: 0.0989 - val_loss: 2.3026 - val_accuracy: 0.1001\n",
      "Epoch 39/50\n",
      "195/195 - 4s - loss: 2.3026 - accuracy: 0.1004 - val_loss: 2.3026 - val_accuracy: 0.1001\n",
      "Epoch 40/50\n",
      "195/195 - 4s - loss: 2.3026 - accuracy: 0.1004 - val_loss: 2.3026 - val_accuracy: 0.1001\n",
      "Epoch 41/50\n",
      "195/195 - 4s - loss: 2.3026 - accuracy: 0.1007 - val_loss: 2.3026 - val_accuracy: 0.1001\n",
      "Epoch 42/50\n",
      "195/195 - 4s - loss: 2.3026 - accuracy: 0.0994 - val_loss: 2.3026 - val_accuracy: 0.1001\n",
      "Epoch 43/50\n",
      "195/195 - 4s - loss: 2.3026 - accuracy: 0.0996 - val_loss: 2.3026 - val_accuracy: 0.1001\n",
      "Epoch 44/50\n",
      "195/195 - 4s - loss: 2.3026 - accuracy: 0.1007 - val_loss: 2.3026 - val_accuracy: 0.1001\n",
      "Epoch 45/50\n",
      "195/195 - 4s - loss: 2.3026 - accuracy: 0.1006 - val_loss: 2.3026 - val_accuracy: 0.1001\n",
      "Epoch 46/50\n",
      "195/195 - 4s - loss: 2.3026 - accuracy: 0.0990 - val_loss: 2.3026 - val_accuracy: 0.1001\n",
      "Epoch 47/50\n",
      "195/195 - 4s - loss: 2.3026 - accuracy: 0.1004 - val_loss: 2.3026 - val_accuracy: 0.1001\n",
      "Epoch 48/50\n",
      "195/195 - 4s - loss: 2.3026 - accuracy: 0.0995 - val_loss: 2.3026 - val_accuracy: 0.1001\n",
      "Epoch 49/50\n",
      "195/195 - 4s - loss: 2.3026 - accuracy: 0.1009 - val_loss: 2.3026 - val_accuracy: 0.1001\n",
      "Epoch 50/50\n",
      "195/195 - 4s - loss: 2.3026 - accuracy: 0.1014 - val_loss: 2.3026 - val_accuracy: 0.1001\n"
     ]
    },
    {
     "data": {
      "image/png": "[encoded data removed]",
      "text/plain": [
       "<Figure size 864x288 with 2 Axes>"
      ]
     },
     "metadata": {},
     "output_type": "display_data"
    }
   ],
   "source": [
    "resnet_bn_model = get_resnet50_bn(base_model)\n",
    "resnet_bn_model.summary()\n",
    "resnet_bn_model.compile(\n",
    "    optimizer=tf.keras.optimizers.Adam(learning_rate=1e-3),\n",
    "    loss=\"sparse_categorical_crossentropy\",\n",
    "    metrics=['accuracy']\n",
    ")\n",
    "history = resnet_bn_model.fit(train_ds, epochs=50, validation_data=test_ds, verbose=2)\n",
    "plot_history(history)"
   ]
  },
  {
   "cell_type": "code",
   "execution_count": null,
   "metadata": {},
   "outputs": [],
   "source": []
  }
 ],
 "metadata": {
  "kernelspec": {
   "display_name": "Python [conda env:tf2_3]",
   "language": "python",
   "name": "conda-env-tf2_3-py"
  },
  "language_info": {
   "codemirror_mode": {
    "name": "ipython",
    "version": 3
   },
   "file_extension": ".py",
   "mimetype": "text/x-python",
   "name": "python",
   "nbconvert_exporter": "python",
   "pygments_lexer": "ipython3",
   "version": "3.6.11"
  }
 },
 "nbformat": 4,
 "nbformat_minor": 4
}
