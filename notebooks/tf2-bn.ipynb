{
 "cells": [
  {
   "cell_type": "markdown",
   "metadata": {},
   "source": [
    "# Classfication Network Architecture\n",
    "\n",
    "BatchNorm has some issue in tf2.0. The github issues say that the behaviour has changed and we need to be mindful of the flag `training:False | True`. This notebook attempts to figure out how to get BN to work in TF 2.x.\n",
    "\n",
    "In my previous notebooks, I have had dismal performance whenever I used BN.\n",
    "\n",
    "@date: 02-Sep-2020 | @author: katnoria"
   ]
  },
  {
   "cell_type": "code",
   "execution_count": 8,
   "metadata": {},
   "outputs": [],
   "source": [
    "import matplotlib.pyplot as plt\n",
    "import tensorflow as tf\n",
    "import tensorflow_datasets as tfds\n",
    "from tensorflow.keras.layers import Dense, Flatten, Conv2D, MaxPool2D, Dropout\n",
    "from tensorflow.keras.layers import BatchNormalization, Input, GlobalAveragePooling2D\n",
    "from tensorflow.keras import Model"
   ]
  },
  {
   "cell_type": "code",
   "execution_count": 9,
   "metadata": {},
   "outputs": [],
   "source": [
    "def version_info(cls):\n",
    "    print(f\"{cls.__name__}: {cls.__version__}\")"
   ]
  },
  {
   "cell_type": "code",
   "execution_count": 10,
   "metadata": {},
   "outputs": [
    {
     "name": "stdout",
     "output_type": "stream",
     "text": [
      "Version Used in this Notebook:\n",
      "tensorflow: 2.3.0\n",
      "tensorflow_datasets: 3.2.1\n"
     ]
    }
   ],
   "source": [
    "print(\"Version Used in this Notebook:\")\n",
    "version_info(tf)\n",
    "version_info(tfds)"
   ]
  },
  {
   "cell_type": "code",
   "execution_count": 11,
   "metadata": {},
   "outputs": [
    {
     "name": "stdout",
     "output_type": "stream",
     "text": [
      "Num GPUs Available:  1\n"
     ]
    }
   ],
   "source": [
    "print(\"Num GPUs Available: \", len(tf.config.experimental.list_physical_devices('GPU')))"
   ]
  },
  {
   "cell_type": "code",
   "execution_count": 12,
   "metadata": {},
   "outputs": [
    {
     "name": "stdout",
     "output_type": "stream",
     "text": [
      "1 Physical GPUs, 1 Logical GPU\n"
     ]
    }
   ],
   "source": [
    "gpus = tf.config.experimental.list_physical_devices('GPU')\n",
    "if gpus:\n",
    "  # Restrict TensorFlow to only use the first GPU\n",
    "  try:\n",
    "    tf.config.experimental.set_visible_devices(gpus[0], 'GPU')\n",
    "    logical_gpus = tf.config.experimental.list_logical_devices('GPU')\n",
    "    print(len(gpus), \"Physical GPUs,\", len(logical_gpus), \"Logical GPU\")\n",
    "  except RuntimeError as e:\n",
    "    # Visible devices must be set before GPUs have been initialized\n",
    "    print(e)"
   ]
  },
  {
   "cell_type": "markdown",
   "metadata": {},
   "source": [
    "# Dataset\n",
    "\n",
    "Tensorflow Datasets already provides this dataset in a format that we can use out of the box."
   ]
  },
  {
   "cell_type": "code",
   "execution_count": 13,
   "metadata": {},
   "outputs": [],
   "source": [
    "# Load the dataset\n",
    "(ds_train, ds_test), metadata = tfds.load(\n",
    "    'cifar10', split=['train', 'test'], shuffle_files=True, \n",
    "    with_info=True, as_supervised=True\n",
    ")"
   ]
  },
  {
   "cell_type": "code",
   "execution_count": 14,
   "metadata": {},
   "outputs": [
    {
     "data": {
      "text/plain": [
       "(50000, 10000, 10)"
      ]
     },
     "execution_count": 14,
     "metadata": {},
     "output_type": "execute_result"
    }
   ],
   "source": [
    "len(ds_train), len(ds_test), metadata.features['label'].num_classes"
   ]
  },
  {
   "cell_type": "markdown",
   "metadata": {},
   "source": [
    "Use the built in function to visualise the dataset "
   ]
  },
  {
   "cell_type": "code",
   "execution_count": 15,
   "metadata": {},
   "outputs": [
    {
     "data": {
      "text/plain": [
       "FeaturesDict({\n",
       "    'id': Text(shape=(), dtype=tf.string),\n",
       "    'image': Image(shape=(32, 32, 3), dtype=tf.uint8),\n",
       "    'label': ClassLabel(shape=(), dtype=tf.int64, num_classes=10),\n",
       "})"
      ]
     },
     "execution_count": 15,
     "metadata": {},
     "output_type": "execute_result"
    }
   ],
   "source": [
    "# Review metadata\n",
    "# See https://www.tensorflow.org/datasets/overview\n",
    "metadata.features"
   ]
  },
  {
   "cell_type": "code",
   "execution_count": 16,
   "metadata": {},
   "outputs": [
    {
     "name": "stdout",
     "output_type": "stream",
     "text": [
      "Training dataset size: 50000\n",
      "Test dataset size: 10000\n"
     ]
    }
   ],
   "source": [
    "NUM_CLASSES = metadata.features[\"label\"].num_classes\n",
    "\n",
    "num_train_examples = len(ds_train)\n",
    "num_test_examples = len(ds_test)\n",
    "print(f\"Training dataset size: {num_train_examples}\")\n",
    "print(f\"Test dataset size: {num_test_examples}\")"
   ]
  },
  {
   "cell_type": "markdown",
   "metadata": {},
   "source": [
    "### Training Pipeline"
   ]
  },
  {
   "cell_type": "code",
   "execution_count": 17,
   "metadata": {},
   "outputs": [],
   "source": [
    "IMG_SIZE = 32\n",
    "BATCH_SIZE = 256\n",
    "\n",
    "\n",
    "def preprocess_image(image, label):\n",
    "    image = tf.image.convert_image_dtype(image, tf.float32)\n",
    "#     image = tf.image.resize(image, (IMG_SIZE, IMG_SIZE))\n",
    "    return image / 255., label"
   ]
  },
  {
   "cell_type": "code",
   "execution_count": 18,
   "metadata": {},
   "outputs": [],
   "source": [
    "train_ds = ds_train.map(preprocess_image, num_parallel_calls=tf.data.experimental.AUTOTUNE) \\\n",
    "    .cache() \\\n",
    "    .shuffle(num_train_examples).batch(BATCH_SIZE, drop_remainder=True) \\\n",
    "    .prefetch(tf.data.experimental.AUTOTUNE) "
   ]
  },
  {
   "cell_type": "code",
   "execution_count": 19,
   "metadata": {},
   "outputs": [],
   "source": [
    "example = ds_train.take(1)"
   ]
  },
  {
   "cell_type": "code",
   "execution_count": 20,
   "metadata": {},
   "outputs": [
    {
     "data": {
      "image/png": "[encoded data removed]",
      "text/plain": [
       "<Figure size 432x288 with 1 Axes>"
      ]
     },
     "metadata": {
      "needs_background": "light"
     },
     "output_type": "display_data"
    }
   ],
   "source": [
    "for images, labels in example:\n",
    "    plt.imshow(images)"
   ]
  },
  {
   "cell_type": "markdown",
   "metadata": {},
   "source": [
    "### Evaluation Pipeline"
   ]
  },
  {
   "cell_type": "code",
   "execution_count": 21,
   "metadata": {},
   "outputs": [],
   "source": [
    "test_ds = ds_test.map(preprocess_image, num_parallel_calls=tf.data.experimental.AUTOTUNE) \\\n",
    "    .cache() \\\n",
    "    .batch(BATCH_SIZE, drop_remainder=True) \\\n",
    "    .prefetch(tf.data.experimental.AUTOTUNE) "
   ]
  },
  {
   "cell_type": "markdown",
   "metadata": {},
   "source": [
    "# Build Model\n",
    "\n",
    "We now build a simple convolution neural network"
   ]
  },
  {
   "cell_type": "markdown",
   "metadata": {},
   "source": [
    "# Use Pretrained Models\n",
    "\n",
    "Instead of training the full model, it is generally a good practice to use a pretrained network as a base model and add your layers on top. \n",
    "This allows us to reduce the training times and leverage on what base model has learned."
   ]
  },
  {
   "cell_type": "code",
   "execution_count": 22,
   "metadata": {},
   "outputs": [],
   "source": [
    "IMG_SIZE = 32\n",
    "BATCH_SIZE = 128"
   ]
  },
  {
   "cell_type": "markdown",
   "metadata": {},
   "source": [
    "Do not use the preprocessing we were using earlier, because we now use a pre-trained network as our feature extractor."
   ]
  },
  {
   "cell_type": "code",
   "execution_count": 23,
   "metadata": {},
   "outputs": [],
   "source": [
    "train_ds = ds_train \\\n",
    "    .cache() \\\n",
    "    .shuffle(num_train_examples).batch(BATCH_SIZE, drop_remainder=True) \\\n",
    "    .prefetch(tf.data.experimental.AUTOTUNE) "
   ]
  },
  {
   "cell_type": "code",
   "execution_count": 24,
   "metadata": {},
   "outputs": [],
   "source": [
    "example = ds_train.take(1)"
   ]
  },
  {
   "cell_type": "code",
   "execution_count": 25,
   "metadata": {},
   "outputs": [
    {
     "data": {
      "image/png": "[encoded data removed]",
      "text/plain": [
       "<Figure size 432x288 with 1 Axes>"
      ]
     },
     "metadata": {
      "needs_background": "light"
     },
     "output_type": "display_data"
    }
   ],
   "source": [
    "for images, labels in example:\n",
    "    plt.imshow(images)"
   ]
  },
  {
   "cell_type": "markdown",
   "metadata": {},
   "source": [
    "### Evaluation Pipeline"
   ]
  },
  {
   "cell_type": "code",
   "execution_count": 26,
   "metadata": {},
   "outputs": [],
   "source": [
    "test_ds = ds_test \\\n",
    "    .cache() \\\n",
    "    .batch(BATCH_SIZE, drop_remainder=True) \\\n",
    "    .prefetch(tf.data.experimental.AUTOTUNE) "
   ]
  },
  {
   "cell_type": "code",
   "execution_count": 27,
   "metadata": {},
   "outputs": [],
   "source": [
    "base_model = tf.keras.applications.ResNet50(input_shape=(IMG_SIZE, IMG_SIZE, 3), include_top=False)\n",
    "base_model.trainable = False"
   ]
  },
  {
   "cell_type": "code",
   "execution_count": 28,
   "metadata": {},
   "outputs": [],
   "source": [
    "def get_pretrained_model(base_model):\n",
    "    inputs = Input(shape=(IMG_SIZE, IMG_SIZE, 3))\n",
    "    x = tf.keras.applications.resnet.preprocess_input(inputs)\n",
    "    x = base_model(x, training=False)\n",
    "    x = GlobalAveragePooling2D()(x)\n",
    "    x = BatchNormalization()(x)\n",
    "    x = Dense(128, activation='relu')(x)\n",
    "    outputs = Dense(NUM_CLASSES)(x)\n",
    "    _model = tf.keras.Model(inputs, outputs)    \n",
    "    return _model"
   ]
  },
  {
   "cell_type": "code",
   "execution_count": 29,
   "metadata": {},
   "outputs": [
    {
     "name": "stdout",
     "output_type": "stream",
     "text": [
      "Model: \"functional_1\"\n",
      "_________________________________________________________________\n",
      "Layer (type)                 Output Shape              Param #   \n",
      "=================================================================\n",
      "input_2 (InputLayer)         [(None, 32, 32, 3)]       0         \n",
      "_________________________________________________________________\n",
      "tf_op_layer_strided_slice (T [(None, 32, 32, 3)]       0         \n",
      "_________________________________________________________________\n",
      "tf_op_layer_BiasAdd (TensorF [(None, 32, 32, 3)]       0         \n",
      "_________________________________________________________________\n",
      "resnet50 (Functional)        (None, 1, 1, 2048)        23587712  \n",
      "_________________________________________________________________\n",
      "global_average_pooling2d (Gl (None, 2048)              0         \n",
      "_________________________________________________________________\n",
      "batch_normalization (BatchNo (None, 2048)              8192      \n",
      "_________________________________________________________________\n",
      "dense (Dense)                (None, 128)               262272    \n",
      "_________________________________________________________________\n",
      "dense_1 (Dense)              (None, 10)                1290      \n",
      "=================================================================\n",
      "Total params: 23,859,466\n",
      "Trainable params: 267,658\n",
      "Non-trainable params: 23,591,808\n",
      "_________________________________________________________________\n"
     ]
    }
   ],
   "source": [
    "resnet_model = get_pretrained_model(base_model)\n",
    "resnet_model.summary()"
   ]
  },
  {
   "cell_type": "code",
   "execution_count": 31,
   "metadata": {},
   "outputs": [],
   "source": [
    "# a higher learning rate for BN\n",
    "lr = 1e-2\n",
    "resnet_model.compile(\n",
    "    optimizer=tf.keras.optimizers.Adam(lr),\n",
    "    loss=tf.keras.losses.SparseCategoricalCrossentropy(from_logits=True),\n",
    "    metrics=['accuracy']\n",
    ")\n",
    "\n",
    "reduce_lr = tf.keras.callbacks.ReduceLROnPlateau(monitor='val_loss', factor=0.2,\n",
    "                              patience=5, min_lr=0.001)"
   ]
  },
  {
   "cell_type": "code",
   "execution_count": 32,
   "metadata": {},
   "outputs": [
    {
     "name": "stdout",
     "output_type": "stream",
     "text": [
      "78/78 [==============================] - 1s 11ms/step - loss: 5.8234 - accuracy: 0.1123\n"
     ]
    },
    {
     "data": {
      "text/plain": [
       "[5.823361396789551, 0.11227964609861374]"
      ]
     },
     "execution_count": 32,
     "metadata": {},
     "output_type": "execute_result"
    }
   ],
   "source": [
    "resnet_model.evaluate(test_ds)"
   ]
  },
  {
   "cell_type": "code",
   "execution_count": 33,
   "metadata": {},
   "outputs": [
    {
     "name": "stdout",
     "output_type": "stream",
     "text": [
      "Epoch 1/50\n",
      "386/390 [============================>.] - ETA: 0s - loss: 1.2936 - accuracy: 0.5864WARNING:tensorflow:Callbacks method `on_test_batch_end` is slow compared to the batch time (batch time: 0.0041s vs `on_test_batch_end` time: 0.0064s). Check your callbacks.\n"
     ]
    },
    {
     "name": "stderr",
     "output_type": "stream",
     "text": [
      "WARNING:tensorflow:Callbacks method `on_test_batch_end` is slow compared to the batch time (batch time: 0.0041s vs `on_test_batch_end` time: 0.0064s). Check your callbacks.\n"
     ]
    },
    {
     "name": "stdout",
     "output_type": "stream",
     "text": [
      "390/390 [==============================] - 5s 14ms/step - loss: 1.2924 - accuracy: 0.5865 - val_loss: 1.0645 - val_accuracy: 0.6297\n",
      "Epoch 2/50\n",
      "390/390 [==============================] - 5s 13ms/step - loss: 1.0096 - accuracy: 0.6498 - val_loss: 1.1006 - val_accuracy: 0.6328\n",
      "Epoch 3/50\n",
      "390/390 [==============================] - 5s 14ms/step - loss: 0.9417 - accuracy: 0.6764 - val_loss: 1.0572 - val_accuracy: 0.6471\n",
      "Epoch 4/50\n",
      "390/390 [==============================] - 5s 14ms/step - loss: 0.8805 - accuracy: 0.6958 - val_loss: 1.0846 - val_accuracy: 0.6392\n",
      "Epoch 5/50\n",
      "390/390 [==============================] - 5s 14ms/step - loss: 0.8338 - accuracy: 0.7109 - val_loss: 1.1357 - val_accuracy: 0.6349\n",
      "Epoch 6/50\n",
      "390/390 [==============================] - 5s 14ms/step - loss: 0.7880 - accuracy: 0.7281 - val_loss: 1.2196 - val_accuracy: 0.6260\n",
      "Epoch 7/50\n",
      "390/390 [==============================] - 5s 14ms/step - loss: 0.7610 - accuracy: 0.7369 - val_loss: 1.2173 - val_accuracy: 0.6284\n",
      "Epoch 8/50\n",
      "390/390 [==============================] - 5s 14ms/step - loss: 0.7324 - accuracy: 0.7487 - val_loss: 1.2209 - val_accuracy: 0.6314\n",
      "Epoch 9/50\n",
      "390/390 [==============================] - 5s 14ms/step - loss: 0.5203 - accuracy: 0.8175 - val_loss: 1.2208 - val_accuracy: 0.6560\n",
      "Epoch 10/50\n",
      "390/390 [==============================] - 5s 14ms/step - loss: 0.4311 - accuracy: 0.8483 - val_loss: 1.2501 - val_accuracy: 0.6564\n",
      "Epoch 11/50\n",
      "390/390 [==============================] - 5s 14ms/step - loss: 0.3935 - accuracy: 0.8600 - val_loss: 1.3210 - val_accuracy: 0.6553\n",
      "Epoch 12/50\n",
      "390/390 [==============================] - 5s 14ms/step - loss: 0.3614 - accuracy: 0.8705 - val_loss: 1.3795 - val_accuracy: 0.6540\n",
      "Epoch 13/50\n",
      "390/390 [==============================] - 5s 14ms/step - loss: 0.3291 - accuracy: 0.8825 - val_loss: 1.4975 - val_accuracy: 0.6467\n",
      "Epoch 14/50\n",
      "390/390 [==============================] - 5s 13ms/step - loss: 0.2845 - accuracy: 0.8991 - val_loss: 1.5232 - val_accuracy: 0.6500\n",
      "Epoch 15/50\n",
      "390/390 [==============================] - 5s 14ms/step - loss: 0.2655 - accuracy: 0.9049 - val_loss: 1.5650 - val_accuracy: 0.6509\n",
      "Epoch 16/50\n",
      "390/390 [==============================] - 5s 14ms/step - loss: 0.2496 - accuracy: 0.9116 - val_loss: 1.6227 - val_accuracy: 0.6499\n",
      "Epoch 17/50\n",
      "390/390 [==============================] - 5s 14ms/step - loss: 0.2379 - accuracy: 0.9161 - val_loss: 1.7180 - val_accuracy: 0.6491\n",
      "Epoch 18/50\n",
      "390/390 [==============================] - 5s 14ms/step - loss: 0.2279 - accuracy: 0.9190 - val_loss: 1.7437 - val_accuracy: 0.6495\n",
      "Epoch 19/50\n",
      "390/390 [==============================] - 5s 14ms/step - loss: 0.2155 - accuracy: 0.9232 - val_loss: 1.7942 - val_accuracy: 0.6444\n",
      "Epoch 20/50\n",
      "390/390 [==============================] - 5s 14ms/step - loss: 0.2059 - accuracy: 0.9263 - val_loss: 1.8521 - val_accuracy: 0.6444\n",
      "Epoch 21/50\n",
      "390/390 [==============================] - 5s 14ms/step - loss: 0.1936 - accuracy: 0.9320 - val_loss: 1.8499 - val_accuracy: 0.6457\n",
      "Epoch 22/50\n",
      "390/390 [==============================] - 5s 14ms/step - loss: 0.1854 - accuracy: 0.9344 - val_loss: 1.9091 - val_accuracy: 0.6454\n",
      "Epoch 23/50\n",
      "390/390 [==============================] - 5s 14ms/step - loss: 0.1754 - accuracy: 0.9374 - val_loss: 1.9885 - val_accuracy: 0.6474\n",
      "Epoch 24/50\n",
      "390/390 [==============================] - 5s 14ms/step - loss: 0.1658 - accuracy: 0.9404 - val_loss: 2.0185 - val_accuracy: 0.6449\n",
      "Epoch 25/50\n",
      "390/390 [==============================] - 5s 14ms/step - loss: 0.1611 - accuracy: 0.9434 - val_loss: 2.0889 - val_accuracy: 0.6420\n",
      "Epoch 26/50\n",
      "390/390 [==============================] - 5s 14ms/step - loss: 0.1536 - accuracy: 0.9456 - val_loss: 2.0928 - val_accuracy: 0.6412\n",
      "Epoch 27/50\n",
      "390/390 [==============================] - 5s 14ms/step - loss: 0.1474 - accuracy: 0.9484 - val_loss: 2.1871 - val_accuracy: 0.6388\n",
      "Epoch 28/50\n",
      "390/390 [==============================] - 5s 14ms/step - loss: 0.1427 - accuracy: 0.9510 - val_loss: 2.2707 - val_accuracy: 0.6417\n",
      "Epoch 29/50\n",
      "390/390 [==============================] - 5s 14ms/step - loss: 0.1392 - accuracy: 0.9509 - val_loss: 2.2726 - val_accuracy: 0.6381\n",
      "Epoch 30/50\n",
      "390/390 [==============================] - 5s 14ms/step - loss: 0.1319 - accuracy: 0.9536 - val_loss: 2.3175 - val_accuracy: 0.6436\n",
      "Epoch 31/50\n",
      "390/390 [==============================] - 5s 14ms/step - loss: 0.1289 - accuracy: 0.9550 - val_loss: 2.3290 - val_accuracy: 0.6374\n",
      "Epoch 32/50\n",
      "390/390 [==============================] - 5s 14ms/step - loss: 0.1228 - accuracy: 0.9571 - val_loss: 2.3851 - val_accuracy: 0.6410\n",
      "Epoch 33/50\n",
      "390/390 [==============================] - 5s 14ms/step - loss: 0.1175 - accuracy: 0.9586 - val_loss: 2.4287 - val_accuracy: 0.6366\n",
      "Epoch 34/50\n",
      "390/390 [==============================] - 5s 14ms/step - loss: 0.1138 - accuracy: 0.9602 - val_loss: 2.5247 - val_accuracy: 0.6404\n",
      "Epoch 35/50\n",
      "390/390 [==============================] - 5s 14ms/step - loss: 0.1114 - accuracy: 0.9605 - val_loss: 2.5040 - val_accuracy: 0.6395\n",
      "Epoch 36/50\n",
      "390/390 [==============================] - 5s 14ms/step - loss: 0.1071 - accuracy: 0.9616 - val_loss: 2.5528 - val_accuracy: 0.6403\n",
      "Epoch 37/50\n",
      "390/390 [==============================] - 5s 14ms/step - loss: 0.1011 - accuracy: 0.9651 - val_loss: 2.6198 - val_accuracy: 0.6406\n",
      "Epoch 38/50\n",
      "390/390 [==============================] - 5s 14ms/step - loss: 0.0988 - accuracy: 0.9659 - val_loss: 2.6188 - val_accuracy: 0.6376\n",
      "Epoch 39/50\n",
      "390/390 [==============================] - 5s 14ms/step - loss: 0.0992 - accuracy: 0.9655 - val_loss: 2.6783 - val_accuracy: 0.6362\n",
      "Epoch 40/50\n",
      "390/390 [==============================] - 5s 14ms/step - loss: 0.0943 - accuracy: 0.9675 - val_loss: 2.7316 - val_accuracy: 0.6361\n",
      "Epoch 41/50\n",
      "390/390 [==============================] - 5s 14ms/step - loss: 0.0933 - accuracy: 0.9683 - val_loss: 2.7801 - val_accuracy: 0.6369\n",
      "Epoch 42/50\n",
      "390/390 [==============================] - 5s 14ms/step - loss: 0.0899 - accuracy: 0.9683 - val_loss: 2.8489 - val_accuracy: 0.6401\n",
      "Epoch 43/50\n",
      "390/390 [==============================] - 5s 14ms/step - loss: 0.0875 - accuracy: 0.9702 - val_loss: 2.8434 - val_accuracy: 0.6331\n",
      "Epoch 44/50\n",
      "390/390 [==============================] - 5s 14ms/step - loss: 0.0865 - accuracy: 0.9704 - val_loss: 2.8284 - val_accuracy: 0.6373\n",
      "Epoch 45/50\n",
      "390/390 [==============================] - 5s 14ms/step - loss: 0.0837 - accuracy: 0.9707 - val_loss: 2.8401 - val_accuracy: 0.6358\n",
      "Epoch 46/50\n",
      "390/390 [==============================] - 5s 14ms/step - loss: 0.0827 - accuracy: 0.9713 - val_loss: 2.9279 - val_accuracy: 0.6345\n",
      "Epoch 47/50\n",
      "390/390 [==============================] - 5s 14ms/step - loss: 0.0803 - accuracy: 0.9725 - val_loss: 2.9384 - val_accuracy: 0.6378\n",
      "Epoch 48/50\n",
      "390/390 [==============================] - 5s 14ms/step - loss: 0.0776 - accuracy: 0.9732 - val_loss: 2.9019 - val_accuracy: 0.6391\n",
      "Epoch 49/50\n",
      "390/390 [==============================] - 5s 14ms/step - loss: 0.0761 - accuracy: 0.9742 - val_loss: 2.9989 - val_accuracy: 0.6350\n",
      "Epoch 50/50\n",
      "390/390 [==============================] - 5s 14ms/step - loss: 0.0730 - accuracy: 0.9755 - val_loss: 3.0361 - val_accuracy: 0.6352\n"
     ]
    }
   ],
   "source": [
    "# We are going to train for 50 epochs\n",
    "history = resnet_model.fit(train_ds, epochs=50, validation_data=test_ds, callbacks=[reduce_lr])"
   ]
  },
  {
   "cell_type": "markdown",
   "metadata": {},
   "source": [
    "### Plot the plots"
   ]
  },
  {
   "cell_type": "code",
   "execution_count": 34,
   "metadata": {},
   "outputs": [],
   "source": [
    "def plot_history(history):\n",
    "    plt.style.use('seaborn')\n",
    "    acc = history.history['accuracy']\n",
    "    val_acc = history.history['val_accuracy']\n",
    "    \n",
    "    fig, (ax1, ax2) = plt.subplots(1, 2, figsize=(12, 4))    \n",
    "\n",
    "    ax1.plot(acc, label=\"Training Accuracy\")\n",
    "    ax1.plot(val_acc, label=\"Validation Accuracy\")\n",
    "    ax1.set_xlabel('Epochs')\n",
    "    ax1.set_ylabel('Accuracy')    \n",
    "    ax1.legend(loc='lower right')\n",
    "    ax1.set_title(\"Training and Validation Accuracy\")\n",
    "    \n",
    "    loss = history.history['loss']\n",
    "    val_loss = history.history['val_loss']\n",
    "    ax2.plot(loss, label=\"Training Loss\")\n",
    "    ax2.plot(val_loss, label=\"Validation Loss\")\n",
    "    ax2.set_xlabel('Epochs')\n",
    "    ax2.set_ylabel('Loss')    \n",
    "    ax2.legend(loc='upper right')\n",
    "    ax2.set_title(\"Training and Validation Loss\")\n",
    "    \n",
    "    plt.show()"
   ]
  },
  {
   "cell_type": "code",
   "execution_count": 35,
   "metadata": {},
   "outputs": [
    {
     "data": {
      "image/png": "[encoded data removed]",
      "text/plain": [
       "<Figure size 864x288 with 2 Axes>"
      ]
     },
     "metadata": {},
     "output_type": "display_data"
    }
   ],
   "source": [
    "plot_history(history)"
   ]
  },
  {
   "cell_type": "markdown",
   "metadata": {},
   "source": [
    "# Model 2: Remove Dense Layers\n",
    "\n",
    "Our model is overfitting so we can try to reduce the capacity of our network"
   ]
  },
  {
   "cell_type": "code",
   "execution_count": null,
   "metadata": {},
   "outputs": [],
   "source": []
  },
  {
   "cell_type": "code",
   "execution_count": 36,
   "metadata": {},
   "outputs": [],
   "source": [
    "base_model = tf.keras.applications.ResNet50(input_shape=(IMG_SIZE, IMG_SIZE, 3), include_top=False)\n",
    "base_model.trainable = False"
   ]
  },
  {
   "cell_type": "code",
   "execution_count": 37,
   "metadata": {},
   "outputs": [],
   "source": [
    "def get_pretrained_model_no_dense(base_model):\n",
    "    inputs = Input(shape=(IMG_SIZE, IMG_SIZE, 3))\n",
    "    x = tf.keras.applications.resnet.preprocess_input(inputs)\n",
    "    x = base_model(x, training=False)\n",
    "    x = GlobalAveragePooling2D()(x)\n",
    "    x = BatchNormalization()(x)\n",
    "    outputs = Dense(NUM_CLASSES)(x)\n",
    "    _model = tf.keras.Model(inputs, outputs)    \n",
    "    return _model"
   ]
  },
  {
   "cell_type": "code",
   "execution_count": 38,
   "metadata": {},
   "outputs": [
    {
     "name": "stdout",
     "output_type": "stream",
     "text": [
      "Model: \"functional_3\"\n",
      "_________________________________________________________________\n",
      "Layer (type)                 Output Shape              Param #   \n",
      "=================================================================\n",
      "input_4 (InputLayer)         [(None, 32, 32, 3)]       0         \n",
      "_________________________________________________________________\n",
      "tf_op_layer_strided_slice_1  [(None, 32, 32, 3)]       0         \n",
      "_________________________________________________________________\n",
      "tf_op_layer_BiasAdd_1 (Tenso [(None, 32, 32, 3)]       0         \n",
      "_________________________________________________________________\n",
      "resnet50 (Functional)        (None, 1, 1, 2048)        23587712  \n",
      "_________________________________________________________________\n",
      "global_average_pooling2d_1 ( (None, 2048)              0         \n",
      "_________________________________________________________________\n",
      "batch_normalization_1 (Batch (None, 2048)              8192      \n",
      "_________________________________________________________________\n",
      "dense_2 (Dense)              (None, 10)                20490     \n",
      "=================================================================\n",
      "Total params: 23,616,394\n",
      "Trainable params: 24,586\n",
      "Non-trainable params: 23,591,808\n",
      "_________________________________________________________________\n"
     ]
    }
   ],
   "source": [
    "resnet_no_dense_model = get_pretrained_model_no_dense(base_model)\n",
    "resnet_no_dense_model.summary()"
   ]
  },
  {
   "cell_type": "code",
   "execution_count": null,
   "metadata": {},
   "outputs": [
    {
     "name": "stdout",
     "output_type": "stream",
     "text": [
      "Epoch 1/50\n",
      "390/390 [==============================] - 6s 15ms/step - loss: 1.6091 - accuracy: 0.5808 - val_loss: 1.1939 - val_accuracy: 0.6297\n",
      "Epoch 2/50\n",
      "116/390 [=======>......................] - ETA: 3s - loss: 1.0375 - accuracy: 0.6583"
     ]
    }
   ],
   "source": [
    "# a higher learning rate for BN\n",
    "lr = 1e-2\n",
    "resnet_no_dense_model.compile(\n",
    "    optimizer=tf.keras.optimizers.Adam(lr),\n",
    "    loss=tf.keras.losses.SparseCategoricalCrossentropy(from_logits=True),\n",
    "    metrics=['accuracy']\n",
    ")\n",
    "\n",
    "reduce_lr = tf.keras.callbacks.ReduceLROnPlateau(monitor='val_loss', factor=0.2,\n",
    "                              patience=5, min_lr=0.001)\n",
    "\n",
    "# We are going to train for 50 epochs\n",
    "history = resnet_no_dense_model.fit(train_ds, epochs=50, validation_data=test_ds, callbacks=[reduce_lr])"
   ]
  },
  {
   "cell_type": "code",
   "execution_count": null,
   "metadata": {},
   "outputs": [],
   "source": [
    "plot_history(history)"
   ]
  },
  {
   "cell_type": "code",
   "execution_count": null,
   "metadata": {},
   "outputs": [],
   "source": []
  }
 ],
 "metadata": {
  "kernelspec": {
   "display_name": "Python [conda env:tf2_3]",
   "language": "python",
   "name": "conda-env-tf2_3-py"
  },
  "language_info": {
   "codemirror_mode": {
    "name": "ipython",
    "version": 3
   },
   "file_extension": ".py",
   "mimetype": "text/x-python",
   "name": "python",
   "nbconvert_exporter": "python",
   "pygments_lexer": "ipython3",
   "version": "3.6.11"
  }
 },
 "nbformat": 4,
 "nbformat_minor": 4
}
